{
 "cells": [
  {
   "cell_type": "code",
   "execution_count": 55,
   "metadata": {},
   "outputs": [],
   "source": [
    "#Representacion de un edifio de 5 plantas \n",
    "\n",
    "#Estado inicial \n",
    "#             0     1    2     3    4\n",
    "#ini_state = ([-1], [0], [3], [0], [0])#Trupla para que sea inmutable\n",
    "#                 0            1    2     3    4\n",
    "ini_state = ([(\"A1\", [])], [], [3], [], []) # cada posicion de la tupla Estado es una planta del edificio \n",
    "# cada planta contiene una lista con las personas que se encuentran en esa planta. \n",
    "#en caso del ascensor estara representado por una tupla especificando que es un ascensor y otro elemnto con la lista \n",
    "# de personas que van dentro. \n",
    "# si la planta tiene una lista vacia [] significa que no hay nadie en esa planta\n",
    "\n",
    "\n",
    "\n",
    "\n",
    "# interpretacion: \n",
    "\"\"\" \n",
    "Por cada planta hay una lista con el numero de personas que hay en ese momento, en el caso del ascensor se representa \n",
    "con un -1\n",
    "\n",
    "El indice representa las plantas del edificio. \n",
    "-1 es el ascensor, ya que esta en la posicion 0 de la trupla esta en la planta baja\n",
    "0 significa que no hay nadie. \n",
    "3 que hay una persona que quiere subir a la planta 3 \n",
    "\"\"\"\n",
    "\n",
    "#Estado objetivo \n",
    "#              0    1    2        3            4\n",
    "goal_state = ([], [], [], [(\"A1\", []), 3], [])\n",
    "\n",
    "#-3 significa que que hay una persona que su objetivo esta en la planta 3 y que sea negativo que es ascensor esta \n",
    "#en la misma planta.\n",
    "\n",
    "#ACCIONES:\n",
    "\n",
    "#Subir: sube el ascensor con una persona \n",
    "#bajar: baja el ascensor con personas dentro\n",
    "#llamar: lleva el ascensor a donde este la persona que lo solicita \n",
    "\n"
   ]
  },
  {
   "cell_type": "code",
   "execution_count": 155,
   "metadata": {},
   "outputs": [],
   "source": [
    "def buscarPersona(estado):\n",
    "        \n",
    "    l = list(estado)\n",
    "    i = 0\n",
    "    j = 0\n",
    "    encontrado = False\n",
    "\n",
    "    while i < (len(l)) and (not encontrado): \n",
    "\n",
    "        planta = l[i]\n",
    "\n",
    "        if bool(planta) == True: \n",
    "            while j < (len(planta)): \n",
    "\n",
    "                if type(planta[j]) == int:\n",
    "                    if planta[j] != i:\n",
    "                        persona = (planta[j], i) # planta[j] es la posicion objetivo i es la posicion en la quwe se encuentra\n",
    "                        encontrado = True\n",
    "                        break\n",
    "                j = j + 1\n",
    "\n",
    "        j = 0\n",
    "        i = i + 1\n",
    "    return persona\n"
   ]
  },
  {
   "cell_type": "code",
   "execution_count": 157,
   "metadata": {},
   "outputs": [],
   "source": [
    "def buscarAscensor(estado): \n",
    "    encontrado = False\n",
    "\n",
    "    l = list(ini_state)\n",
    "\n",
    "    for i in range (len(l)):\n",
    "        planta = l[i]\n",
    "\n",
    "        for j in range (len(planta)):\n",
    "            if type(planta[j]) == tuple: \n",
    "                ascensor = ((planta[j]), i)\n",
    "    return ascensor"
   ]
  },
  {
   "cell_type": "code",
   "execution_count": 158,
   "metadata": {},
   "outputs": [],
   "source": [
    "#Importamos las librerias necesarias de aima para resover el problema \n",
    "from search import *\n",
    "\n",
    "class Ascensores(Problem):\n",
    "    \n",
    "     def __init__(self, initial, goal):\n",
    "        '''Inicializacion de nuestro problema.'''\n",
    "        self.goal = goal\n",
    "        Problem.__init__(self, initial, goal)\n",
    "\n",
    "           \n",
    "     \n",
    "    \n",
    "     def actions(self, estado):\n",
    "            '''Acciones que se puede realizar con el estado dado'''\n",
    "     \n",
    "            persona = buscarPersona(estado)\n",
    "            ascensor = buscarAscensor(estado)\n",
    "            \n",
    "            accs = list()\n",
    "            \n",
    "            if(persona[1] != ascensor[1]): \n",
    "                accs.append((\"Llamar \",str(persona[1])));\n",
    "            if persona[1] == ascensor[1] and persona[0] > ascensor[1]: # persona[0] objetivo ascensor[1] donde estan los dos\n",
    "                accs.append((\"Subir \",str(persona[0])));\n",
    "            if persona[1] == ascensor[1] and persona[0] < ascensor[1]: # persona[0] objetivo ascensor[1] donde estan los dos\n",
    "                accs.append((\"Bajar \",str(persona[0])));\n",
    "            \n",
    "            return accs\n",
    "\n",
    "    def result(self, estado, accion):\n",
    "        l = list(estado)\n",
    "        persona = buscarPersona(estado)\n",
    "        ascensor = buscarAscensor(estado)\n",
    "        \n",
    "        plantaAscensor = ascensor[1]\n",
    "        plantaPersona = persona[1]\n",
    "        plantaObjetivo = persona[0]\n",
    "        \n",
    "        elemAscensor = l[plantaAscensor]\n",
    "        \n",
    "        plantaActual = l[plantaPersona]\n",
    "        pos_ascensorEnPlanta = plantaActual.index(elemAscensor)\n",
    "        \n",
    "        \n",
    "        \n",
    "        if accion[0] == \"Llamar\":\n",
    "            l[plantaAscensor].remove(elemAscensor)\n",
    "            l[plantaPersona].insert(0, elemAscensor)\n",
    "        elif accion[0] == \"Bajar\":\n",
    "            plantaActual[pos_ascensorEnPlanta][1].append(plantaObjetivo)\n",
    "            "
   ]
  },
  {
   "cell_type": "code",
   "execution_count": 159,
   "metadata": {},
   "outputs": [
    {
     "data": {
      "text/plain": [
       "([('A1', [])], [], [3], [], [])"
      ]
     },
     "execution_count": 159,
     "metadata": {},
     "output_type": "execute_result"
    }
   ],
   "source": [
    "p = Ascensores(([(\"A1\", [])], [], [3], [], []), ([], [], [], [(\"A1\", []), 3], []))\n",
    "p.initial\n",
    "#print(p.initial)"
   ]
  },
  {
   "cell_type": "code",
   "execution_count": 160,
   "metadata": {},
   "outputs": [
    {
     "data": {
      "text/plain": [
       "[('Llamar ', '2')]"
      ]
     },
     "execution_count": 160,
     "metadata": {},
     "output_type": "execute_result"
    }
   ],
   "source": [
    "p.actions(p.initial)"
   ]
  },
  {
   "cell_type": "code",
   "execution_count": null,
   "metadata": {},
   "outputs": [],
   "source": []
  }
 ],
 "metadata": {
  "kernelspec": {
   "display_name": "Python 3",
   "language": "python",
   "name": "python3"
  },
  "language_info": {
   "codemirror_mode": {
    "name": "ipython",
    "version": 3
   },
   "file_extension": ".py",
   "mimetype": "text/x-python",
   "name": "python",
   "nbconvert_exporter": "python",
   "pygments_lexer": "ipython3",
   "version": "3.7.3"
  }
 },
 "nbformat": 4,
 "nbformat_minor": 2
}
