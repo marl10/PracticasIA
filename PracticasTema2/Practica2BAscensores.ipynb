{
 "cells": [
  {
   "cell_type": "code",
   "execution_count": 19,
   "metadata": {},
   "outputs": [],
   "source": [
    "#Representacion de los estados para la resolaucion del problema de los ascensores. \n",
    "\n",
    "#Estado Inicial: \n",
    "#          * personas indicando la plata actual en la que estan\n",
    "#ini = ((1, 3, 4), ((0,[]),(0,[])))\n",
    "ini = ((1, 3, 4), (0,0))\n",
    "#                   * Ascensores tambien indicando en la planta actual en la que estan. \n",
    "\n",
    "\n",
    "fin = ((2, 4, 1)) #Reresentacion des estado final solo de las personas ya que los ascensores no importa doende \n",
    "#acaben \n"
   ]
  },
  {
   "cell_type": "code",
   "execution_count": 52,
   "metadata": {},
   "outputs": [],
   "source": [
    "# importamos las cosas que vamos a usar de aima\n",
    "from search import *\n",
    "\n",
    "class Ascensores(Problem):\n",
    "    ''' Clase Ascensores la cual implenta la clase abstracta Problema que nos ayuda a resover el porblema\n",
    "           con varias funciones de busqueda '''\n",
    "    def __init__(self,initial, goal):\n",
    "        '''Metodo que inicializa nustro problema'''\n",
    "        Problem.__init__(self, initial, goal)\n",
    "        #self.search = initial\n",
    "        self.goal = goal\n",
    "        \n",
    "\n",
    "    def actions(self, estado):\n",
    "        '''Apartir de un estado(n) dado nos lista un conjunto de acciones(a) que le podimos aplicar a n para\n",
    "        alcanzar otro estado n'  ''' \n",
    "        \n",
    "        listaPersonas = list(estado[0])\n",
    "        listAscensores = list(estado[1])\n",
    "        \n",
    "        acciones = list() \n",
    "        print(\"i= pos persona en la lista, j pos ascensor en lista, accion\")\n",
    "        for i in range (len(listaPersonas)):\n",
    "            persona = int(listaPersonas[i])\n",
    "            \n",
    "            for j in range (len(listAscensores)):\n",
    "                ascensor = int(listAscensores[j])\n",
    "                if persona != ascensor: \n",
    "                    acciones.append((i,j, \"Llamar\")) # sube al ascensor j a la planta donde esta la persona i\n",
    "                if persona == ascensor and int(persona) < 12: # para si la persona esta en la ultima planta solo\n",
    "                    acciones.append((i,j, \"Bajar\"))           #pordria bajar \n",
    "                if persona == ascensor and int(persona) > 0: # Idem pero al reves \n",
    "                    acciones.append((i,j, \"Subir\"))\n",
    "                #en el momento que ascensor este en la misma planta que la persona el arbol se ramifica en dos caminos\n",
    "                #por lo que se generaran estas dos acciones. Quien decida que accion utilizar será la heuristica \n",
    "                #puesto que cogere la que menos heuristica tenga ya que estará mas cerca de la solución\n",
    "                \n",
    "        return acciones; \n",
    "\n",
    "        \n",
    "    #accion = (plantaPersona,PlantaAscensor, accion en string)\n",
    "    def result(self, estado, accion):\n",
    "        '''Dado un estado(n, nodo actual) y una accion(a) nos permite general un nuevo nodo(n') aplicando la accion dada'''\n",
    "        l = list(estado)\n",
    "        listaPersonas = list(estado[0])\n",
    "        listAscensores = list(estado[1])\n",
    "        \n",
    "        persona = accion[0]\n",
    "        ascensor = accion[1]\n",
    "        \n",
    "        actualPersona = listaPersonas[persona]\n",
    "        actualAscensor = listAscensores[ascensor]\n",
    "        \n",
    "        if accion[2] == \"Llamar\":\n",
    "            listAscensores[ascensor] = actualPersona\n",
    "        if accion[2] == \"Bajar\": \n",
    "            listaPersonas[actualPersona] -= 1\n",
    "            listAscensores[actualAscensor] -=1\n",
    "        if accion[2] == \"Subir\": \n",
    "            listaPersonas[actualPersona] += 1\n",
    "            listAscensores[actualAscensor] +=1\n",
    "        \n",
    "        return (tuple(listaPersonas), tuple(listAscensores))\n",
    "    \n",
    "    def goal_test(self, estado):\n",
    "        return estado[0] == self.goal \n",
    "\n"
   ]
  },
  {
   "cell_type": "code",
   "execution_count": 53,
   "metadata": {},
   "outputs": [
    {
     "data": {
      "text/plain": [
       "((1, 3, 4), (0, 0))"
      ]
     },
     "execution_count": 53,
     "metadata": {},
     "output_type": "execute_result"
    }
   ],
   "source": [
    "p = Ascensores(ini, fin)\n",
    "p.initial"
   ]
  },
  {
   "cell_type": "code",
   "execution_count": 54,
   "metadata": {},
   "outputs": [
    {
     "name": "stdout",
     "output_type": "stream",
     "text": [
      "i= pos persona en la lista, j pos ascensor en lista, accion\n"
     ]
    },
    {
     "data": {
      "text/plain": [
       "[(0, 0, 'Llamar'),\n",
       " (0, 1, 'Llamar'),\n",
       " (1, 0, 'Llamar'),\n",
       " (1, 1, 'Llamar'),\n",
       " (2, 0, 'Llamar'),\n",
       " (2, 1, 'Llamar')]"
      ]
     },
     "execution_count": 54,
     "metadata": {},
     "output_type": "execute_result"
    }
   ],
   "source": [
    "p.actions(p.initial)"
   ]
  },
  {
   "cell_type": "code",
   "execution_count": 55,
   "metadata": {},
   "outputs": [
    {
     "data": {
      "text/plain": [
       "((1, 3, 4), (1, 0))"
      ]
     },
     "execution_count": 55,
     "metadata": {},
     "output_type": "execute_result"
    }
   ],
   "source": [
    "p.result(p.initial, (0,0, \"Llamar\"))"
   ]
  },
  {
   "cell_type": "code",
   "execution_count": null,
   "metadata": {},
   "outputs": [],
   "source": []
  },
  {
   "cell_type": "code",
   "execution_count": null,
   "metadata": {},
   "outputs": [],
   "source": []
  }
 ],
 "metadata": {
  "kernelspec": {
   "display_name": "Python 3",
   "language": "python",
   "name": "python3"
  },
  "language_info": {
   "codemirror_mode": {
    "name": "ipython",
    "version": 3
   },
   "file_extension": ".py",
   "mimetype": "text/x-python",
   "name": "python",
   "nbconvert_exporter": "python",
   "pygments_lexer": "ipython3",
   "version": "3.7.3"
  }
 },
 "nbformat": 4,
 "nbformat_minor": 2
}
