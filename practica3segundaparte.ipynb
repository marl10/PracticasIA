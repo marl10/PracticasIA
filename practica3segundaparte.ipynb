{
 "cells": [
  {
   "cell_type": "code",
   "execution_count": 9,
   "metadata": {},
   "outputs": [],
   "source": [
    "import random"
   ]
  },
  {
   "cell_type": "code",
   "execution_count": 10,
   "metadata": {},
   "outputs": [],
   "source": [
    "##Las tareas tiene que hacerse en el órden que aparecen en el array\n",
    "genes = [0,1]\n",
    "trabajadores = [[2,  4,  7,  4, 2],\n",
    "                [-1, 32, 1,  2, -1],\n",
    "                [3,  4,  -1, 5, 4],\n",
    "                [7, -1,  2, -1, 8]]\n",
    "longindividuo = [5,4] #Num tareas y num trabajadores"
   ]
  },
  {
   "cell_type": "code",
   "execution_count": 11,
   "metadata": {},
   "outputs": [],
   "source": [
    "#trabajadores[numeroDeTrabajador][Tarea]"
   ]
  },
  {
   "cell_type": "code",
   "execution_count": 12,
   "metadata": {},
   "outputs": [],
   "source": [
    "class ProblemaGenetico(object):\n",
    "        def __init__(self, genes,fun_dec,fun_muta , fun_cruza, fun_fitness,longitud_individuos):\n",
    "            self.genes = genes\n",
    "            self.fun_dec = fun_dec\n",
    "            self.fun_cruza = fun_cruza\n",
    "            self.fun_muta = fun_muta\n",
    "            self.fun_fitness = fun_fitness\n",
    "            self.longitud_individuos = longitud_individuos\n",
    "            \"\"\"Constructor de la clase\"\"\"\n",
    "                \n",
    "        def decodifica(self, genotipo):\n",
    "            \"\"\"Devuelve el fenotipo a partir del genotipo\"\"\"\n",
    "            fenotipo = self.fun_dec(genotipo)\n",
    "            return fenotipo\n",
    "        def muta(self, cromosoma,prob):\n",
    "            \"\"\"Devuelve el cromosoma mutado\"\"\"   \n",
    "            mutante = self.fun_muta(cromosoma,prob, trabajadores)\n",
    "            return mutante\n",
    "        def cruza(self, cromosoma1, cromosoma2):         \n",
    "            \"\"\"Devuelve el cruce de un par de cromosomas\"\"\"\n",
    "            cruce = self.fun_cruza(cromosoma1,cromosoma2)\n",
    "            return cruce \n",
    "        def fitness(self, cromosoma):    \n",
    "            \"\"\"Función de valoración\"\"\"\n",
    "            valoracion = self.fun_fitness(cromosoma, trabajadores, self.longitud_individuos)\n",
    "            return valoracion"
   ]
  },
  {
   "cell_type": "code",
   "execution_count": 13,
   "metadata": {},
   "outputs": [],
   "source": [
    "def fun_dec(cromosoma, n, pesos, capacidad):\n",
    "    peso_en_mochila = 0\n",
    "    l = []\n",
    "    for i in range(n):\n",
    "        if cromosoma[i] == 1 and peso_en_mochila + pesos[i] <= capacidad:\n",
    "            l.append(1)\n",
    "            peso_en_mochila += pesos[i]\n",
    "        elif cromosoma[i] == 0 or peso_en_mochila + pesos[i] > capacidad:\n",
    "            l.append(0)\n",
    "    return l"
   ]
  },
  {
   "cell_type": "code",
   "execution_count": 43,
   "metadata": {},
   "outputs": [],
   "source": [
    "def fun_cruzar(cromosoma1, cromosoma2):\n",
    "    \"\"\"Cruza los cromosomas por la mitad\"\"\"\n",
    "    l1 = len(cromosoma1)\n",
    "    l2 = len(cromosoma2)\n",
    "    cruce1 = cromosoma1[0:l1//2]+cromosoma2[l1//2:l2]\n",
    "    cruce2 = cromosoma2[0:l2//2]+cromosoma1[l2//2:l1]\n",
    "    return [cruce1,cruce2]\n",
    "\n",
    "def fun_mutar(cromosoma,prob,long, trabajadores):\n",
    "    \"\"\"Elige un elemento al azar del cromosoma y lo modifica con una probabilidad igual a prob\"\"\"\n",
    "    posTarea = 0\n",
    "    posTrabajador = random.randint(0, long[1])\n",
    "    posTrabj2 = random.randint(0, long[1])\n",
    "    cont = 0\n",
    "    if prob > random.uniform(0,1):\n",
    "        while 1 not in trabajadores[posTrabajador]:\n",
    "            posTrabajador = random.randint(0, long[1])\n",
    "        posTarea = trabajadores[posTrabajador].index(1)\n",
    "        while trabajadores[posTrabj2][posTarea] == -1:\n",
    "            posTrabj2 = random.randint(0, long[1])\n",
    "        cromosoma[posTrabajador][posTarea] = 0\n",
    "        cromosoma[posTrabj2][posTarea] = 1\n",
    "    return cromosoma\n",
    "\n",
    "def fun_fitness(cromosoma, trabajadores, longs):\n",
    "    i = 0\n",
    "    j = 0\n",
    "    suma = 0\n",
    "    while i < longs[1]:\n",
    "        while j < longs[0]:\n",
    "            if cromosoma[i][j] == 1:\n",
    "                suma += trabajadores[i][j]\n",
    "            j += 1\n",
    "        j = 0\n",
    "        i += 1\n",
    "    return suma"
   ]
  },
  {
   "cell_type": "code",
   "execution_count": 18,
   "metadata": {},
   "outputs": [],
   "source": [
    "\n",
    "def poblacion_inicial(problema_genetico, size, trabajadores):\n",
    "    binario = [0,1]\n",
    "    poblacion = []\n",
    "    plantilla = [0 for col in range(problema_genetico.longitud_individuos[1])]\n",
    "    trabajador = [0 for col in range(problema_genetico.longitud_individuos[0])]\n",
    "    asig = 0\n",
    "    contPlantilla = 0\n",
    "    contTareas = 0\n",
    "    contPobl = 0\n",
    "    tareas = [0 for col in range(problema_genetico.longitud_individuos[0])]\n",
    "    while(contPobl < size):    \n",
    "        while(contPlantilla < problema_genetico.longitud_individuos[1]):\n",
    "            while(contTareas < problema_genetico.longitud_individuos[0]):\n",
    "                asig = random.choice(binario)\n",
    "                if asig == 1:\n",
    "                    \n",
    "                    if tareas[contTareas] == 1 or trabajadores[contPlantilla][contTareas] == -1:\n",
    "                        trabajador[contTareas] = 0\n",
    "                    else:\n",
    "                        trabajador[contTareas] = 1\n",
    "                        tareas[contTareas] = 1\n",
    "                else:\n",
    "                    trabajador[contTareas] = 0\n",
    "                contTareas += 1\n",
    "            plantilla[contPlantilla] = trabajador\n",
    "            trabajador = [0 for col in range(problema_genetico.longitud_individuos[0])]\n",
    "            contTareas = 0\n",
    "            \n",
    "            contPlantilla += 1\n",
    "            if(contPlantilla == problema_genetico.longitud_individuos[1]) and 0 in tareas:     \n",
    "                contPlantilla = 0\n",
    "                tareas = [0 for col in range(problema_genetico.longitud_individuos[0])]\n",
    "        tareas = [0 for col in range(problema_genetico.longitud_individuos[0])]\n",
    "        poblacion.append(plantilla)\n",
    "        plantilla = [0 for col in range(problema_genetico.longitud_individuos[1])]\n",
    "        contPlantilla = 0\n",
    "        contTareas = 0\n",
    "        contPobl += 1\n",
    "            \n",
    "    return poblacion\n",
    "\n",
    "def cruza_padres(problema_genetico,padres):\n",
    "    l = []\n",
    "    aux = []\n",
    "    for i in range(1, len(padres), 2):\n",
    "        aux = problema_genetico.cruza(padres[i-1], padres[i])\n",
    "        l.append(aux[0])\n",
    "        l.append(aux[1])\n",
    "    return l\n",
    "\n",
    "def muta_individuos(problema_genetico, poblacion, prob):\n",
    "    # hay que llamar a  problema_genetico.muta(x,prob) para todos los individuos de la poblacion.\n",
    "    l = []\n",
    "    aux = []\n",
    "    for i in range(len(poblacion)):\n",
    "        aux = problema_genetico.muta(poblacion[i], prob)\n",
    "       \n",
    "        l.append(aux)\n",
    "    return l"
   ]
  },
  {
   "cell_type": "code",
   "execution_count": 40,
   "metadata": {},
   "outputs": [
    {
     "name": "stdout",
     "output_type": "stream",
     "text": "[[[1, 0, 1, 1, 0], [0, 0, 0, 0, 0], [0, 1, 0, 0, 1], [0, 0, 0, 0, 0]], [[0, 1, 1, 0, 0], [0, 0, 0, 1, 0], [0, 0, 0, 0, 0], [1, 0, 0, 0, 1]], [[1, 1, 0, 0, 0], [0, 0, 1, 1, 0], [0, 0, 0, 0, 0], [0, 0, 0, 0, 1]]]\n"
    }
   ],
   "source": [
    "\n",
    "poblacion = poblacion_inicial(p1, 3, trabajadores)\n",
    "print(poblacion)"
   ]
  },
  {
   "cell_type": "code",
   "execution_count": 41,
   "metadata": {},
   "outputs": [],
   "source": [
    "p1 = ProblemaGenetico([0,1],fun_dec,fun_mutar,fun_cruzar, fun_fitness, [5,4])"
   ]
  },
  {
   "cell_type": "code",
   "execution_count": 42,
   "metadata": {},
   "outputs": [
    {
     "name": "stdout",
     "output_type": "stream",
     "text": "0 0\n0 1\nhe sumado\n0 2\nhe sumado\n0 3\n0 4\n1 0\n1 1\n1 2\n1 3\nhe sumado\n1 4\n2 0\n2 1\n2 2\n2 3\n2 4\n3 0\nhe sumado\n3 1\n3 2\n3 3\n3 4\nhe sumado\n"
    },
    {
     "data": {
      "text/plain": "28"
     },
     "execution_count": 42,
     "metadata": {},
     "output_type": "execute_result"
    }
   ],
   "source": [
    "p1.fitness(poblacion[1])"
   ]
  },
  {
   "cell_type": "code",
   "execution_count": 0,
   "metadata": {},
   "outputs": [],
   "source": [
    "def seleccion_por_torneo(problema_genetico, poblacion, n, k, opt):\n",
    "    \"\"\"Selección por torneo de n individuos de una población. Siendo k el nº de participantes\n",
    "        y opt la función max o min.\"\"\"\n",
    "    seleccionados = []\n",
    "    for i in range(n):\n",
    "        participantes = random.sample(poblacion,k)\n",
    "        seleccionado = opt(participantes, key=problema_genetico.fitness)\n",
    "        opt(poblacion, key=problema_genetico.fitness)\n",
    "        seleccionados.append(seleccionado)\n",
    "        # poblacion.remove(seleccionado)\n",
    "    return seleccionados  "
   ]
  },
  {
   "cell_type": "code",
   "execution_count": 0,
   "metadata": {},
   "outputs": [],
   "source": [
    "def nueva_generacion(problema_genetico, k,opt, poblacion, n_padres, n_directos, prob_mutar, flag):\n",
    "    padres2 = seleccion_por_torneo(problema_genetico, poblacion, n_directos, k,opt) \n",
    "    padres1 = seleccion_por_torneo(problema_genetico, poblacion, n_padres , k, opt)\n",
    "    cruces =  cruza_padres(problema_genetico,padres1)\n",
    "    generacion = padres2+cruces\n",
    "    resultado_mutaciones = muta_individuos(problema_genetico, generacion, prob_mutar)\n",
    "    return resultado_mutaciones\n",
    "\n",
    "def algoritmo_genetico(problema_genetico,k,opt,ngen,size,prop_cruces,prob_mutar, flag):\n",
    "    poblacion = poblacion_inicial(problema_genetico,size)\n",
    "    if(flag == 1):\n",
    "        for i in range(size):\n",
    "            print(poblacion[i])\n",
    "            print(problema_genetico.fitness(poblacion[i]))\n",
    "    n_padres=round(size*prop_cruces)\n",
    "    n_padres= int (n_padres if n_padres%2==0 else n_padres-1)\n",
    "    n_directos = size-n_padres\n",
    "    for _ in range(ngen):\n",
    "        poblacion= nueva_generacion(problema_genetico,k,opt,poblacion,n_padres, n_directos,prob_mutar, flag)\n",
    "\n",
    "    mejor_cr= opt(poblacion, key=problema_genetico.fitness) #mejor cromosoma\n",
    "    mejor=problema_genetico.decodifica(mejor_cr)\n",
    "    return (mejor,mejor_cr) "
   ]
  },
  {
   "cell_type": "code",
   "execution_count": null,
   "metadata": {},
   "outputs": [],
   "source": []
  }
 ],
 "metadata": {
  "kernelspec": {
   "display_name": "Python 3",
   "language": "python",
   "name": "python3"
  },
  "language_info": {
   "codemirror_mode": {
    "name": "ipython",
    "version": 3
   },
   "file_extension": ".py",
   "mimetype": "text/x-python",
   "name": "python",
   "nbconvert_exporter": "python",
   "pygments_lexer": "ipython3",
   "version": "3.7.4"
  }
 },
 "nbformat": 4,
 "nbformat_minor": 2
}