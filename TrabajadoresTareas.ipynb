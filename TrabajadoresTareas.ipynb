{
 "nbformat": 4,
 "nbformat_minor": 2,
 "metadata": {
  "language_info": {
   "name": "python",
   "codemirror_mode": {
    "name": "ipython",
    "version": 3
   },
   "version": "3.7.4"
  },
  "orig_nbformat": 2,
  "file_extension": ".py",
  "mimetype": "text/x-python",
  "name": "python",
  "npconvert_exporter": "python",
  "pygments_lexer": "ipython3",
  "version": 3
 },
 "cells": [
  {
   "cell_type": "code",
   "execution_count": 0,
   "metadata": {},
   "outputs": [],
   "source": [
    "import random"
   ]
  },
  {
   "cell_type": "code",
   "execution_count": 0,
   "metadata": {},
   "outputs": [],
   "source": [
    "tiempos = [[2, 3, 6, 8],\n",
    "           [1, 3, 9, 2],\n",
    "           [4, 8, 1, 5],\n",
    "           [2, 1, 3, 3]]\n",
    "tam = [4, 4]"
   ]
  },
  {
   "cell_type": "code",
   "execution_count": 134,
   "metadata": {},
   "outputs": [],
   "source": [
    "class ProblemaGenetico(object):\n",
    "        def __init__(self, genes,fun_dec,fun_muta , fun_cruza, fun_fitness,longitud_individuos):\n",
    "            self.genes = genes\n",
    "            self.fun_dec = fun_dec\n",
    "            self.fun_cruza = fun_cruza\n",
    "            self.fun_muta = fun_muta\n",
    "            self.fun_fitness = fun_fitness\n",
    "            self.longitud_individuos = longitud_individuos\n",
    "            \"\"\"Constructor de la clase\"\"\"\n",
    "                \n",
    "        def decodifica(self, genotipo):\n",
    "            \"\"\"Devuelve el fenotipo a partir del genotipo\"\"\"\n",
    "            fenotipo = self.fun_dec(genotipo)\n",
    "            return fenotipo\n",
    "        def muta(self, cromosoma,prob):\n",
    "            \"\"\"Devuelve el cromosoma mutado\"\"\"   \n",
    "            mutante = self.fun_muta(cromosoma,prob)\n",
    "            return mutante\n",
    "        def cruza(self, cromosoma1, cromosoma2):         \n",
    "            \"\"\"Devuelve el cruce de un par de cromosomas\"\"\"\n",
    "            cruce = self.fun_cruza(cromosoma1,cromosoma2)\n",
    "            return cruce \n",
    "        def fitness(self, cromosoma):    \n",
    "            \"\"\"Función de valoración\"\"\"\n",
    "            valoracion = self.fun_fitness(cromosoma, self.tiempos, self.longitud_individuos)\n",
    "            return valoracion"
   ]
  },
  {
   "cell_type": "code",
   "execution_count": 58,
   "metadata": {},
   "outputs": [],
   "source": [
    "def fun_dec(cromosoma, n, pesos, capacidad):\n",
    "    peso_en_mochila = 0\n",
    "    l = []\n",
    "    for i in range(n):\n",
    "        if cromosoma[i] == 1 and peso_en_mochila + pesos[i] <= capacidad:\n",
    "            l.append(1)\n",
    "            peso_en_mochila += pesos[i]\n",
    "        elif cromosoma[i] == 0 or peso_en_mochila + pesos[i] > capacidad:\n",
    "            l.append(0)\n",
    "    return l"
   ]
  },
  {
   "cell_type": "code",
   "execution_count": 133,
   "metadata": {},
   "outputs": [],
   "source": [
    "def fun_cruzar(cromosoma1, cromosoma2):\n",
    "    \"\"\"Cruza los cromosomas por la mitad\"\"\"\n",
    "    l1 = len(cromosoma1)\n",
    "    l2 = len(cromosoma2)\n",
    "    cruce1 = cromosoma1[0:l1//2]+cromosoma2[l1//2:l2]\n",
    "    cruce2 = cromosoma2[0:l2//2]+cromosoma1[l2//2:l1]\n",
    "    return [cruce1,cruce2]\n",
    "\n",
    "def fun_mutar(cromosoma,prob):\n",
    "    \"\"\"Elige un elemento al azar del cromosoma y lo modifica con una probabilidad igual a prob\"\"\"\n",
    "    l = len(cromosoma)\n",
    "    p = random.randint(0,l-1)\n",
    "    if prob > random.uniform(0,1):\n",
    "        print(\"HE MUTADO\")\n",
    "        cromosoma[p] =  (cromosoma[p]+1)%l\n",
    "    return cromosoma\n",
    "\n",
    "def fun_fitness(cromosoma, tiempos, tam):\n",
    "    \"\"\"Función de valoración que calcula cuanto tiempo tardara una determinada configuracion\"\"\"\n",
    "    n = 0\n",
    "    for i in range(tam[0]):\n",
    "        n += tiempos[i][cromosoma[i]]\n",
    "\n",
    "    return n"
   ]
  },
  {
   "cell_type": "code",
   "execution_count": 125,
   "metadata": {},
   "outputs": [],
   "source": [
    "def poblacion_inicial(problema_genetico, size):\n",
    "    \n",
    "    gen = [0,1]\n",
    "    poblacion = []\n",
    "    \n",
    "    tareas = []\n",
    "    numTrab = problema_genetico.longitud_individuos[0]\n",
    "    numTareas = problema_genetico.longitud_individuos[1]\n",
    "    trabajadores = range(0, numTrab)\n",
    "    plantilla = []\n",
    "    individuo = [ [0 for i in range(numTrab)] for j in range(numTareas)]\n",
    "    i = 0\n",
    "    j = 0\n",
    "    #s es para el tamaño de la poblacion\n",
    "    #i es para el numero de tareas\n",
    "    #j es para el numero de trabajadores\n",
    "    \n",
    "    for s in range(size):\n",
    "        while i < numTareas:\n",
    "            while j < numTrab:\n",
    "              individuo[i][j] = random.choice(gen)\n",
    "              j += 1\n",
    "            j = 0\n",
    "            if 1 not in individuo[i]:\n",
    "                individuo[i][random.choice(range(numTrab))] = 1\n",
    "            i += 1\n",
    "        plantilla.append(individuo)\n",
    "        \n",
    "        for k in range(numTareas):\n",
    "            t = random.choice(range(numTrab))\n",
    "            while(individuo[k][t] != 1):\n",
    "                t = random.choice(range(numTrab))\n",
    "            tareas.append(t)\n",
    "\n",
    "        poblacion.append(tareas)\n",
    "        tareas = []\n",
    "    return poblacion\n",
    "            \n",
    "\n",
    "\n"
   ]
  },
  {
   "cell_type": "code",
   "execution_count": 144,
   "metadata": {},
   "outputs": [],
   "source": [
    "def seleccion_por_torneo(problema_genetico, poblacion, n, k, opt):\n",
    "    \"\"\"Selección por torneo de n individuos de una población. Siendo k el nº de participantes\n",
    "        y opt la función max o min.\"\"\"\n",
    "    seleccionados = []\n",
    "    for i in range(n):\n",
    "        participantes = random.sample(poblacion,k)\n",
    "        seleccionado = opt(participantes, key=problema_genetico.fitness)\n",
    "        opt(poblacion, key=problema_genetico.fitness)\n",
    "        seleccionados.append(seleccionado)\n",
    "        # poblacion.remove(seleccionado)\n",
    "    return seleccionados "
   ]
  },
  {
   "cell_type": "code",
   "execution_count": 139,
   "metadata": {},
   "outputs": [
    {
     "name": "stdout",
     "output_type": "stream",
     "text": "[[2, 3, 1, 1], [2, 3, 0, 1], [2, 0, 2, 1], [2, 1, 0, 1]]\n"
    }
   ],
   "source": [
    "p1 = ProblemaGenetico([0, 1], fun_dec, fun_mutar, fun_cruzar, fun_fitness, tam)\n",
    "size = 4\n",
    "poblacion = poblacion_inicial(p1, size)\n",
    "print(poblacion)"
   ]
  },
  {
   "cell_type": "code",
   "execution_count": 143,
   "metadata": {},
   "outputs": [
    {
     "name": "stdout",
     "output_type": "stream",
     "text": "17\n13\n9\n14\n"
    }
   ],
   "source": [
    "for i in range(len(poblacion)):\n",
    "    f = p1.fitness(poblacion[i], tiempos)\n",
    "    print(f)\n",
    "#m = p1.muta(poblacion, 0.7)\n",
    "#c = p1.cruza(poblacion[0], poblacion[1])\n",
    "#print(c)\n"
   ]
  },
  {
   "cell_type": "code",
   "execution_count": null,
   "metadata": {},
   "outputs": [],
   "source": [
    "s = seleccion_por_torneo(problema_genetico, poblacion, size, 2, max)"
   ]
  }
 ]
}