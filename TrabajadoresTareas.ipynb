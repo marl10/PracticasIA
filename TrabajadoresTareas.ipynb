{
 "nbformat": 4,
 "nbformat_minor": 2,
 "metadata": {
  "language_info": {
   "name": "python",
   "codemirror_mode": {
    "name": "ipython",
    "version": 3
   },
   "version": "3.7.4"
  },
  "orig_nbformat": 2,
  "file_extension": ".py",
  "mimetype": "text/x-python",
  "name": "python",
  "npconvert_exporter": "python",
  "pygments_lexer": "ipython3",
  "version": 3
 },
 "cells": [
  {
   "cell_type": "code",
   "execution_count": 30,
   "metadata": {},
   "outputs": [],
   "source": [
    "import random"
   ]
  },
  {
   "cell_type": "code",
   "execution_count": 207,
   "metadata": {},
   "outputs": [],
   "source": [
    "class ProblemaGenetico(object):\n",
    "        def __init__(self, genes,fun_dec,fun_muta , fun_cruza, fun_fitness,longitud_individuos, tiempos):\n",
    "            self.genes = genes\n",
    "            self.fun_dec = fun_dec\n",
    "            self.fun_cruza = fun_cruza\n",
    "            self.fun_muta = fun_muta\n",
    "            self.fun_fitness = fun_fitness\n",
    "            self.longitud_individuos = longitud_individuos\n",
    "            self.tiempos = tiempos\n",
    "            \"\"\"Constructor de la clase\"\"\"\n",
    "                \n",
    "        def decodifica(self, genotipo):\n",
    "            \"\"\"Devuelve el fenotipo a partir del genotipo\"\"\"\n",
    "            fenotipo = self.fun_dec(genotipo)\n",
    "            return fenotipo\n",
    "        def muta(self, cromosoma,prob):\n",
    "            \"\"\"Devuelve el cromosoma mutado\"\"\"   \n",
    "            mutante = self.fun_muta(cromosoma,prob)\n",
    "            return mutante\n",
    "        def cruza(self, cromosoma1, cromosoma2):         \n",
    "            \"\"\"Devuelve el cruce de un par de cromosomas\"\"\"\n",
    "            cruce = self.fun_cruza(cromosoma1,cromosoma2)\n",
    "            return cruce \n",
    "        def fitness(self, cromosoma):    \n",
    "            \"\"\"Función de valoración\"\"\"\n",
    "            valoracion = self.fun_fitness(cromosoma, self.tiempos, self.longitud_individuos)\n",
    "            return valoracion"
   ]
  },
  {
   "cell_type": "code",
   "execution_count": 208,
   "metadata": {},
   "outputs": [],
   "source": [
    "def fun_dec(cromosoma, n, pesos, capacidad):\n",
    "    peso_en_mochila = 0\n",
    "    l = []\n",
    "    for i in range(n):\n",
    "        if cromosoma[i] == 1 and peso_en_mochila + pesos[i] <= capacidad:\n",
    "            l.append(1)\n",
    "            peso_en_mochila += pesos[i]\n",
    "        elif cromosoma[i] == 0 or peso_en_mochila + pesos[i] > capacidad:\n",
    "            l.append(0)\n",
    "    return l"
   ]
  },
  {
   "cell_type": "code",
   "execution_count": 209,
   "metadata": {},
   "outputs": [],
   "source": [
    "def fun_cruzar(cromosoma1, cromosoma2):\n",
    "    \"\"\"Cruza los cromosomas por la mitad\n",
    "    Durante la generación de poblaciones, se decide que individuo puede hacer cada tarea, al cruzarse, \n",
    "    los nuevos hijos pueden nacer sabiendo hacer tareas que uno de los padres sabe pero otro no\"\"\"\n",
    "    l1 = len(cromosoma1)\n",
    "    l2 = len(cromosoma2)\n",
    "    cruce1 = cromosoma1[0:l1//2]+cromosoma2[l1//2:l2]\n",
    "    cruce2 = cromosoma2[0:l2//2]+cromosoma1[l2//2:l1]\n",
    "    return [cruce1,cruce2]\n",
    "\n",
    "\n",
    "\"\"\"  \"\"\"\n",
    "def fun_mutar(cromosoma,prob):\n",
    "    \"\"\"Elige un elemento al azar del cromosoma y lo modifica con una probabilidad igual a prob\n",
    "        A la hora de generar una poblacion, se decide que trabajadores pueden realizar cada tarea\n",
    "        a la hora de mutar, esta asignacion puede cambiar durante la mutacion,\n",
    "         interpretando así que el trabajador ha aprendido a hacer la nueva tarea \"\"\"\n",
    "    l = len(cromosoma)\n",
    "    p = random.randint(0,l-1)\n",
    "    if prob > random.uniform(0,1):\n",
    "        print(\"HE MUTADO\")\n",
    "        cromosoma[p] =  (cromosoma[p]+1)%l\n",
    "    return cromosoma\n",
    "\n",
    "def fun_fitness(cromosoma, tiempos, tam):\n",
    "    \"\"\"Función de valoración que calcula cuanto tiempo tardara una determinada configuracion\"\"\"\n",
    "    n = 0\n",
    "    for i in range(tam[0]):\n",
    "        n += tiempos[i][cromosoma[i]]\n",
    "       \n",
    "\n",
    "    return n"
   ]
  },
  {
   "cell_type": "code",
   "execution_count": 210,
   "metadata": {},
   "outputs": [],
   "source": [
    "def poblacion_inicial(problema_genetico, size):\n",
    "    \n",
    "    gen = [0,1]\n",
    "    poblacion = [] #La poblacion final que se recibe\n",
    "    \n",
    "    tareas = [] #Cada elemento de la lista representa a un trabajador que sera quien realiza la tarea de su posicion en la lista\n",
    "    numTrab = problema_genetico.longitud_individuos[1]\n",
    "    numTareas = problema_genetico.longitud_individuos[0]\n",
    "    \n",
    "    plantilla = [] #Lista con todas las capacidades\n",
    "    capacidad = [ [0 for i in range(numTrab)] for j in range(numTareas)]\n",
    "    i = 0\n",
    "    j = 0\n",
    "    \n",
    "    \n",
    "    for s in range(size):\n",
    "        while i < numTareas:\n",
    "            #se genera la lista con las capacidades de cada uno de los trabajadores para cada tarea\n",
    "            while j < numTrab:\n",
    "              capacidad[i][j] = random.choice(gen)\n",
    "              j += 1\n",
    "            j = 0\n",
    "            #se comprueba que cada tarea tenga al menos un trabajador que la realice, si no la tiene se le asigna uno aleagorio\n",
    "            if 1 not in capacidad[i]:\n",
    "                capacidad[i][random.choice(range(numTrab))] = 1\n",
    "            i += 1\n",
    "        plantilla.append(capacidad)\n",
    "        \n",
    "        for k in range(numTareas):\n",
    "            t = random.choice(range(numTrab))\n",
    "            \n",
    "            while(capacidad[k][t] != 1):\n",
    "                t = random.choice(range(numTrab))\n",
    "            tareas.append(t)\n",
    "\n",
    "        poblacion.append(tareas)\n",
    "        tareas = []\n",
    "    return poblacion\n",
    "            \n",
    "\n",
    "\n"
   ]
  },
  {
   "cell_type": "code",
   "execution_count": 211,
   "metadata": {},
   "outputs": [],
   "source": [
    "def seleccion_por_torneo(problema_genetico, poblacion, n, k, opt):\n",
    "    \"\"\"Selección por torneo de n individuos de una población. Siendo k el nº de participantes\n",
    "        y opt la función max o min.\"\"\"\n",
    "    seleccionados = []\n",
    "    for i in range(n):\n",
    "        participantes = random.sample(poblacion,k)\n",
    "        seleccionado = opt(participantes, key=problema_genetico.fitness)\n",
    "        opt(poblacion, key=problema_genetico.fitness)\n",
    "        seleccionados.append(seleccionado)\n",
    "        # poblacion.remove(seleccionado)\n",
    "    return seleccionados "
   ]
  },
  {
   "cell_type": "code",
   "execution_count": 234,
   "metadata": {},
   "outputs": [
    {
     "name": "stdout",
     "output_type": "stream",
     "text": "Tarea 0 empezada en el instante 0 por el empleado 1\nTarea 1 empezada en el instante 4 por el empleado 0\nTarea 2 empezada en el instante 9 por el empleado 1\nTarea 3 empezada en el instante 13 por el empleado 0\nTarea 4 empezada en el instante 19 por el empleado 1\nTarea 5 empezada en el instante 38 por el empleado 1\nTarea 6 empezada en el instante 53 por el empleado 2\nTarea 7 empezada en el instante 72 por el empleado 1\nTarea 8 empezada en el instante 75 por el empleado 0\nTarea 9 empezada en el instante 81 por el empleado 4\nTarea 10 empezada en el instante 83 por el empleado 0\nTarea 11 empezada en el instante 85 por el empleado 0\nTarea 12 empezada en el instante 90 por el empleado 5\nTarea 13 empezada en el instante 101 por el empleado 3\nTarea 14 empezada en el instante 116 por el empleado 4\nTarea 15 empezada en el instante 119 por el empleado 2\nTarea 16 empezada en el instante 124 por el empleado 5\nTarea 17 empezada en el instante 126 por el empleado 4\nTarea 18 empezada en el instante 133 por el empleado 3\nTarea 19 empezada en el instante 140 por el empleado 0\nTarea 20 empezada en el instante 155 por el empleado 0\nTarea 21 empezada en el instante 158 por el empleado 1\nTarea 22 empezada en el instante 160 por el empleado 4\nTarea 23 empezada en el instante 176 por el empleado 5\nTarea 24 empezada en el instante 178 por el empleado 3\nTarea 25 empezada en el instante 181 por el empleado 4\nTarea 26 empezada en el instante 185 por el empleado 2\nTarea 27 empezada en el instante 201 por el empleado 3\nTarea 28 empezada en el instante 216 por el empleado 0\nTarea 29 empezada en el instante 224 por el empleado 2\nTiempo total invertido: 227\n"
    }
   ],
   "source": [
    "tam = [30, 6] #30 tareas para 6 trabajadores\n",
    "t1 = [ [(random.choice(range(1, 20))) for i in range(tam[1])] for j in range(tam[0])] #se le da un tiempo aleatorio a cada tarea dependiendo de                                                                                         que trabajador la realiza\n",
    "p = ProblemaGenetico([0, 1], fun_dec, fun_mutar, fun_cruzar, fun_fitness, tam, t1)\n",
    "size = 50\n",
    "poblacion = poblacion_inicial(p, size)\n",
    "s = seleccion_por_torneo(p, poblacion, 1, size, min)\n",
    "time = 0\n",
    "for i in range(tam[0]):\n",
    "    print(\"Tarea\", i ,\"empezada en el instante\", time, \"por el empleado\", s[0][i])\n",
    "    time += t1[i][s[0][i]]\n",
    "print(\"Tiempo total invertido:\", p.fitness(s[0]))"
   ]
  },
  {
   "cell_type": "code",
   "execution_count": 231,
   "metadata": {},
   "outputs": [
    {
     "name": "stdout",
     "output_type": "stream",
     "text": "Tarea 0 empezada en el instante 0 por el empleado 1\nTarea 1 empezada en el instante 2 por el empleado 1\nTarea 2 empezada en el instante 12 por el empleado 4\nTarea 3 empezada en el instante 15 por el empleado 2\nTarea 4 empezada en el instante 32 por el empleado 1\nTarea 5 empezada en el instante 41 por el empleado 3\nTarea 6 empezada en el instante 55 por el empleado 3\nTarea 7 empezada en el instante 57 por el empleado 4\nTarea 8 empezada en el instante 58 por el empleado 0\nTarea 9 empezada en el instante 59 por el empleado 5\nTarea 10 empezada en el instante 74 por el empleado 4\nTarea 11 empezada en el instante 92 por el empleado 0\nTarea 12 empezada en el instante 97 por el empleado 2\nTarea 13 empezada en el instante 116 por el empleado 1\nTarea 14 empezada en el instante 134 por el empleado 1\nTarea 15 empezada en el instante 142 por el empleado 1\nTarea 16 empezada en el instante 161 por el empleado 4\nTarea 17 empezada en el instante 174 por el empleado 5\nTarea 18 empezada en el instante 178 por el empleado 0\nTarea 19 empezada en el instante 185 por el empleado 1\nTarea 20 empezada en el instante 191 por el empleado 5\nTarea 21 empezada en el instante 192 por el empleado 2\nTarea 22 empezada en el instante 210 por el empleado 4\nTarea 23 empezada en el instante 216 por el empleado 1\nTarea 24 empezada en el instante 231 por el empleado 2\nTarea 25 empezada en el instante 233 por el empleado 2\nTarea 26 empezada en el instante 238 por el empleado 1\nTarea 27 empezada en el instante 248 por el empleado 5\nTarea 28 empezada en el instante 256 por el empleado 0\nTarea 29 empezada en el instante 262 por el empleado 4\nTiempo total invertido: 267\n"
    }
   ],
   "source": [
    "tam = [4, 4]\n",
    "time = [[2, 3, 6, 8],\n",
    "           [1, 3, 9, 2],\n",
    "           [4, 8, 1, 5],\n",
    "           [2, 1, 3, 3]]\n",
    "test = ProblemaGenetico(range(tam[1]), fun_dec, fun_mutar, fun_cruzar, fun_fitness, tam, t1)"
   ]
  },
  {
   "cell_type": "code",
   "execution_count": null,
   "metadata": {},
   "outputs": [],
   "source": []
  }
 ]
}