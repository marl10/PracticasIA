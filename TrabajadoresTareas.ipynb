{
 "nbformat": 4,
 "nbformat_minor": 2,
 "metadata": {
  "language_info": {
   "name": "python",
   "codemirror_mode": {
    "name": "ipython",
    "version": 3
   },
   "version": "3.7.4"
  },
  "orig_nbformat": 2,
  "file_extension": ".py",
  "mimetype": "text/x-python",
  "name": "python",
  "npconvert_exporter": "python",
  "pygments_lexer": "ipython3",
  "version": 3
 },
 "cells": [
  {
   "cell_type": "code",
   "execution_count": 30,
   "metadata": {},
   "outputs": [],
   "source": [
    "import random"
   ]
  },
  {
   "cell_type": "code",
   "execution_count": 207,
   "metadata": {},
   "outputs": [],
   "source": [
    "class ProblemaGenetico(object):\n",
    "        def __init__(self, genes,fun_dec,fun_muta , fun_cruza, fun_fitness,longitud_individuos, tiempos):\n",
    "            self.genes = genes\n",
    "            self.fun_dec = fun_dec\n",
    "            self.fun_cruza = fun_cruza\n",
    "            self.fun_muta = fun_muta\n",
    "            self.fun_fitness = fun_fitness\n",
    "            self.longitud_individuos = longitud_individuos\n",
    "            self.tiempos = tiempos\n",
    "            \"\"\"Constructor de la clase\"\"\"\n",
    "                \n",
    "        def decodifica(self, genotipo):\n",
    "            \"\"\"Devuelve el fenotipo a partir del genotipo\"\"\"\n",
    "            fenotipo = self.fun_dec(genotipo)\n",
    "            return fenotipo\n",
    "        def muta(self, cromosoma,prob):\n",
    "            \"\"\"Devuelve el cromosoma mutado\"\"\"   \n",
    "            mutante = self.fun_muta(cromosoma,prob)\n",
    "            return mutante\n",
    "        def cruza(self, cromosoma1, cromosoma2):         \n",
    "            \"\"\"Devuelve el cruce de un par de cromosomas\"\"\"\n",
    "            cruce = self.fun_cruza(cromosoma1,cromosoma2)\n",
    "            return cruce \n",
    "        def fitness(self, cromosoma):    \n",
    "            \"\"\"Función de valoración\"\"\"\n",
    "            valoracion = self.fun_fitness(cromosoma, self.tiempos, self.longitud_individuos)\n",
    "            return valoracion"
   ]
  },
  {
   "cell_type": "code",
   "execution_count": 208,
   "metadata": {},
   "outputs": [],
   "source": [
    "def fun_dec(cromosoma, n, pesos, capacidad):\n",
    "    peso_en_mochila = 0\n",
    "    l = []\n",
    "    for i in range(n):\n",
    "        if cromosoma[i] == 1 and peso_en_mochila + pesos[i] <= capacidad:\n",
    "            l.append(1)\n",
    "            peso_en_mochila += pesos[i]\n",
    "        elif cromosoma[i] == 0 or peso_en_mochila + pesos[i] > capacidad:\n",
    "            l.append(0)\n",
    "    return l"
   ]
  },
  {
   "cell_type": "code",
   "execution_count": 345,
   "metadata": {},
   "outputs": [
    {
     "name": "stdout",
     "output_type": "stream",
     "text": "1\n"
    }
   ],
   "source": [
    "a = 3\n",
    "b = 3//2\n",
    "print(b)\n"
   ]
  },
  {
   "cell_type": "code",
   "execution_count": 581,
   "metadata": {},
   "outputs": [
    {
     "name": "stdout",
     "output_type": "stream",
     "text": "0\n"
    }
   ],
   "source": [
    "a = [1,2,2]\n",
    "print(a.count())"
   ]
  },
  {
   "cell_type": "code",
   "execution_count": 594,
   "metadata": {},
   "outputs": [],
   "source": [
    "def fun_cruzar(cromosoma1, cromosoma2):\n",
    "    \"\"\"Cruza los cromosomas por la mitad\n",
    "    Durante la generación de poblaciones, se decide que individuo puede hacer cada tarea, al cruzarse, \n",
    "    los nuevos hijos pueden nacer sabiendo hacer tareas que uno de los padres sabe pero otro no\"\"\"\n",
    "    cruce1 = []\n",
    "    cruce2 = []\n",
    "    cruce1.append(cromosoma1[0])\n",
    "    cruce2.append(cromosoma2[0])\n",
    "    l1 = len(cromosoma1[1])\n",
    "    l2 = len(cromosoma2[1])\n",
    "    c1 = cromosoma1[1][0:(l1//2)]+cromosoma2[1][l1//2:l2]\n",
    "    c2 = cromosoma2[1][0:(l2//2)]+cromosoma1[1][l2//2:l1]\n",
    "\n",
    "    for i in range(l1):\n",
    "        if(cruce1[0][i][c1[i]] == 0 or cruce2[0][i][c2[i]] == 0):\n",
    "            return [cromosoma1, cromosoma2]\n",
    "    cruce1.append(c1)\n",
    "    cruce2.append(c2)\n",
    "    return [cruce1,cruce2]\n",
    "\n",
    "\n",
    "\"\"\"  \"\"\"\n",
    "def fun_mutar(cromosoma,prob):\n",
    "    \"\"\"Elige un elemento al azar del cromosoma y lo modifica con una probabilidad igual a prob\n",
    "        A la hora de generar una poblacion, se decide que trabajadores pueden realizar cada tarea\n",
    "        a la hora de mutar, esta asignacion puede cambiar durante la mutacion,\n",
    "         interpretando así que el trabajador ha aprendido a hacer la nueva tarea \"\"\"\n",
    "    l = len(cromosoma[1])\n",
    "    j = 0\n",
    "    \n",
    "    p = random.randint(0,l-1)\n",
    "    odds = random.uniform(0,1)\n",
    "    if prob > odds:\n",
    "        print(\"HE MUTADO\")\n",
    "        cromosoma[1][p] = (cromosoma[1][p])%l\n",
    "        while cromosoma[0][j][cromosoma[1][p]] == 0:\n",
    "            p = random.randint(0,l-1)\n",
    "            cromosoma[1][p] = (cromosoma[1][p])%l\n",
    "\n",
    "    return cromosoma\n",
    "\n",
    "def fun_fitness(cromosoma, tiempos, tam):\n",
    "    \"\"\"Función de valoración que calcula cuanto tiempo tardara una determinada configuracion\"\"\"\n",
    "    n = 0\n",
    "    for i in range(tam[0]):\n",
    "        n += tiempos[i][cromosoma[1][i]]\n",
    "    return n"
   ]
  },
  {
   "cell_type": "code",
   "execution_count": 462,
   "metadata": {},
   "outputs": [],
   "source": [
    "def poblacion_inicial(problema_genetico, size):\n",
    "    \n",
    "    gen = [0,1]\n",
    "    poblacion = [] #La poblacion final que se recibe\n",
    "    individuo = []\n",
    "    tareas = [] #Cada elemento de la lista representa a un trabajador que sera quien realiza la tarea de su posicion en la lista\n",
    "    numTrab = problema_genetico.longitud_individuos[1]\n",
    "    numTareas = problema_genetico.longitud_individuos[0]\n",
    "    \n",
    "    plantilla = [] #Lista con todas las capacidades\n",
    "    capacidad = [ [0 for i in range(numTrab)] for j in range(numTareas)]\n",
    "    i = 0\n",
    "    j = 0\n",
    "    \n",
    "    \n",
    "    for s in range(size):\n",
    "        while i < numTareas:\n",
    "            #se genera la lista con las capacidades de cada uno de los trabajadores para cada tarea\n",
    "            while j < numTrab:\n",
    "                capacidad[i][j] = random.choice(gen)\n",
    "                j += 1\n",
    "            j = 0\n",
    "            #se comprueba que cada tarea tenga al menos un trabajador que la realice, si no la tiene se le asigna uno aleagorio\n",
    "            if 1 not in capacidad[i]:\n",
    "                capacidad[i][random.choice(range(numTrab))] = 1\n",
    "            i += 1\n",
    "        plantilla.append(capacidad)\n",
    "        individuo.append(capacidad)\n",
    "        i =0\n",
    "        for k in range(numTareas):\n",
    "            t = random.choice(range(numTrab))\n",
    "\n",
    "            while(capacidad[k][t] != 1):\n",
    "                t = random.choice(range(numTrab))\n",
    "            tareas.append(t)\n",
    "        individuo.append(tareas)\n",
    "        poblacion.append(individuo)\n",
    "        individuo = []\n",
    "        capacidad = [ [0 for i in range(numTrab)] for j in range(numTareas)]\n",
    "        tareas = []\n",
    "    return poblacion\n",
    "            \n",
    "\n",
    "\n"
   ]
  },
  {
   "cell_type": "code",
   "execution_count": 595,
   "metadata": {},
   "outputs": [],
   "source": [
    "def seleccion_por_torneo(problema_genetico, poblacion, n, k, opt):\n",
    "    \"\"\"Selección por torneo de n individuos de una población. Siendo k el nº de participantes\n",
    "        y opt la función max o min.\"\"\"\n",
    "    seleccionados = []\n",
    "    for i in range(n):\n",
    "        participantes = random.sample(poblacion,k)\n",
    "        seleccionado = opt(participantes, key=problema_genetico.fitness)\n",
    "        opt(poblacion, key=problema_genetico.fitness)\n",
    "        seleccionados.append(seleccionado)\n",
    "        # poblacion.remove(seleccionado)\n",
    "    return seleccionados "
   ]
  },
  {
   "cell_type": "markdown",
   "execution_count": null,
   "metadata": {},
   "outputs": [],
   "source": [
    "## Ejecuciones de prueba\n",
    "    Estas ejecuciones están para probar las funciones de cruzar y mutar. \n",
    "    La forma en que cruzar funciona, es tomando como validos los hijos si y solo si saben hacer las mismas tareas que los padres en sus \n",
    "    respectivos puestos de trabajo. Si no saben hacer alguna de las tareas que hacían los padres, se descartan.\n",
    "    La mutacion decide si el individuo muta, si lo hace, cambiará quien realiza una tarea aleatoria por otro individuo. Si el nuevo trabajador \n",
    "    no sabe hacer la tarea, se repetira el proceso de mutacion de nuevo."
   ]
  },
  {
   "cell_type": "code",
   "execution_count": 598,
   "metadata": {},
   "outputs": [
    {
     "name": "stdout",
     "output_type": "stream",
     "text": "[[[[1, 0, 0, 1], [1, 0, 1, 0], [0, 0, 0, 1], [0, 1, 0, 1]], [3, 0, 3, 1]]]\n"
    }
   ],
   "source": [
    "tam = [4, 4]\n",
    "time = [[2, 3, 6, 8],\n",
    "        [1, 3, 9, 2],\n",
    "        [4, 8, 1, 5],\n",
    "        [2, 1, 3, 3]]\n",
    "\n",
    "tests = 1\n",
    "test = ProblemaGenetico(range(tam[1]), fun_dec, fun_mutar, fun_cruzar, fun_fitness, tam, time)\n",
    "testp = poblacion_inicial(test, tests)\n",
    "\n",
    "print(testp)\n",
    "\n",
    "\n",
    "\n"
   ]
  },
  {
   "cell_type": "code",
   "execution_count": 606,
   "metadata": {},
   "outputs": [
    {
     "name": "stdout",
     "output_type": "stream",
     "text": "HE MUTADO\n[[[1, 0, 0, 1], [1, 0, 1, 0], [0, 0, 0, 1], [0, 1, 0, 1]], [3, 0, 3, 1]]\n"
    }
   ],
   "source": [
    "testm = test.muta(testp[0], 0.8)\n",
    "\n",
    "print(testm)"
   ]
  },
  {
   "cell_type": "code",
   "execution_count": 297,
   "metadata": {},
   "outputs": [
    {
     "name": "stdout",
     "output_type": "stream",
     "text": "[[[[1, 1, 0, 1], [0, 1, 1, 0], [0, 0, 1, 1], [0, 0, 0, 1]], [0, 1, 2, 3]], [[[1, 1, 0, 1], [0, 1, 1, 0], [0, 0, 1, 1], [0, 0, 0, 1]], [1, 2, 2, 3]]]\n"
    }
   ],
   "source": [
    "\n",
    "c = test.cruza(testp[0], testp[1])\n",
    "print(c)"
   ]
  },
  {
   "cell_type": "markdown",
   "execution_count": null,
   "metadata": {},
   "outputs": [],
   "source": [
    "# Ejecucion de la seleccion por torneo"
   ]
  },
  {
   "cell_type": "markdown",
   "execution_count": null,
   "metadata": {},
   "outputs": [],
   "source": [
    "Dado un numero de trabajadores y tareas, se ejecuta una seleccion por tornero para elegir la configuración más adecuada."
   ]
  },
  {
   "cell_type": "code",
   "execution_count": 605,
   "metadata": {},
   "outputs": [
    {
     "name": "stdout",
     "output_type": "stream",
     "text": "Tarea 0 empezada en el instante 0 por el empleado 2\nTarea 1 empezada en el instante 7 por el empleado 0\nTarea 2 empezada en el instante 22 por el empleado 0\nTarea 3 empezada en el instante 36 por el empleado 2\nTarea 4 empezada en el instante 46 por el empleado 3\nTarea 5 empezada en el instante 53 por el empleado 5\nTarea 6 empezada en el instante 60 por el empleado 0\nTarea 7 empezada en el instante 78 por el empleado 2\nTarea 8 empezada en el instante 84 por el empleado 5\nTarea 9 empezada en el instante 86 por el empleado 2\nTarea 10 empezada en el instante 101 por el empleado 4\nTarea 11 empezada en el instante 112 por el empleado 1\nTarea 12 empezada en el instante 120 por el empleado 3\nTarea 13 empezada en el instante 122 por el empleado 4\nTarea 14 empezada en el instante 127 por el empleado 0\nTarea 15 empezada en el instante 133 por el empleado 4\nTarea 16 empezada en el instante 135 por el empleado 5\nTarea 17 empezada en el instante 140 por el empleado 5\nTarea 18 empezada en el instante 151 por el empleado 2\nTarea 19 empezada en el instante 169 por el empleado 1\nTarea 20 empezada en el instante 175 por el empleado 5\nTarea 21 empezada en el instante 178 por el empleado 4\nTarea 22 empezada en el instante 196 por el empleado 4\nTarea 23 empezada en el instante 199 por el empleado 0\nTarea 24 empezada en el instante 214 por el empleado 4\nTarea 25 empezada en el instante 218 por el empleado 3\nTarea 26 empezada en el instante 231 por el empleado 4\nTarea 27 empezada en el instante 233 por el empleado 3\nTarea 28 empezada en el instante 244 por el empleado 3\nTarea 29 empezada en el instante 260 por el empleado 4\nTiempo total invertido: 261\n"
    }
   ],
   "source": [
    "tam = [30, 6] #30 tareas para 6 trabajadores\n",
    "t1 = [ [(random.choice(range(1, 20))) for i in range(tam[1])] for j in range(tam[0])] #se le da un tiempo aleatorio a cada tarea dependiendo de                                                                                         que trabajador la realiza\n",
    "p = ProblemaGenetico([0, 1], fun_dec, fun_mutar, fun_cruzar, fun_fitness, tam, t1)\n",
    "size = 50\n",
    "poblacion = poblacion_inicial(p, size)\n",
    "s = seleccion_por_torneo(p, poblacion, 1, size, min)\n",
    "time = 0\n",
    "for i in range(tam[0]):\n",
    "    print(\"Tarea\", i ,\"empezada en el instante\", time, \"por el empleado\", s[0][1][i])\n",
    "    time += t1[i][s[0][1][i]]\n",
    "print(\"Tiempo total invertido:\", p.fitness(s[0]))"
   ]
  },
  {
   "cell_type": "code",
   "execution_count": null,
   "metadata": {},
   "outputs": [],
   "source": []
  }
 ]
}