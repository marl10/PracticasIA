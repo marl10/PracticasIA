{
 "cells": [
  {
   "cell_type": "code",
   "execution_count": 1,
   "metadata": {},
   "outputs": [],
   "source": [
    "#Representacion de los estados para la resolaucion del problema de los ascensores. \n",
    "#aaa\n",
    "\n",
    "#Estado Inicial: \n",
    "#          * personas indicando la plata actual en la que estan\n",
    "#ini = ((1, 3, 4), ((0,[]),(0,[])))\n",
    "ini = (((0,2), (0,4), (0,1),(1,8),(0,1)), ((0,0), (1,5), (1,6), (2, 10)))\n",
    "#Reresentacion des estado final solo de las personas ya que los ascensores no importa doende \n",
    "fin = ((0,3), (2,11), (2,12),(0,1), (1,9)) \n",
    "####ini = (((0,0), (0,4)),((0,0),(2,12)))\n",
    "####fin = ((0,1),(0,0))\n",
    "#                   * Ascensores tambien indicando en la planta actual en la que estan. \n",
    "\n",
    "\n",
    "#acaben \n"
   ]
  },
  {
   "cell_type": "code",
   "execution_count": 2,
   "metadata": {},
   "outputs": [],
   "source": [
    "# importamos las cosas que vamos a usar de aima\n",
    "\n",
    "        \n",
    "        \n",
    "\n",
    "from search import *\n",
    "\n",
    "class Ascensores(Problem):\n",
    "    ''' Clase Ascensores la cual implenta la clase abstracta Problema que nos ayuda a resover el porblema\n",
    "           con varias funciones de busqueda '''\n",
    "    def __init__(self,initial, goal):\n",
    "        '''Metodo que inicializa nustro problema'''\n",
    "        \n",
    "        Problem.__init__(self, initial, goal)\n",
    "        #self.search = initial\n",
    "        self.goal = goal\n",
    "        \n",
    "        \n",
    "\n",
    "    def actions(self, estado):\n",
    "        '''Apartir de un estado(n) dado nos lista un conjunto de acciones(a) que le podimos aplicar a n para\n",
    "        alcanzar otro estado n'  ''' \n",
    "        \n",
    "        listaPersonas = list(estado[0])\n",
    "        listAscensores = list(estado[1])\n",
    "        \n",
    "        acciones = list() \n",
    "      \n",
    "        for i in range (len(listaPersonas)):\n",
    "            persona = listaPersonas[i] #tupla (bloque, pisoAct)\n",
    "            \n",
    "            for j in range (len(listAscensores)):\n",
    "                ascensor = listAscensores[j] #tupla (bloque, pisoAct)\n",
    "                if ((ascensor[0] == 0 and ascensor[1] < 4) or (ascensor[0] == 1 and ascensor[1] < 8) or (ascensor[0] == 2 and ascensor[1] < 12)):\n",
    "                    acciones.append((i,j, \"Subir ascensor\")) # sube al ascensor j a la planta donde esta la persona i\n",
    "                if  ((ascensor[0] == 0 and ascensor[1] > 0) or (ascensor[0] == 1 and ascensor[1] > 4) or (ascensor[0] == 2 and ascensor[1] > 8)):\n",
    "                    acciones.append((i,j, \"Bajar ascensor\"))\n",
    "                if persona == ascensor and persona[1] < 12: # para si la persona esta en la ultima planta solo\n",
    "                    acciones.append((i,j, \"Bajar pasajero\"))           #pordria bajar\n",
    "                if persona == ascensor and persona[1] > 0: # Idem pero al reves \n",
    "                    acciones.append((i,j, \"Subir pasajero\"))\n",
    "                \n",
    "                #en el momento que ascensor este en la misma planta que la persona el arbol se ramifica en dos caminos\n",
    "                #por lo que se generaran estas dos acciones. Quien decida que accion utilizar será la heuristica \n",
    "                #puesto que cogere la que menos heuristica tenga ya que estará mas cerca de la solución\n",
    "                \n",
    "        return acciones; \n",
    "\n",
    "        \n",
    "    #accion = (plantaPersona,PlantaAscensor, accion en string)\n",
    "    def result(self, estado, accion):\n",
    "        '''Dado un estado(n, nodo actual) y una accion(a) nos permite general un nuevo nodo(n') aplicando la accion dada'''\n",
    "        listaPersonas = list(estado[0]) #la primera(0)posicion de la tupla de estado la convertimos a una lista\n",
    "        listAscensores = list(estado[1])# Idema para los ascensores con la segunda posicion (1)\n",
    "\n",
    "        persona = accion[0] # Extraemos la posicion de la listaen donde se encutra la persona a modificar su posicion en el edificio\n",
    "        ascensor = accion[1]# Idem con los ascensores \n",
    "                #Se hace simplemente para facilitar la lectura del codigo\n",
    "\n",
    "        actualPersona = list(listaPersonas[persona]) #Planta actual donde se encutra la persona (bloque, posAct)\n",
    "        actualAscensor = list(listAscensores[ascensor])#idem con el ascensor (bloque, posAct)\n",
    "\n",
    "        if accion[2] == \"Subir ascensor\":\n",
    "            actualAscensor[1] += 1 # Si es llamar a la posicion actual le asignamos la posicion \n",
    "                    #actual de la persona que ha solicitado el ascensor\n",
    "            listaPersonas[persona] = tuple(actualPersona)\n",
    "            listAscensores[ascensor] = tuple(actualAscensor)\n",
    "        elif accion[2] == \"Bajar ascensor\":\n",
    "            actualAscensor[1] -= 1 # Si es llamar a la posicion actual le asignamos la posicion \n",
    "                    #actual de la persona que ha solicitado el ascensor\n",
    "            listaPersonas[persona] = tuple(actualPersona)\n",
    "            listAscensores[ascensor] = tuple(actualAscensor)\n",
    "        elif accion[2] == \"Bajar pasajero\": #Si es bajar restamos en uno la posicion actual de ambos(bajan un piso)\n",
    "            actualPersona[1] -= 1 \n",
    "            actualAscensor[1] -=1\n",
    "            listaPersonas[persona] = tuple(actualPersona)\n",
    "            listAscensores[ascensor] = tuple(actualAscensor)\n",
    "            if(actualPersona[1]<4):\n",
    "                actualPersona[0] = 0\n",
    "            elif(actualPersona[0] < 8):\n",
    "                actualPersona[0] = 1\n",
    "            elif(actualPersona[0] <= 12):\n",
    "                actualPersona[0] = 2\n",
    "\n",
    "\n",
    "        elif accion[2] == \"Subir pasajero\": #Si es Subir sumamos en uno la posicion actual de ambos(sube un piso)\n",
    "            actualPersona[1] += 1\n",
    "            actualAscensor[1] +=1\n",
    "            listaPersonas[persona] = tuple(actualPersona)\n",
    "            listAscensores[ascensor] = tuple(actualAscensor)\n",
    "            if(actualPersona[1]<4):\n",
    "                actualPersona[0] = 0\n",
    "            elif(actualPersona[0] < 8):\n",
    "                actualPersona[0] = 1\n",
    "            elif(actualPersona[0] < 12):\n",
    "                actualPersona[0] = 2\n",
    "        \n",
    "        return (tuple(listaPersonas), tuple(listAscensores))\n",
    "\n",
    "    def goal_test(self, estado): # Devuelve true si se ha alcanzado el estado objetivo \n",
    "        return estado[0] == self.goal \n"
   ]
  },
  {
   "cell_type": "code",
   "execution_count": 3,
   "metadata": {},
   "outputs": [
    {
     "name": "stdout",
     "output_type": "stream",
     "text": [
      "((0, 2), (0, 4), (0, 1), (1, 8), (0, 1)) ((0, 2), (1, 5), (1, 6), (2, 10))\n"
     ]
    }
   ],
   "source": [
    "estado = ini\n",
    "accion = (0,0, \"Mover ascensor\")\n",
    "\n",
    "l = list(estado)\n",
    "listaPersonas = list(estado[0]) #la primera(0)posicion de la tupla de estado la convertimos a una lista\n",
    "listAscensores = list(estado[1])# Idema para los ascensores con la segunda posicion (1)\n",
    "        \n",
    "persona = accion[0] # Extraemos la posicion de la listaen donde se encutra la persona a modificar su posicion en el edificio\n",
    "ascensor = accion[1]# Idem con los ascensores \n",
    "        #Se hace simplemente para facilitar la lectura del codigo\n",
    "        \n",
    "actualPersona = list(listaPersonas[persona]) #Planta actual donde se encutra la persona (bloque, posAct)\n",
    "actualAscensor = list(listAscensores[ascensor])#idem con el ascensor (bloque, posAct)\n",
    "        \n",
    "if accion[2] == \"Mover ascensor\":\n",
    "    actualAscensor[1] = int(actualPersona[1]) # Si es llamar a la posicion actual le asignamos la posicion \n",
    "            #actual de la persona que ha solicitado el ascensor\n",
    "    listaPersonas[persona] = tuple(actualPersona)\n",
    "    listAscensores[ascensor] = tuple(actualAscensor)\n",
    "if accion[2] == \"Bajar pasajero\": #Si es bajar restamos en uno la posicion actual de ambos(bajan un piso)\n",
    "    actualPersona[1] -= 1 \n",
    "    actualAscensor[1] -=1\n",
    "    listaPersonas[persona] = tuple(actualPersona)\n",
    "    listAscensores[ascensor] = tuple(actualAscensor)\n",
    "if accion[2] == \"Subir pasajero\": #Si es Subir sumamos en uno la posicion actual de ambos(sube un piso)\n",
    "    actualPersona[1] += 1\n",
    "    actualAscensor[1] +=1\n",
    "    listaPersonas[persona] = tuple(actualPersona)\n",
    "    listAscensores[ascensor] = tuple(actualAscensor)\n",
    "        \n",
    "print(tuple(listaPersonas), tuple(listAscensores))"
   ]
  },
  {
   "cell_type": "code",
   "execution_count": 4,
   "metadata": {},
   "outputs": [
    {
     "data": {
      "text/plain": [
       "(((0, 2), (0, 4), (0, 1), (1, 8), (0, 1)), ((0, 0), (1, 5), (1, 6), (2, 10)))"
      ]
     },
     "execution_count": 4,
     "metadata": {},
     "output_type": "execute_result"
    }
   ],
   "source": [
    "p = Ascensores(ini, fin)\n",
    "p.initial"
   ]
  },
  {
   "cell_type": "code",
   "execution_count": 5,
   "metadata": {},
   "outputs": [
    {
     "data": {
      "text/plain": [
       "(((0, 1), (1, 7), (2, 11)), ((0, 0), (1, 5), (1, 6), (2, 10)))"
      ]
     },
     "execution_count": 5,
     "metadata": {},
     "output_type": "execute_result"
    }
   ],
   "source": [
    "p.result((((0, 1), (1, 7), (2, 11)), ((0, 0), (1, 5), (1, 6), (2, 10))), (0, 0, \"Mover ascensor\"))"
   ]
  },
  {
   "cell_type": "code",
   "execution_count": 6,
   "metadata": {},
   "outputs": [
    {
     "data": {
      "text/plain": [
       "[(0, 0, 'Subir ascensor'),\n",
       " (0, 1, 'Subir ascensor'),\n",
       " (0, 1, 'Bajar ascensor'),\n",
       " (0, 2, 'Subir ascensor'),\n",
       " (0, 2, 'Bajar ascensor'),\n",
       " (0, 3, 'Subir ascensor'),\n",
       " (0, 3, 'Bajar ascensor'),\n",
       " (1, 0, 'Subir ascensor'),\n",
       " (1, 1, 'Subir ascensor'),\n",
       " (1, 1, 'Bajar ascensor'),\n",
       " (1, 2, 'Subir ascensor'),\n",
       " (1, 2, 'Bajar ascensor'),\n",
       " (1, 3, 'Subir ascensor'),\n",
       " (1, 3, 'Bajar ascensor'),\n",
       " (2, 0, 'Subir ascensor'),\n",
       " (2, 1, 'Subir ascensor'),\n",
       " (2, 1, 'Bajar ascensor'),\n",
       " (2, 2, 'Subir ascensor'),\n",
       " (2, 2, 'Bajar ascensor'),\n",
       " (2, 3, 'Subir ascensor'),\n",
       " (2, 3, 'Bajar ascensor'),\n",
       " (3, 0, 'Subir ascensor'),\n",
       " (3, 1, 'Subir ascensor'),\n",
       " (3, 1, 'Bajar ascensor'),\n",
       " (3, 2, 'Subir ascensor'),\n",
       " (3, 2, 'Bajar ascensor'),\n",
       " (3, 3, 'Subir ascensor'),\n",
       " (3, 3, 'Bajar ascensor'),\n",
       " (4, 0, 'Subir ascensor'),\n",
       " (4, 1, 'Subir ascensor'),\n",
       " (4, 1, 'Bajar ascensor'),\n",
       " (4, 2, 'Subir ascensor'),\n",
       " (4, 2, 'Bajar ascensor'),\n",
       " (4, 3, 'Subir ascensor'),\n",
       " (4, 3, 'Bajar ascensor')]"
      ]
     },
     "execution_count": 6,
     "metadata": {},
     "output_type": "execute_result"
    }
   ],
   "source": [
    "p.actions(p.initial)"
   ]
  },
  {
   "cell_type": "code",
   "execution_count": 7,
   "metadata": {},
   "outputs": [
    {
     "data": {
      "text/plain": [
       "(((0, 2), (0, 4), (0, 1), (1, 8), (0, 1)), ((0, 0), (1, 5), (1, 6), (2, 10)))"
      ]
     },
     "execution_count": 7,
     "metadata": {},
     "output_type": "execute_result"
    }
   ],
   "source": [
    "p.result(p.initial, (0,0, \"Mover ascensor\"))"
   ]
  },
  {
   "cell_type": "code",
   "execution_count": 8,
   "metadata": {},
   "outputs": [],
   "source": [
    "# Importamos los modulos pertenecinetes a los algoritmos de busqueda \n",
    "from search import *\n",
    "from search import breadth_first_tree_search, depth_first_tree_search, depth_first_graph_search, breadth_first_graph_search"
   ]
  },
  {
   "cell_type": "code",
   "execution_count": 9,
   "metadata": {},
   "outputs": [],
   "source": [
    "#%%time\n",
    "#breadth_first_graph_search(p).solution()"
   ]
  },
  {
   "cell_type": "code",
   "execution_count": 10,
   "metadata": {},
   "outputs": [],
   "source": [
    "#Definimos algunas Hehuristicas \n",
    "\n",
    "def linear(node): # dado un estado nos devuelve las personas que todavia no estan en su planta objetivo\n",
    "# es decir, que estan mal colocadas (como en el puzzle de 8)\n",
    "    result = 0\n",
    "    goal = fin\n",
    "    estado = node.state[0]\n",
    "    \n",
    "    for i in range (len(estado)):\n",
    "        if goal[i] != estado[i]:\n",
    "            result += 1\n",
    "    return result\n",
    "\n",
    "# Sería como el de distancia hasta su objetivo quitando los if que comprueban las paradas para cambio de ascensor\n",
    "def paradasTotales(node):\n",
    "    result = 0\n",
    "    bloque1 = (0,1,2,3,4)\n",
    "    bloque2 = (4,5,6,7,8)\n",
    "    bloque3 = (8,9,10,11,12)\n",
    "    \n",
    "    goal = fin\n",
    "    estado = node.state[0] \n",
    "    \n",
    "    for i in range (len(estado)):\n",
    "        plantaIni = estado[i][1]\n",
    "        plantaFin = goal[i][1]\n",
    "        #podemos ignorar la comporacion de goal[i] == estado[i] ya que el resultado es 0\n",
    "        result += abs(plantaFin - plantaIni)\n",
    "        \n",
    "        if plantaFin != plantaIni: \n",
    "        #Hago esto con conjuntos para determinar las paradas que han de hacer los ascensores Lentos\n",
    "        #Por ejemplo si el inicio esta en el bloque 1 y el objetivo es el bloque3 entonces ha de hacer dos paradas\n",
    "            if plantaIni < plantaFin: #Sube \n",
    "                if plantaFin in bloque2 and plantaIni in bloque1: \n",
    "                    result += 1\n",
    "                elif plantaFin in bloque3 and plantaIni in bloque1:\n",
    "                    result +=2\n",
    "                elif plantaFin in bloque3 and plantaIni in bloque2:\n",
    "                    result += 1\n",
    "            else: # Baja\n",
    "                if plantaIni in bloque3 and plantaFin in bloque2: \n",
    "                    result += 1\n",
    "                elif plantaIni in bloque3 and plantaFin in bloque1:\n",
    "                    result +=2\n",
    "                elif plantaIni in bloque2 and plantaFin in bloque1:\n",
    "                    result += 1\n",
    "                \n",
    "    return result\n",
    "\n",
    "def distanciaParaObjetivo(node):\n",
    "    result = 0\n",
    "    goal = fin\n",
    "    estado = node.state[0]\n",
    "    \n",
    "    for i in range (len(estado)):\n",
    "        #print(i)\n",
    "        if(goal[i][1] != estado[i][1]):\n",
    "            result += abs(goal[i][1] - estado[i][1])\n",
    "    \n",
    "    return result\n",
    "        \n",
    "    \n",
    "    \n"
   ]
  },
  {
   "cell_type": "code",
   "execution_count": null,
   "metadata": {},
   "outputs": [],
   "source": [
    "%%time\n",
    "astar_search(p, distanciaParaObjetivo).solution()"
   ]
  },
  {
   "cell_type": "code",
   "execution_count": null,
   "metadata": {},
   "outputs": [],
   "source": []
  }
 ],
 "metadata": {
  "kernelspec": {
   "display_name": "Python 3",
   "language": "python",
   "name": "python3"
  },
  "language_info": {
   "codemirror_mode": {
    "name": "ipython",
    "version": 3
   },
   "file_extension": ".py",
   "mimetype": "text/x-python",
   "name": "python",
   "nbconvert_exporter": "python",
   "pygments_lexer": "ipython3",
   "version": "3.7.4"
  }
 },
 "nbformat": 4,
 "nbformat_minor": 2
}
