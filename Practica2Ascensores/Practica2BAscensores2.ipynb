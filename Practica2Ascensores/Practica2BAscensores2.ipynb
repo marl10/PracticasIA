{
 "cells": [
  {
   "cell_type": "code",
   "execution_count": 37,
   "metadata": {},
   "outputs": [],
   "source": [
    "#Representacion de los estados para la resolaucion del problema de los ascensores. \n",
    "#aaa\n",
    "\n",
    "#Estado Inicial: \n",
    "#          * personas indicando la plata actual en la que estan\n",
    "#ini = ((1, 3, 4), ((0,[]),(0,[])))\n",
    "ini = (((-1,2), (-1,4), (-1,1),(-1,8),(-1,1)), ((0,0,2,(-1,-1), (1,5,2,(-1,-1)), (1,6,2,(-1,-1)), (2, 10,2,(-1,-1)))))\n",
    "#Reresentacion des estado final solo de las personas ya que los ascensores no importa doende \n",
    "fin = ((0,3), (2,11), (2,12),(0,1), (1,9)) \n",
    "####ini = (((0,0), (0,4)),((0,0),(2,12)))\n",
    "####fin = ((0,1),(0,0))\n",
    "#                   * Ascensores tambien indicando en la planta actual en la que estan. \n",
    "\n",
    "\n",
    "#acaben \n"
   ]
  },
  {
   "cell_type": "code",
   "execution_count": 38,
   "metadata": {},
   "outputs": [],
   "source": [
    "# importamos las cosas que vamos a usar de aima\n",
    "\n",
    "from search import *\n",
    "\n",
    "class Ascensores(Problem):\n",
    "    ''' Clase Ascensores la cual implenta la clase abstracta Problema que nos ayuda a resover el porblema\n",
    "           con varias funciones de busqueda '''\n",
    "    def __init__(self,initial, goal):\n",
    "        '''Metodo que inicializa nustro problema'''\n",
    "        \n",
    "        Problem.__init__(self, initial, goal)\n",
    "        #self.search = initial\n",
    "        self.goal = goal\n",
    "        \n",
    "        \n",
    "    def actions(self, estado):\n",
    "        '''Apartir de un estado(n) dado nos lista un conjunto de acciones(a) que le podimos aplicar a n para\n",
    "        alcanzar otro estado n'  ''' \n",
    "        \n",
    "        listaPersonas = list(estado[0])\n",
    "        listAscensores = list(estado[1])\n",
    "        \n",
    "        acciones = list() \n",
    "      \n",
    "        for i in range (len(listaPersonas)):\n",
    "            persona = listaPersonas[i] #tupla (ascensor, pisoAct)\n",
    "            \n",
    "            for j in range (len(listAscensores)):#pos(   0       1          2     3     3(0)     3(1)  )\n",
    "                ascensor = listAscensores[j] #tupla (bloque, pisoAct, capacidad, (pasajero1, pasajero2))\n",
    "                if (ascensor[0] == 0 and ascensor[1] < 4) or (ascensor[0] == 1 and ascensor[1] < 8) or (ascensor[0] == 2 and ascensor[1] < 12):\n",
    "                    acciones.append((i,j, \"Subir ascensor\")) #Subir ascensor con restricciones de bloque\n",
    "                if  (ascensor[0] == 0 and ascensor[1] > 0) or (ascensor[0] == 1 and ascensor[1] > 4) or (ascensor[0] == 2 and ascensor[1] > 8):\n",
    "                    acciones.append((i,j, \"Bajar ascensor\")) #Subir ascensor con restricciones de bloque\n",
    "                if persona[1] == ascensor[1] and persona[1] < 12 and persona[0] == j: #Pos per = Pos as Y persona no en techo Y persona en ascensor\n",
    "                    acciones.append((i,j, \"Bajar pasajero\"))           #pordria bajar\n",
    "                if persona[1] == ascensor[1] and persona[1] > 0 and persona[0] == j: #Pos per = Pos as Y persona no en suelo Y persona en ascensor \n",
    "                    acciones.append((i,j, \"Subir pasajero\"))\n",
    "                if ascensor[2] > 0 and persona[1] == ascensor[1] and persona[0] != j: #Si la capacidad es mayor que cero y la persona comparte piso con el ascensor\n",
    "                    acciones.append((i,j, \"Montar pasajero\"))                         #SE PUEDE CAMBIAR UN PASAJERO DE ASCENSOR\n",
    "                if 0 < len(ascensor[3]) and persona[1] == ascensor[1] and persona[0] == j: #No se bro, se me ha ocurrido esto, pero amos, que ete tu a saer\n",
    "                    acciones.append((i,j, \"Desmontar pasajero\"))\n",
    "                #en el momento que ascensor este en la misma planta que la persona el arbol se ramifica en dos caminos\n",
    "                #por lo que se generaran estas dos acciones. Quien decida que accion utilizar será la heuristica \n",
    "                #puesto que cogere la que menos heuristica tenga ya que estará mas cerca de la solución\n",
    "                \n",
    "        return acciones; \n",
    "\n",
    "        \n",
    "    #accion = (plantaPersona,PlantaAscensor, accion en string)\n",
    "    def result(self, estado, accion):\n",
    "        '''Dado un estado(n, nodo actual) y una accion(a) nos permite general un nuevo nodo(n') aplicando la accion dada'''\n",
    "        listaPersonas = list(estado[0]) #la primera(0)posicion de la tupla de estado la convertimos a una lista\n",
    "        listAscensores = list(estado[1])# Idema para los ascensores con la segunda posicion (1)\n",
    "\n",
    "        persona = accion[0] # Extraemos la posicion de la listaen donde se encutra la persona a modificar su posicion en el edificio\n",
    "        ascensor = accion[1]# Idem con los ascensores \n",
    "                #Se hace simplemente para facilitar la lectura del codigo\n",
    "\n",
    "        actualPersona = list(listaPersonas[persona]) #tupla (bloque, pisoAct, capacidad, (pasajero1, pasajero2))\n",
    "        actualAscensor = list(listAscensores[ascensor])#idem con el ascensor (ascensor, posAct)\n",
    "\n",
    "        if accion[2] == \"Subir ascensor\":\n",
    "            actualAscensor[1] += 1 # Si es llamar a la posicion actual le asignamos la posicion \n",
    "                    #actual de la persona que ha solicitado el ascensor\n",
    "        elif accion[2] == \"Bajar ascensor\":\n",
    "            actualAscensor[1] -= 1 # Si es llamar a la posicion actual le asignamos la posicion \n",
    "                    #actual de la persona que ha solicitado el ascensor\n",
    "        elif accion[2] == \"Bajar pasajero\": #Si es bajar restamos en uno la posicion actual de ambos(bajan un piso)\n",
    "            actualPersona[1] -= 1 \n",
    "            actualAscensor[1] -=1\n",
    "        elif accion[2] == \"Subir pasajero\": #Si es Subir sumamos en uno la posicion actual de ambos(sube un piso)\n",
    "            actualPersona[1] += 1\n",
    "            actualAscensor[1] += 1\n",
    "        elif accion[2] == \"Montar pasajero\":\n",
    "            actualAscensor[2] -= 1 #La capacidad desciende en uno\n",
    "            for i in range (len(actualAscensor[3])):\n",
    "                if(actualAscensor[3][i] == -1):\n",
    "                    actualAscensor[3][i] = persona\n",
    "                    break\n",
    "            #actualAscensor[3].append(persona) #Añado al pasajero a la lista de pasajeros del ascensor\n",
    "            actualPersona[0] = ascensor\n",
    "        elif accion[2] == \"Desmontar pasajero\":\n",
    "            actualAscensor[2] += 1 #La capacidad desciende en uno\n",
    "            for i in range (len(actualAscensor[3])):\n",
    "                if(actualAscensor[3][i] == persona):\n",
    "                    actualAscensor[3][i] = -1\n",
    "                    break\n",
    "            actualAscensor[3].remove(persona) #Añado al pasajero a la lista de pasajeros del ascensor\n",
    "            actualPersona[0] = -1\n",
    "        listaPersonas[persona] = tuple(actualPersona)\n",
    "        listAscensores[ascensor] = tuple(actualAscensor)\n",
    "        return (tuple(listaPersonas), tuple(listAscensores))\n",
    "\n",
    "    def goal_test(self, estado): # Devuelve true si se ha alcanzado el estado objetivo \n",
    "        cond = True\n",
    "        for i in range (len(estado[0])):\n",
    "            cond = cond and (self.goal[i][1] == estado[0][i][1]) #tupla (ascensor, pisoAct,...)\n",
    "        return cond\n"
   ]
  },
  {
   "cell_type": "code",
   "execution_count": 39,
   "metadata": {},
   "outputs": [
    {
     "ename": "TypeError",
     "evalue": "'int' object is not iterable",
     "output_type": "error",
     "traceback": [
      "\u001b[0;31m---------------------------------------------------------------------------\u001b[0m",
      "\u001b[0;31mTypeError\u001b[0m                                 Traceback (most recent call last)",
      "\u001b[0;32m<ipython-input-39-6fed03b25b87>\u001b[0m in \u001b[0;36m<module>\u001b[0;34m\u001b[0m\n\u001b[1;32m     11\u001b[0m \u001b[0;34m\u001b[0m\u001b[0m\n\u001b[1;32m     12\u001b[0m \u001b[0mactualPersona\u001b[0m \u001b[0;34m=\u001b[0m \u001b[0mlist\u001b[0m\u001b[0;34m(\u001b[0m\u001b[0mlistaPersonas\u001b[0m\u001b[0;34m[\u001b[0m\u001b[0mpersona\u001b[0m\u001b[0;34m]\u001b[0m\u001b[0;34m)\u001b[0m \u001b[0;31m#Planta actual donde se encutra la persona (bloque, posAct)\u001b[0m\u001b[0;34m\u001b[0m\u001b[0;34m\u001b[0m\u001b[0m\n\u001b[0;32m---> 13\u001b[0;31m \u001b[0mactualAscensor\u001b[0m \u001b[0;34m=\u001b[0m \u001b[0mlist\u001b[0m\u001b[0;34m(\u001b[0m\u001b[0mlistAscensores\u001b[0m\u001b[0;34m[\u001b[0m\u001b[0mascensor\u001b[0m\u001b[0;34m]\u001b[0m\u001b[0;34m)\u001b[0m\u001b[0;31m#idem con el ascensor (bloque, posAct)\u001b[0m\u001b[0;34m\u001b[0m\u001b[0;34m\u001b[0m\u001b[0m\n\u001b[0m\u001b[1;32m     14\u001b[0m \u001b[0;34m\u001b[0m\u001b[0m\n\u001b[1;32m     15\u001b[0m \u001b[0;32mif\u001b[0m \u001b[0maccion\u001b[0m\u001b[0;34m[\u001b[0m\u001b[0;36m2\u001b[0m\u001b[0;34m]\u001b[0m \u001b[0;34m==\u001b[0m \u001b[0;34m\"Mover ascensor\"\u001b[0m\u001b[0;34m:\u001b[0m\u001b[0;34m\u001b[0m\u001b[0;34m\u001b[0m\u001b[0m\n",
      "\u001b[0;31mTypeError\u001b[0m: 'int' object is not iterable"
     ]
    }
   ],
   "source": [
    "estado = ini\n",
    "accion = (0,0, \"Mover ascensor\")\n",
    "\n",
    "l = list(estado)\n",
    "listaPersonas = list(estado[0]) #la primera(0)posicion de la tupla de estado la convertimos a una lista\n",
    "listAscensores = list(estado[1])# Idema para los ascensores con la segunda posicion (1)\n",
    "        \n",
    "persona = accion[0] # Extraemos la posicion de la listaen donde se encutra la persona a modificar su posicion en el edificio\n",
    "ascensor = accion[1]# Idem con los ascensores \n",
    "        #Se hace simplemente para facilitar la lectura del codigo\n",
    "        \n",
    "actualPersona = list(listaPersonas[persona]) #Planta actual donde se encutra la persona (bloque, posAct)\n",
    "actualAscensor = list(listAscensores[ascensor])#idem con el ascensor (bloque, posAct)\n",
    "        \n",
    "if accion[2] == \"Mover ascensor\":\n",
    "    actualAscensor[1] = int(actualPersona[1]) # Si es llamar a la posicion actual le asignamos la posicion \n",
    "            #actual de la persona que ha solicitado el ascensor\n",
    "    listaPersonas[persona] = tuple(actualPersona)\n",
    "    listAscensores[ascensor] = tuple(actualAscensor)\n",
    "if accion[2] == \"Bajar pasajero\": #Si es bajar restamos en uno la posicion actual de ambos(bajan un piso)\n",
    "    actualPersona[1] -= 1 \n",
    "    actualAscensor[1] -=1\n",
    "    listaPersonas[persona] = tuple(actualPersona)\n",
    "    listAscensores[ascensor] = tuple(actualAscensor)\n",
    "if accion[2] == \"Subir pasajero\": #Si es Subir sumamos en uno la posicion actual de ambos(sube un piso)\n",
    "    actualPersona[1] += 1\n",
    "    actualAscensor[1] +=1\n",
    "    listaPersonas[persona] = tuple(actualPersona)\n",
    "    listAscensores[ascensor] = tuple(actualAscensor)\n",
    "        \n",
    "print(tuple(listaPersonas), tuple(listAscensores))"
   ]
  },
  {
   "cell_type": "code",
   "execution_count": 40,
   "metadata": {},
   "outputs": [
    {
     "data": {
      "text/plain": [
       "(((-1, 2), (-1, 4), (-1, 1), (-1, 8), (-1, 1)),\n",
       " (0,\n",
       "  0,\n",
       "  2,\n",
       "  (-1, -1),\n",
       "  (1, 5, 2, (-1, -1)),\n",
       "  (1, 6, 2, (-1, -1)),\n",
       "  (2, 10, 2, (-1, -1))))"
      ]
     },
     "execution_count": 40,
     "metadata": {},
     "output_type": "execute_result"
    }
   ],
   "source": [
    "p = Ascensores(ini, fin)\n",
    "p.initial"
   ]
  },
  {
   "cell_type": "code",
   "execution_count": 41,
   "metadata": {},
   "outputs": [
    {
     "data": {
      "text/plain": [
       "(((0, 1), (1, 7), (2, 11)), ((0, 0), (1, 5), (1, 6), (2, 10)))"
      ]
     },
     "execution_count": 41,
     "metadata": {},
     "output_type": "execute_result"
    }
   ],
   "source": [
    "p.result((((0, 1), (1, 7), (2, 11)), ((0, 0), (1, 5), (1, 6), (2, 10))), (0, 0, \"Mover ascensor\"))"
   ]
  },
  {
   "cell_type": "code",
   "execution_count": 29,
   "metadata": {},
   "outputs": [
    {
     "data": {
      "text/plain": [
       "[(0, 0, 'Subir ascensor'),\n",
       " (0, 1, 'Subir ascensor'),\n",
       " (0, 1, 'Bajar ascensor'),\n",
       " (0, 2, 'Subir ascensor'),\n",
       " (0, 2, 'Bajar ascensor'),\n",
       " (0, 3, 'Subir ascensor'),\n",
       " (0, 3, 'Bajar ascensor'),\n",
       " (1, 0, 'Subir ascensor'),\n",
       " (1, 1, 'Subir ascensor'),\n",
       " (1, 1, 'Bajar ascensor'),\n",
       " (1, 2, 'Subir ascensor'),\n",
       " (1, 2, 'Bajar ascensor'),\n",
       " (1, 3, 'Subir ascensor'),\n",
       " (1, 3, 'Bajar ascensor'),\n",
       " (2, 0, 'Subir ascensor'),\n",
       " (2, 1, 'Subir ascensor'),\n",
       " (2, 1, 'Bajar ascensor'),\n",
       " (2, 2, 'Subir ascensor'),\n",
       " (2, 2, 'Bajar ascensor'),\n",
       " (2, 3, 'Subir ascensor'),\n",
       " (2, 3, 'Bajar ascensor'),\n",
       " (3, 0, 'Subir ascensor'),\n",
       " (3, 1, 'Subir ascensor'),\n",
       " (3, 1, 'Bajar ascensor'),\n",
       " (3, 2, 'Subir ascensor'),\n",
       " (3, 2, 'Bajar ascensor'),\n",
       " (3, 3, 'Subir ascensor'),\n",
       " (3, 3, 'Bajar ascensor'),\n",
       " (4, 0, 'Subir ascensor'),\n",
       " (4, 1, 'Subir ascensor'),\n",
       " (4, 1, 'Bajar ascensor'),\n",
       " (4, 2, 'Subir ascensor'),\n",
       " (4, 2, 'Bajar ascensor'),\n",
       " (4, 3, 'Subir ascensor'),\n",
       " (4, 3, 'Bajar ascensor')]"
      ]
     },
     "execution_count": 29,
     "metadata": {},
     "output_type": "execute_result"
    }
   ],
   "source": [
    "p.actions(p.initial)"
   ]
  },
  {
   "cell_type": "code",
   "execution_count": 30,
   "metadata": {},
   "outputs": [
    {
     "data": {
      "text/plain": [
       "(((-1, 2), (-1, 4), (-1, 1), (-1, 8), (-1, 1)),\n",
       " ((0, 0, 2, []), (1, 5, 2, []), (1, 6, 2, []), (2, 10, 2, [])))"
      ]
     },
     "execution_count": 30,
     "metadata": {},
     "output_type": "execute_result"
    }
   ],
   "source": [
    "p.result(p.initial, (0,0, \"Mover ascensor\"))"
   ]
  },
  {
   "cell_type": "code",
   "execution_count": 31,
   "metadata": {},
   "outputs": [],
   "source": [
    "# Importamos los modulos pertenecinetes a los algoritmos de busqueda \n",
    "from search import *\n",
    "from search import breadth_first_tree_search, depth_first_tree_search, depth_first_graph_search, breadth_first_graph_search"
   ]
  },
  {
   "cell_type": "code",
   "execution_count": 32,
   "metadata": {},
   "outputs": [],
   "source": [
    "#%%time\n",
    "#breadth_first_graph_search(p).solution()"
   ]
  },
  {
   "cell_type": "code",
   "execution_count": 33,
   "metadata": {},
   "outputs": [],
   "source": [
    "\n",
    "\n",
    "\n",
    "\n",
    "def linear(node): # dado un estado nos devuelve las personas que todavia no estan en su planta objetivo\n",
    "# es decir, que estan mal colocadas (como en el puzzle de 8)\n",
    "    result = 0\n",
    "    goal = fin\n",
    "    estado = node.state[0]\n",
    "    \n",
    "    for i in range (len(estado)):\n",
    "        if goal[i] != estado[i]:\n",
    "            result += 1\n",
    "    return result\n",
    "\n",
    "# Sería como el de distancia hasta su objetivo quitando los if que comprueban las paradas para cambio de ascensor\n",
    "def paradasTotales(node):\n",
    "    result = 0\n",
    "    bloque1 = (0,1,2,3,4)\n",
    "    bloque2 = (4,5,6,7,8)\n",
    "    bloque3 = (8,9,10,11,12)\n",
    "    \n",
    "    goal = fin\n",
    "    estado = node.state[0] \n",
    "    \n",
    "    for i in range (len(estado)):\n",
    "        plantaIni = estado[i][1]\n",
    "        plantaFin = goal[i][1]\n",
    "        #podemos ignorar la comporacion de goal[i] == estado[i] ya que el resultado es 0\n",
    "        result += abs(plantaFin - plantaIni)\n",
    "        \n",
    "        if plantaFin != plantaIni: \n",
    "        #Hago esto con conjuntos para determinar las paradas que han de hacer los ascensores Lentos\n",
    "        #Por ejemplo si el inicio esta en el bloque 1 y el objetivo es el bloque3 entonces ha de hacer dos paradas\n",
    "            if plantaIni < plantaFin: #Sube \n",
    "                if plantaFin in bloque2 and plantaIni in bloque1: \n",
    "                    result += 1\n",
    "                elif plantaFin in bloque3 and plantaIni in bloque1:\n",
    "                    result +=2\n",
    "                elif plantaFin in bloque3 and plantaIni in bloque2:\n",
    "                    result += 1\n",
    "            else: # Baja\n",
    "                if plantaIni in bloque3 and plantaFin in bloque2: \n",
    "                    result += 1\n",
    "                elif plantaIni in bloque3 and plantaFin in bloque1:\n",
    "                    result +=2\n",
    "                elif plantaIni in bloque2 and plantaFin in bloque1:\n",
    "                    result += 1\n",
    "                \n",
    "    return result\n",
    "\n",
    "def distanciaParaObjetivo(node):\n",
    "    result = 0\n",
    "    goal = fin\n",
    "    estado = node.state[0]\n",
    "    \n",
    "    for i in range (len(estado)):\n",
    "        #print(i)\n",
    "        if(goal[i][1] != estado[i][1]):\n",
    "            result += abs(goal[i][1] - estado[i][1])\n",
    "    \n",
    "    return result\n",
    "        \n",
    "    \n",
    "    \n"
   ]
  },
  {
   "cell_type": "code",
   "execution_count": 34,
   "metadata": {},
   "outputs": [],
   "source": [
    "#Definimos algunas Hehuristicas \n",
    "#euristica de moha: suma de la distancia de los pasajeros montados hasta su planta objetivo y la suma de la distancia de lospasajeros sin montar hasta la ubicacion del ascensor\n",
    "\n",
    "def heuristicaMoha(node):\n",
    "    result = 0\n",
    "    estado = node.state\n",
    "    goal = fin\n",
    "    distPersonas = 0\n",
    "    distElev = 0\n",
    "    listaPersonas = list(estado[0]) #todas las personas \n",
    "    listaAscensores = list(estado[1]) #todos los ascensores\n",
    "\n",
    "    for i in range (len(listaPersonas)):\n",
    "        distPersonas += abs(listaPersonas[i][1] - goal[i][1])\n",
    "        for j in range(len(listAscensores)):\n",
    "            distElev += abs(listaPersonas[i][1] - listAscensores[j][1])\n",
    "        result = distPersonas + distElev\n",
    "    return result"
   ]
  },
  {
   "cell_type": "code",
   "execution_count": 35,
   "metadata": {},
   "outputs": [
    {
     "ename": "TypeError",
     "evalue": "unhashable type: 'list'",
     "output_type": "error",
     "traceback": [
      "\u001b[0;31m---------------------------------------------------------------------------\u001b[0m",
      "\u001b[0;31mTypeError\u001b[0m                                 Traceback (most recent call last)",
      "\u001b[0;32m<timed eval>\u001b[0m in \u001b[0;36m<module>\u001b[0;34m\u001b[0m\n",
      "\u001b[0;32m~/Desktop/IA/AIMA GIT/PracticasIA/Practica2Ascensores/search.py\u001b[0m in \u001b[0;36mastar_search\u001b[0;34m(problem, h, display)\u001b[0m\n\u001b[1;32m    414\u001b[0m     else in your Problem subclass.\"\"\"\n\u001b[1;32m    415\u001b[0m     \u001b[0mh\u001b[0m \u001b[0;34m=\u001b[0m \u001b[0mmemoize\u001b[0m\u001b[0;34m(\u001b[0m\u001b[0mh\u001b[0m \u001b[0;32mor\u001b[0m \u001b[0mproblem\u001b[0m\u001b[0;34m.\u001b[0m\u001b[0mh\u001b[0m\u001b[0;34m,\u001b[0m \u001b[0;34m'h'\u001b[0m\u001b[0;34m)\u001b[0m\u001b[0;34m\u001b[0m\u001b[0;34m\u001b[0m\u001b[0m\n\u001b[0;32m--> 416\u001b[0;31m     \u001b[0;32mreturn\u001b[0m \u001b[0mbest_first_graph_search\u001b[0m\u001b[0;34m(\u001b[0m\u001b[0mproblem\u001b[0m\u001b[0;34m,\u001b[0m \u001b[0;32mlambda\u001b[0m \u001b[0mn\u001b[0m\u001b[0;34m:\u001b[0m \u001b[0mn\u001b[0m\u001b[0;34m.\u001b[0m\u001b[0mpath_cost\u001b[0m \u001b[0;34m+\u001b[0m \u001b[0mh\u001b[0m\u001b[0;34m(\u001b[0m\u001b[0mn\u001b[0m\u001b[0;34m)\u001b[0m\u001b[0;34m,\u001b[0m \u001b[0mdisplay\u001b[0m\u001b[0;34m)\u001b[0m\u001b[0;34m\u001b[0m\u001b[0;34m\u001b[0m\u001b[0m\n\u001b[0m\u001b[1;32m    417\u001b[0m \u001b[0;34m\u001b[0m\u001b[0m\n\u001b[1;32m    418\u001b[0m \u001b[0;34m\u001b[0m\u001b[0m\n",
      "\u001b[0;32m~/Desktop/IA/AIMA GIT/PracticasIA/Practica2Ascensores/search.py\u001b[0m in \u001b[0;36mbest_first_graph_search\u001b[0;34m(problem, f, display)\u001b[0m\n\u001b[1;32m    277\u001b[0m                 \u001b[0mprint\u001b[0m\u001b[0;34m(\u001b[0m\u001b[0mlen\u001b[0m\u001b[0;34m(\u001b[0m\u001b[0mexplored\u001b[0m\u001b[0;34m)\u001b[0m\u001b[0;34m,\u001b[0m \u001b[0;34m\"paths have been expanded and\"\u001b[0m\u001b[0;34m,\u001b[0m \u001b[0mlen\u001b[0m\u001b[0;34m(\u001b[0m\u001b[0mfrontier\u001b[0m\u001b[0;34m)\u001b[0m\u001b[0;34m,\u001b[0m \u001b[0;34m\"paths remain in the frontier\"\u001b[0m\u001b[0;34m)\u001b[0m\u001b[0;34m\u001b[0m\u001b[0;34m\u001b[0m\u001b[0m\n\u001b[1;32m    278\u001b[0m             \u001b[0;32mreturn\u001b[0m \u001b[0mnode\u001b[0m\u001b[0;34m\u001b[0m\u001b[0;34m\u001b[0m\u001b[0m\n\u001b[0;32m--> 279\u001b[0;31m         \u001b[0mexplored\u001b[0m\u001b[0;34m.\u001b[0m\u001b[0madd\u001b[0m\u001b[0;34m(\u001b[0m\u001b[0mnode\u001b[0m\u001b[0;34m.\u001b[0m\u001b[0mstate\u001b[0m\u001b[0;34m)\u001b[0m\u001b[0;34m\u001b[0m\u001b[0;34m\u001b[0m\u001b[0m\n\u001b[0m\u001b[1;32m    280\u001b[0m         \u001b[0;32mfor\u001b[0m \u001b[0mchild\u001b[0m \u001b[0;32min\u001b[0m \u001b[0mnode\u001b[0m\u001b[0;34m.\u001b[0m\u001b[0mexpand\u001b[0m\u001b[0;34m(\u001b[0m\u001b[0mproblem\u001b[0m\u001b[0;34m)\u001b[0m\u001b[0;34m:\u001b[0m\u001b[0;34m\u001b[0m\u001b[0;34m\u001b[0m\u001b[0m\n\u001b[1;32m    281\u001b[0m             \u001b[0;32mif\u001b[0m \u001b[0mchild\u001b[0m\u001b[0;34m.\u001b[0m\u001b[0mstate\u001b[0m \u001b[0;32mnot\u001b[0m \u001b[0;32min\u001b[0m \u001b[0mexplored\u001b[0m \u001b[0;32mand\u001b[0m \u001b[0mchild\u001b[0m \u001b[0;32mnot\u001b[0m \u001b[0;32min\u001b[0m \u001b[0mfrontier\u001b[0m\u001b[0;34m:\u001b[0m\u001b[0;34m\u001b[0m\u001b[0;34m\u001b[0m\u001b[0m\n",
      "\u001b[0;31mTypeError\u001b[0m: unhashable type: 'list'"
     ]
    }
   ],
   "source": [
    "%%time\n",
    "astar_search(p, heuristicaMoha).solution()"
   ]
  },
  {
   "cell_type": "code",
   "execution_count": null,
   "metadata": {},
   "outputs": [],
   "source": []
  }
 ],
 "metadata": {
  "kernelspec": {
   "display_name": "Python 3",
   "language": "python",
   "name": "python3"
  },
  "language_info": {
   "codemirror_mode": {
    "name": "ipython",
    "version": 3
   },
   "file_extension": ".py",
   "mimetype": "text/x-python",
   "name": "python",
   "nbconvert_exporter": "python",
   "pygments_lexer": "ipython3",
   "version": "3.7.4"
  }
 },
 "nbformat": 4,
 "nbformat_minor": 2
}
