{
 "cells": [
  {
   "cell_type": "code",
   "execution_count": 21,
   "metadata": {},
   "outputs": [],
   "source": [
    "#Representacion de los estados para la resolaucion del problema de los ascensores. \n",
    "\n",
    "#Estado Inicial: \n",
    "#          * personas indicando la plata actual en la que estan\n",
    "#ini = ((1, 3, 4), ((0,[]),(0,[])))\n",
    "ini = ((1, 3, 4), (1,0))\n",
    "#                   * Ascensores tambien indicando en la planta actual en la que estan. \n",
    "\n",
    "\n",
    "fin = ((2, 4, 1)) #Reresentacion des estado final solo de las personas ya que los ascensores no importa doende \n",
    "#acaben \n"
   ]
  },
  {
   "cell_type": "code",
   "execution_count": 39,
   "metadata": {},
   "outputs": [],
   "source": [
    "# importamos las cosas que vamos a usar de aima\n",
    "from search import *\n",
    "\n",
    "class Ascensores(Problem):\n",
    "    ''' Clase Ascensores la cual implenta la clase abstracta Problema que nos ayuda a resover el porblema\n",
    "           con varias funciones de busqueda '''\n",
    "    def __init__(self,initial, goal):\n",
    "        '''Metodo que inicializa nustro problema'''\n",
    "        self.goal = goal\n",
    "        Problem.__init__(self, initial, goal)\n",
    "        #self.search = initial\n",
    "        \n",
    "    def actions(self, estado):\n",
    "        '''Apartir de un estado(n) dado nos lista un conjunto de acciones(a) que le podimos aplicar a n para\n",
    "        alcanzar otro estado n'  ''' \n",
    "        \n",
    "        listaPersonas = list(estado[0])\n",
    "        listAscensores = list(estado[1])\n",
    "        \n",
    "        acciones = list() \n",
    "        \n",
    "        for i in range (len(listaPersonas)):\n",
    "            persona = listaPersonas[i]\n",
    "            \n",
    "            for j in range (len(listAscensores)):\n",
    "                ascensor = int(listAscensores[j])\n",
    "                if persona != ascensor: \n",
    "                    acciones.append((i,j, \"Llamar\")) # sube al ascensor j a la planta donde esta la persona i\n",
    "                if persona == ascensor and int(persona) < 12: # para si la persona esta en la ultima planta solo\n",
    "                    acciones.append((i,j, \"Subir\"))           #pordria bajar \n",
    "                if persona == ascensor and int(persona) > 0: # Idem pero al reves \n",
    "                    acciones.append((i,j, \"Bajar\"))\n",
    "                #en el momento que ascensor este en la misma planta que la persona el arbol se ramifica en dos caminos\n",
    "                #por lo que se generaran estas dos acciones. Quien decida que accion utilizar será la heuristica \n",
    "                #puesto que cogere la que menos heuristica tenga ya que estará mas cerca de la solución\n",
    "                \n",
    "        return acciones; \n",
    "\n",
    "\n",
    "    \n",
    "    def result(self, estado, accion):\n",
    "        '''Dado un estado(n, nodo actual) y una accion(a) nos permite general un nuevo nodo(n') aplicando la accion dada'''\n",
    "        l = list(estado)\n",
    "        listaPersonas = list(estado[0]) #la primera(0)posicion de la tupla de estado la convertimos a una lista\n",
    "        listAscensores = list(estado[1])# Idema para los ascensores con la segunda posicion (1)\n",
    "        \n",
    "        persona = accion[0] # Extraemos la posicion de la listaen donde se encutra la persona a modificar su posicion en el edificio\n",
    "        ascensor = accion[1]# Idem con los ascensores \n",
    "        #Se hace simplemente para facilitar la lectura del codigo\n",
    "        \n",
    "        actualPersona = listaPersonas[persona] #Planta actual donde se encutra la persona\n",
    "        actualAscensor = listAscensores[ascensor]#idem con el ascensor\n",
    "        \n",
    "        if accion[2] == \"Llamar\":\n",
    "            listAscensores[ascensor] = int(actualPersona) # Si es llamar a la posicion actual le asignamos la posicion \n",
    "            #actual de la persona que ha solicitado el ascensor\n",
    "        if accion[2] == \"Bajar\": #Si es bajar restamos en uno la posicion actual de ambos(bajan un piso)\n",
    "            listaPersonas[actualPersona] -= 1 \n",
    "            listAscensores[actualAscensor] -=1\n",
    "        if accion[2] == \"Subir\": #Si es Subir sumamos en uno la posicion actual de ambos(sube un piso)\n",
    "            listaPersonas[actualPersona] += 1\n",
    "            listAscensores[actualAscensor] +=1\n",
    "        \n",
    "        return (tuple(listaPersonas), tuple(listAscensores))\n",
    "    \n",
    "    def goal_test(self, estado):\n",
    "        return estado[0] == self.goal\n",
    "\n",
    "\n",
    "        "
   ]
  },
  {
   "cell_type": "code",
   "execution_count": null,
   "metadata": {},
   "outputs": [],
   "source": []
  },
  {
   "cell_type": "code",
   "execution_count": 40,
   "metadata": {},
   "outputs": [
    {
     "data": {
      "text/plain": [
       "((1, 3, 4), (1, 0))"
      ]
     },
     "execution_count": 40,
     "metadata": {},
     "output_type": "execute_result"
    }
   ],
   "source": [
    "p = Ascensores(ini, fin)\n",
    "p.initial"
   ]
  },
  {
   "cell_type": "code",
   "execution_count": 41,
   "metadata": {},
   "outputs": [
    {
     "data": {
      "text/plain": [
       "[(0, 0, 'Subir'),\n",
       " (0, 0, 'Bajar'),\n",
       " (0, 1, 'Llamar'),\n",
       " (1, 0, 'Llamar'),\n",
       " (1, 1, 'Llamar'),\n",
       " (2, 0, 'Llamar'),\n",
       " (2, 1, 'Llamar')]"
      ]
     },
     "execution_count": 41,
     "metadata": {},
     "output_type": "execute_result"
    }
   ],
   "source": [
    "p.actions(p.initial)"
   ]
  },
  {
   "cell_type": "code",
   "execution_count": 42,
   "metadata": {},
   "outputs": [
    {
     "data": {
      "text/plain": [
       "((1, 3, 4), (1, 0))"
      ]
     },
     "execution_count": 42,
     "metadata": {},
     "output_type": "execute_result"
    }
   ],
   "source": [
    "p.result(p.initial, (0,0, \"Llamar\"))"
   ]
  },
  {
   "cell_type": "code",
   "execution_count": 43,
   "metadata": {},
   "outputs": [],
   "source": [
    "# Importamos los modulos pertenecinetes a los algoritmos de busqueda \n",
    "from search import *\n",
    "from search import breadth_first_tree_search, depth_first_tree_search, depth_first_graph_search, breadth_first_graph_search"
   ]
  },
  {
   "cell_type": "code",
   "execution_count": 44,
   "metadata": {},
   "outputs": [
    {
     "ename": "IndexError",
     "evalue": "list index out of range",
     "output_type": "error",
     "traceback": [
      "\u001b[0;31m---------------------------------------------------------------------------\u001b[0m",
      "\u001b[0;31mIndexError\u001b[0m                                Traceback (most recent call last)",
      "\u001b[0;32m<ipython-input-44-86aaacc40e6e>\u001b[0m in \u001b[0;36m<module>\u001b[0;34m\u001b[0m\n\u001b[0;32m----> 1\u001b[0;31m \u001b[0mbreadth_first_graph_search\u001b[0m\u001b[0;34m(\u001b[0m\u001b[0mp\u001b[0m\u001b[0;34m)\u001b[0m\u001b[0;34m.\u001b[0m\u001b[0msolution\u001b[0m\u001b[0;34m(\u001b[0m\u001b[0;34m)\u001b[0m\u001b[0;34m\u001b[0m\u001b[0;34m\u001b[0m\u001b[0m\n\u001b[0m",
      "\u001b[0;32m~/Ingenieria/TERCERO/IA/PracticasIA/Practica2Ascensores/search.py\u001b[0m in \u001b[0;36mbreadth_first_graph_search\u001b[0;34m(problem)\u001b[0m\n\u001b[1;32m    250\u001b[0m         \u001b[0mnode\u001b[0m \u001b[0;34m=\u001b[0m \u001b[0mfrontier\u001b[0m\u001b[0;34m.\u001b[0m\u001b[0mpopleft\u001b[0m\u001b[0;34m(\u001b[0m\u001b[0;34m)\u001b[0m\u001b[0;34m\u001b[0m\u001b[0;34m\u001b[0m\u001b[0m\n\u001b[1;32m    251\u001b[0m         \u001b[0mexplored\u001b[0m\u001b[0;34m.\u001b[0m\u001b[0madd\u001b[0m\u001b[0;34m(\u001b[0m\u001b[0mnode\u001b[0m\u001b[0;34m.\u001b[0m\u001b[0mstate\u001b[0m\u001b[0;34m)\u001b[0m\u001b[0;34m\u001b[0m\u001b[0;34m\u001b[0m\u001b[0m\n\u001b[0;32m--> 252\u001b[0;31m         \u001b[0;32mfor\u001b[0m \u001b[0mchild\u001b[0m \u001b[0;32min\u001b[0m \u001b[0mnode\u001b[0m\u001b[0;34m.\u001b[0m\u001b[0mexpand\u001b[0m\u001b[0;34m(\u001b[0m\u001b[0mproblem\u001b[0m\u001b[0;34m)\u001b[0m\u001b[0;34m:\u001b[0m\u001b[0;34m\u001b[0m\u001b[0;34m\u001b[0m\u001b[0m\n\u001b[0m\u001b[1;32m    253\u001b[0m             \u001b[0;32mif\u001b[0m \u001b[0mchild\u001b[0m\u001b[0;34m.\u001b[0m\u001b[0mstate\u001b[0m \u001b[0;32mnot\u001b[0m \u001b[0;32min\u001b[0m \u001b[0mexplored\u001b[0m \u001b[0;32mand\u001b[0m \u001b[0mchild\u001b[0m \u001b[0;32mnot\u001b[0m \u001b[0;32min\u001b[0m \u001b[0mfrontier\u001b[0m\u001b[0;34m:\u001b[0m\u001b[0;34m\u001b[0m\u001b[0;34m\u001b[0m\u001b[0m\n\u001b[1;32m    254\u001b[0m                 \u001b[0;32mif\u001b[0m \u001b[0mproblem\u001b[0m\u001b[0;34m.\u001b[0m\u001b[0mgoal_test\u001b[0m\u001b[0;34m(\u001b[0m\u001b[0mchild\u001b[0m\u001b[0;34m.\u001b[0m\u001b[0mstate\u001b[0m\u001b[0;34m)\u001b[0m\u001b[0;34m:\u001b[0m\u001b[0;34m\u001b[0m\u001b[0;34m\u001b[0m\u001b[0m\n",
      "\u001b[0;32m~/Ingenieria/TERCERO/IA/PracticasIA/Practica2Ascensores/search.py\u001b[0m in \u001b[0;36mexpand\u001b[0;34m(self, problem)\u001b[0m\n\u001b[1;32m     99\u001b[0m         \u001b[0;34m\"\"\"List the nodes reachable in one step from this node.\"\"\"\u001b[0m\u001b[0;34m\u001b[0m\u001b[0;34m\u001b[0m\u001b[0m\n\u001b[1;32m    100\u001b[0m         return [self.child_node(problem, action)\n\u001b[0;32m--> 101\u001b[0;31m                 for action in problem.actions(self.state)]\n\u001b[0m\u001b[1;32m    102\u001b[0m \u001b[0;34m\u001b[0m\u001b[0m\n\u001b[1;32m    103\u001b[0m     \u001b[0;32mdef\u001b[0m \u001b[0mchild_node\u001b[0m\u001b[0;34m(\u001b[0m\u001b[0mself\u001b[0m\u001b[0;34m,\u001b[0m \u001b[0mproblem\u001b[0m\u001b[0;34m,\u001b[0m \u001b[0maction\u001b[0m\u001b[0;34m)\u001b[0m\u001b[0;34m:\u001b[0m\u001b[0;34m\u001b[0m\u001b[0;34m\u001b[0m\u001b[0m\n",
      "\u001b[0;32m~/Ingenieria/TERCERO/IA/PracticasIA/Practica2Ascensores/search.py\u001b[0m in \u001b[0;36m<listcomp>\u001b[0;34m(.0)\u001b[0m\n\u001b[1;32m     99\u001b[0m         \u001b[0;34m\"\"\"List the nodes reachable in one step from this node.\"\"\"\u001b[0m\u001b[0;34m\u001b[0m\u001b[0;34m\u001b[0m\u001b[0m\n\u001b[1;32m    100\u001b[0m         return [self.child_node(problem, action)\n\u001b[0;32m--> 101\u001b[0;31m                 for action in problem.actions(self.state)]\n\u001b[0m\u001b[1;32m    102\u001b[0m \u001b[0;34m\u001b[0m\u001b[0m\n\u001b[1;32m    103\u001b[0m     \u001b[0;32mdef\u001b[0m \u001b[0mchild_node\u001b[0m\u001b[0;34m(\u001b[0m\u001b[0mself\u001b[0m\u001b[0;34m,\u001b[0m \u001b[0mproblem\u001b[0m\u001b[0;34m,\u001b[0m \u001b[0maction\u001b[0m\u001b[0;34m)\u001b[0m\u001b[0;34m:\u001b[0m\u001b[0;34m\u001b[0m\u001b[0;34m\u001b[0m\u001b[0m\n",
      "\u001b[0;32m~/Ingenieria/TERCERO/IA/PracticasIA/Practica2Ascensores/search.py\u001b[0m in \u001b[0;36mchild_node\u001b[0;34m(self, problem, action)\u001b[0m\n\u001b[1;32m    103\u001b[0m     \u001b[0;32mdef\u001b[0m \u001b[0mchild_node\u001b[0m\u001b[0;34m(\u001b[0m\u001b[0mself\u001b[0m\u001b[0;34m,\u001b[0m \u001b[0mproblem\u001b[0m\u001b[0;34m,\u001b[0m \u001b[0maction\u001b[0m\u001b[0;34m)\u001b[0m\u001b[0;34m:\u001b[0m\u001b[0;34m\u001b[0m\u001b[0;34m\u001b[0m\u001b[0m\n\u001b[1;32m    104\u001b[0m         \u001b[0;34m\"\"\"[Figure 3.10]\"\"\"\u001b[0m\u001b[0;34m\u001b[0m\u001b[0;34m\u001b[0m\u001b[0m\n\u001b[0;32m--> 105\u001b[0;31m         \u001b[0mnext_state\u001b[0m \u001b[0;34m=\u001b[0m \u001b[0mproblem\u001b[0m\u001b[0;34m.\u001b[0m\u001b[0mresult\u001b[0m\u001b[0;34m(\u001b[0m\u001b[0mself\u001b[0m\u001b[0;34m.\u001b[0m\u001b[0mstate\u001b[0m\u001b[0;34m,\u001b[0m \u001b[0maction\u001b[0m\u001b[0;34m)\u001b[0m\u001b[0;34m\u001b[0m\u001b[0;34m\u001b[0m\u001b[0m\n\u001b[0m\u001b[1;32m    106\u001b[0m         \u001b[0mnext_node\u001b[0m \u001b[0;34m=\u001b[0m \u001b[0mNode\u001b[0m\u001b[0;34m(\u001b[0m\u001b[0mnext_state\u001b[0m\u001b[0;34m,\u001b[0m \u001b[0mself\u001b[0m\u001b[0;34m,\u001b[0m \u001b[0maction\u001b[0m\u001b[0;34m,\u001b[0m \u001b[0mproblem\u001b[0m\u001b[0;34m.\u001b[0m\u001b[0mpath_cost\u001b[0m\u001b[0;34m(\u001b[0m\u001b[0mself\u001b[0m\u001b[0;34m.\u001b[0m\u001b[0mpath_cost\u001b[0m\u001b[0;34m,\u001b[0m \u001b[0mself\u001b[0m\u001b[0;34m.\u001b[0m\u001b[0mstate\u001b[0m\u001b[0;34m,\u001b[0m \u001b[0maction\u001b[0m\u001b[0;34m,\u001b[0m \u001b[0mnext_state\u001b[0m\u001b[0;34m)\u001b[0m\u001b[0;34m)\u001b[0m\u001b[0;34m\u001b[0m\u001b[0;34m\u001b[0m\u001b[0m\n\u001b[1;32m    107\u001b[0m         \u001b[0;32mreturn\u001b[0m \u001b[0mnext_node\u001b[0m\u001b[0;34m\u001b[0m\u001b[0;34m\u001b[0m\u001b[0m\n",
      "\u001b[0;32m<ipython-input-39-3de2de4154a8>\u001b[0m in \u001b[0;36mresult\u001b[0;34m(self, estado, accion)\u001b[0m\n\u001b[1;32m     59\u001b[0m             \u001b[0mlistAscensores\u001b[0m\u001b[0;34m[\u001b[0m\u001b[0mactualAscensor\u001b[0m\u001b[0;34m]\u001b[0m \u001b[0;34m-=\u001b[0m\u001b[0;36m1\u001b[0m\u001b[0;34m\u001b[0m\u001b[0;34m\u001b[0m\u001b[0m\n\u001b[1;32m     60\u001b[0m         \u001b[0;32mif\u001b[0m \u001b[0maccion\u001b[0m\u001b[0;34m[\u001b[0m\u001b[0;36m2\u001b[0m\u001b[0;34m]\u001b[0m \u001b[0;34m==\u001b[0m \u001b[0;34m\"Subir\"\u001b[0m\u001b[0;34m:\u001b[0m \u001b[0;31m#Si es Subir sumamos en uno la posicion actual de ambos(sube un piso)\u001b[0m\u001b[0;34m\u001b[0m\u001b[0;34m\u001b[0m\u001b[0m\n\u001b[0;32m---> 61\u001b[0;31m             \u001b[0mlistaPersonas\u001b[0m\u001b[0;34m[\u001b[0m\u001b[0mactualPersona\u001b[0m\u001b[0;34m]\u001b[0m \u001b[0;34m+=\u001b[0m \u001b[0;36m1\u001b[0m\u001b[0;34m\u001b[0m\u001b[0;34m\u001b[0m\u001b[0m\n\u001b[0m\u001b[1;32m     62\u001b[0m             \u001b[0mlistAscensores\u001b[0m\u001b[0;34m[\u001b[0m\u001b[0mactualAscensor\u001b[0m\u001b[0;34m]\u001b[0m \u001b[0;34m+=\u001b[0m\u001b[0;36m1\u001b[0m\u001b[0;34m\u001b[0m\u001b[0;34m\u001b[0m\u001b[0m\n\u001b[1;32m     63\u001b[0m \u001b[0;34m\u001b[0m\u001b[0m\n",
      "\u001b[0;31mIndexError\u001b[0m: list index out of range"
     ]
    }
   ],
   "source": [
    "breadth_first_graph_search(p).solution()"
   ]
  },
  {
   "cell_type": "code",
   "execution_count": 21,
   "metadata": {},
   "outputs": [],
   "source": [
    "#Definimos algunas Hehuristicas \n",
    "\n",
    "def linear(node): # dado un estado nos devuelve las personas que todavia no estan en su planta objetivo\n",
    "# es decir, que estan mal colocadas (como en el puzzle de 8)\n",
    "    result = 0\n",
    "    goal = fin\n",
    "    estado = node.state[0]\n",
    "    \n",
    "    for i in range (len(estado)):\n",
    "        if goal[i] != estado[i]:\n",
    "            result += 1\n",
    "    return result\n",
    "\n",
    "# Sería como el de distancia hasta su objetivo quitando los if que comprueban las paradas para cambio de ascensor\n",
    "def paradasTotales(node):\n",
    "    result = 0\n",
    "    bloque1 = (0,1,2,3,4)\n",
    "    bloque2 = (4,5,6,7,8)\n",
    "    bloque3 = (8,9,10,11,12)\n",
    "    \n",
    "    goal = fin\n",
    "    estado = node.state[0]\n",
    "    \n",
    "    for i in range (len(estado)):\n",
    "        plantaIni = estado[i]\n",
    "        plantaFin = goal[i]\n",
    "        #podemos ignorar la comporacion de goal[i] == estado[i] ya que el resultado es 0\n",
    "        result += abs(goal[i] - estado[i])\n",
    "        \n",
    "        if goal[i] != estado[i]: \n",
    "        #Hago esto con conjuntos para determinar las paradas que han de hacer los ascensores Lentos\n",
    "        #Por ejemplo si el inicio esta en el bloque 1 y el objetivo es el bloque3 entonces ha de hacer dos paradas\n",
    "            if plantaIni < plantaFin: #Sube \n",
    "                if plantaFin in bloque2 and plantaIni in bloque1: \n",
    "                    result += 1\n",
    "                elif plantaFin in bloque3 and plantaIni in bloque1:\n",
    "                    result +=2\n",
    "                elif plantaFin in bloque3 and plantaIni in bloque2:\n",
    "                    result += 1\n",
    "            else: # Baja\n",
    "                if plantaIni in bloque3 and plantaFin in bloque2: \n",
    "                    result += 1\n",
    "                elif plantaIni in bloque3 and plantaFin in bloque1:\n",
    "                    result +=2\n",
    "                elif plantaIni in bloque2 and plantaFin in bloque1:\n",
    "                    result += 1\n",
    "                \n",
    "    return result\n",
    "\n",
    "def distanciaParaObjetivo(node):\n",
    "    result = 0\n",
    "    goal = fin\n",
    "    estado = node.state[0]\n",
    "    \n",
    "    for i in range (len(estado)):\n",
    "        if(goal[i] != estado[i]):\n",
    "            result += abs(goal[i] - estado[i])\n",
    "    \n",
    "    return result\n",
    "        \n",
    "    \n",
    "    \n",
    "    \n",
    "    \n",
    "    \n",
    "    \n",
    "    \n",
    "    "
   ]
  },
  {
   "cell_type": "code",
   "execution_count": 107,
   "metadata": {},
   "outputs": [],
   "source": [
    "#astar_search(p, distanciaParaObjetivo).solution()"
   ]
  },
  {
   "cell_type": "code",
   "execution_count": null,
   "metadata": {},
   "outputs": [],
   "source": [
    "  # importamos las cosas que vamos a usar de aima\n",
    "from search import *\n",
    "\n",
    "class Ascensores(Problem):\n",
    "    ''' Clase Ascensores la cual implenta la clase abstracta Problema que nos ayuda a resover el porblema\n",
    "           con varias funciones de busqueda '''\n",
    "    def __init__(self,initial, goal):\n",
    "        '''Metodo que inicializa nustro problema'''\n",
    "        self.goal = goal\n",
    "        Problem.__init__(self, initial, goal)\n",
    "        #self.search = initial\n",
    "        \n",
    "        \n",
    "\n",
    "    def actions(self, estado):\n",
    "        '''Apartir de un estado(n) dado nos lista un conjunto de acciones(a) que le podimos aplicar a n para\n",
    "        alcanzar otro estado n'  ''' \n",
    "        \n",
    "        listaPersonas = list(estado[0])\n",
    "        listAscensores = list(estado[1])\n",
    "        \n",
    "        acciones = list() \n",
    "        print(\"i= pos persona en la lista, j pos ascensor en lista, accion\")\n",
    "        for i in range (len(listaPersonas)):\n",
    "            persona = listaPersonas[i]\n",
    "            \n",
    "            for j in range (len(listAscensores)):\n",
    "                ascensor = int(listAscensores[j])\n",
    "                if persona != ascensor: \n",
    "                    acciones.append((i,j, \"Llamar\")) # sube al ascensor j a la planta donde esta la persona i\n",
    "                if persona == ascensor and int(persona) < 12: # para si la persona esta en la ultima planta solo\n",
    "                    acciones.append((i,j, \"Subir\"))           #pordria bajar \n",
    "                if persona == ascensor and int(persona) > 0: # Idem pero al reves \n",
    "                    acciones.append((i,j, \"Bajar\"))\n",
    "                #en el momento que ascensor este en la misma planta que la persona el arbol se ramifica en dos caminos\n",
    "                #por lo que se generaran estas dos acciones. Quien decida que accion utilizar será la heuristica \n",
    "                #puesto que cogere la que menos heuristica tenga ya que estará mas cerca de la solución\n",
    "                \n",
    "        return acciones; \n",
    "\n",
    "        \n",
    "    #accion = (plantaPersona,PlantaAscensor, accion en string)\n",
    "    def result(self, estado, accion):\n",
    "        '''Dado un estado(n, nodo actual) y una accion(a) nos permite general un nuevo nodo(n') aplicando la accion dada'''\n",
    "        l = list(estado)\n",
    "        listaPersonas = list(estado[0]) #la primera(0)posicion de la tupla de estado la convertimos a una lista\n",
    "        listAscensores = list(estado[1])# Idema para los ascensores con la segunda posicion (1)\n",
    "        \n",
    "        persona = accion[0] # Extraemos la posicion de la listaen donde se encutra la persona a modificar su posicion en el edificio\n",
    "        ascensor = accion[1]# Idem con los ascensores \n",
    "        #Se hace simplemente para facilitar la lectura del codigo\n",
    "        \n",
    "        actualPersona = listaPersonas[persona] #Planta actual donde se encutra la persona\n",
    "        actualAscensor = listAscensores[ascensor]#idem con el ascensor\n",
    "        \n",
    "        if accion[2] == \"Llamar\":\n",
    "            listAscensores[ascensor] = int(actualPersona) # Si es llamar a la posicion actual le asignamos la posicion \n",
    "            #actual de la persona que ha solicitado el ascensor\n",
    "        if accion[2] == \"Bajar\": #Si es bajar restamos en uno la posicion actual de ambos(bajan un piso)\n",
    "            listaPersonas[actualPersona] -= 1 \n",
    "            listAscensores[actualAscensor] -=1\n",
    "        if accion[2] == \"Subir\": #Si es Subir sumamos en uno la posicion actual de ambos(sube un piso)\n",
    "            listaPersonas[actualPersona] += 1\n",
    "            listAscensores[actualAscensor] +=1\n",
    "        \n",
    "        return (tuple(listaPersonas), tuple(listAscensores))\n",
    "    \n",
    "    def goal_test(self, estado):\n",
    "        return estado[0] == self.goal \n",
    "\n",
    "\n"
   ]
  }
 ],
 "metadata": {
  "kernelspec": {
   "display_name": "Python 3",
   "language": "python",
   "name": "python3"
  },
  "language_info": {
   "codemirror_mode": {
    "name": "ipython",
    "version": 3
   },
   "file_extension": ".py",
   "mimetype": "text/x-python",
   "name": "python",
   "nbconvert_exporter": "python",
   "pygments_lexer": "ipython3",
   "version": "3.7.3"
  }
 },
 "nbformat": 4,
 "nbformat_minor": 2
}
