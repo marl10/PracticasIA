{
 "cells": [
  {
   "cell_type": "code",
   "execution_count": null,
   "metadata": {},
   "outputs": [],
   "source": [
    "#Representacion de estados: una tupla compuesta de dos tuplas ((personas), (ascensores))\n",
    "#tupla personas(lista de personas): contiene tuplas con los datos de cada persona\n",
    "#tupla de una unica persona: tiene 3 datos: (pisoActual, bloqueActual, ascensor) -> -1 si no esta subido en ninguno\n",
    "#ascensores: contiene la lista de ascensores que hay \n",
    "#tupla ascensor: (pisoActual,BloqueActual, personaSububida1, personaSububida1)\n",
    "\n",
    "#Problema: \n",
    "# me centro en los ascensores, es decir, llenarlo, subirlos y bajarlos por eso el bucle por fuera \n",
    "#dentro el bucle de personas que se ira comprabando en cada momento para un determinado ascensor que puede hacer si salir o montar \n",
    "#dado que me centro en los ascensor la variable \"dos\" y \"uno\" hace que no se repita la accion de subir o bajar, puesto que por cada persona generara la misma \n",
    "#Para un estado x el ascensor solo puede subir o bajar una vez "
   ]
  },
  {
   "cell_type": "code",
   "execution_count": 1,
   "metadata": {},
   "outputs": [],
   "source": [
    "# importamos las cosas que vamos a usar de aima\n",
    "from search import *\n",
    "\n",
    "class Ascensores(Problem):\n",
    "    \n",
    "    def __init__(self,initial, goal):\n",
    "        \n",
    "        #Problem.__init__(self, initial, goal)        \n",
    "        self.initial = initial\n",
    "        self.goal = goal\n",
    "        \n",
    "\n",
    "    def actions(self,estado):\n",
    "        personas = estado[0]\n",
    "        ascensores = estado[1]\n",
    "        acciones = list() \n",
    "\n",
    "        for i in range (len(ascensores)):\n",
    "            ascensor = ascensores[i]\n",
    "            personaEnAscensor1 = ascensor[2]\n",
    "            personaEnAscensor2 = ascensor[3]\n",
    "            una = 0\n",
    "            dos = 0\n",
    "            #bloque = i\n",
    "            #if i == 2:\n",
    "             #   bloque -= 1\n",
    "                \n",
    "           # aumentoDeBloque = (ascensor[0] == 4 and ascensor[1] == 0) or (ascensor[0] == 8 and ascensor[1] == 1) # bloque +1\n",
    "            #descensoBloque = (ascensor[0] == 4 and ascensor[1] == 1) or (ascensor[0] == 8 and ascensor[1] == 2)#bloqe -1 \n",
    "\n",
    "            \n",
    "            for j in range (len(personas)):\n",
    "                persona = personas[j]\n",
    "                mismoBloque = (persona[0] == ascensor[0]) and (persona[1] == ascensor[1])#comprueba que estan en la misma planta y bloque\n",
    "                personaEnAscenor = (j == personaEnAscensor1 or j == personaEnAscensor2) #Esta en el ascensor subido \n",
    "                haySitio = (personaEnAscensor1 == -1 or personaEnAscensor2 == -1)#Comprueba que hay plazas libres en el ascensor \n",
    "               \n",
    "                aumentoDeBloque = (persona[0] == 4 and persona[1] == 0) or (persona[0] == 8 and persona[1] == 1) # bloque +1\n",
    "                descensoBloque = (persona[0] == 4 and persona[1] == 1) or (persona[0] == 8 and persona[1] == 2)#bloqe -1 \n",
    "\n",
    "                hayPersonaEnBloque = persona[1] == ascensor[1]\n",
    "\n",
    "                if hayPersonaEnBloque:\n",
    "\n",
    "                    if ascensor[0] in(0, 4, 8): # si el ascensor sube no permite que suba mas y le hace bajar una planta\n",
    "                        \n",
    "                        if dos < 1:\n",
    "                            if (ascensor[0] == 4 and ascensor[1] == 0) or (ascensor[0] == 8 and ascensor[1] == 1):\n",
    "                                acciones.append((\"Bajar\",personaEnAscensor1 ,personaEnAscensor2,i, ascensor[1]))\n",
    "                            if (ascensor[0] == 0 and ascensor[1] == 0) or (ascensor[0] == 4 and ascensor[1] == 1) or (ascensor[0] == 8 and ascensor[1] == 2):\n",
    "                                acciones.append((\"Subir\",personaEnAscensor1 , personaEnAscensor2,i, ascensor[1]))\n",
    "                            dos += 1\n",
    "                            \n",
    "                    else:\n",
    "                        if una < 1: \n",
    "                            acciones.append((\"Subir\",personaEnAscensor1 , personaEnAscensor2,i, ascensor[1]))\n",
    "                            acciones.append((\"Bajar\",personaEnAscensor1 , personaEnAscensor2,i, ascensor[1]))\n",
    "                            una += 1\n",
    "               \n",
    "                if mismoBloque == True: # ascensor y persona en la misma planta\n",
    "                        if (personaEnAscenor == False) and (haySitio == True):# hay sitio y la persona no esta subida\n",
    "                            acciones.append((\"Montar\",j , -1,i, ascensor[1])) #sube a la persona i al ascensor j\n",
    "                        if personaEnAscenor == True:\n",
    "                            bloque = ascensor[1]\n",
    "                            if persona[0] in (4,8):# esto es si llega a un bloque frontera la persona cambia de bloque para poder coger el ascensor correcto\n",
    "                                if aumentoDeBloque == True: \n",
    "                                    bloque += 1\n",
    "                                if descensoBloque == True: \n",
    "                                    bloque -= 1\n",
    "                                    #estaria guay meterle que si llega a un bloque frontera saque a las dos personas de golpe \n",
    "                            acciones.append((\"Salir\",j ,-1,i, bloque)) #sale la persona j del ascensor i\n",
    "        return acciones\n",
    "        \n",
    "    #accion = (plantaPersona,PlantaAscensor, accion en string)\n",
    "    def result(self,estado, accion):\n",
    "\n",
    "        l = list(estado)\n",
    "        listaPersonas = list(estado[0]) #la primera(0)posicion de la tupla de estado la convertimos a una lista\n",
    "        listAscensores = list(estado[1])# Idema para los ascensores con la segunda posicion (1)\n",
    "        perAcc1 = accion[1]\n",
    "        perAcc2 = accion[2]\n",
    "        ascensorAcc = accion[3]\n",
    "        bloqueAcc = accion[4]\n",
    "        ascensor = list(listAscensores[ascensorAcc])\n",
    "        planta = ascensor[0]\n",
    "        \n",
    "\n",
    "        if accion[0] == \"Subir\":\n",
    "            if perAcc1 != -1 :\n",
    "                persona1 = list(listaPersonas[perAcc1])\n",
    "                persona1[0] += 1\n",
    "                listaPersonas[perAcc1] = tuple(persona1)\n",
    "            if perAcc2 != -1:\n",
    "                persona2 = list(listaPersonas[perAcc2])\n",
    "                persona2[0] += 1\n",
    "                listaPersonas[perAcc2] = tuple(persona2)\n",
    "            ascensor[0] += 1    \n",
    "        if accion[0] == \"Bajar\":\n",
    "            if perAcc1 != -1:\n",
    "                persona1 = list(listaPersonas[perAcc1])\n",
    "                persona1[0] -= 1\n",
    "                listaPersonas[perAcc1] = tuple(persona1)\n",
    "            if perAcc2 != -1:\n",
    "                persona2 = list(listaPersonas[perAcc2])\n",
    "                persona2[0] -= 1\n",
    "                listaPersonas[perAcc2] = tuple(persona2)\n",
    "            ascensor[0] -= 1\n",
    "        if accion[0] == \"Salir\":\n",
    "            if perAcc1 != -1:\n",
    "                persona1 = list(listaPersonas[perAcc1])\n",
    "                persona1[2] = -1 # sacamos a la persona del ascensor\n",
    "                persona1[1] = bloqueAcc\n",
    "                \n",
    "                if perAcc1 == ascensor[2]: \n",
    "                    ascensor[2] = - 1 # la persona 1 que esta en la posicion 2 de la tupla ascensor la modificamos a -1 asi decimos que no esta montada \n",
    "                elif ascensor[3] == perAcc1:\n",
    "                    ascensor[3] == - 1\n",
    "                if perAcc1 != -1:\n",
    "                    listaPersonas[perAcc1] = tuple(persona1)\n",
    "        if accion[0] == \"Montar\":\n",
    "            if ascensor[2] == -1: \n",
    "                ascensor[2] = perAcc1 # la persona sube dentro del ascensor\n",
    "                persona1 = list(listaPersonas[perAcc1])\n",
    "                persona1[2] = ascensorAcc # le asignameos el ascensor a la persona \n",
    "                listaPersonas[perAcc1] = tuple(persona1)\n",
    "            elif ascensor[3] == -1: \n",
    "                ascensor[3] = perAcc1 # la persona sube dentro del ascensor\n",
    "                persona1 = list(listaPersonas[perAcc1])\n",
    "                persona1[2] = ascensorAcc # le asignameos el ascensor a la persona \n",
    "                listaPersonas[perAcc1] = tuple(persona1)  \n",
    "        \n",
    "        listAscensores[ascensorAcc] = tuple(ascensor)\n",
    "        return (tuple(listaPersonas), tuple(listAscensores))\n",
    "    \n",
    "    def goal_test(self, estado): # Devuelve true si se ha alcanzado el estado objetivo\n",
    "        personas = estado[0]\n",
    "        objetivo = True\n",
    "\n",
    "        for i in range (len(personas)): \n",
    "            persona = personas[i]\n",
    "            personaGoal = self.goal[i]\n",
    "\n",
    "            sonIfuales = (persona[0] == personaGoal[0]) and (persona[1] == personaGoal[1])\n",
    "\n",
    "            objetivo = objetivo and sonIfuales\n",
    "\n",
    "        return objetivo"
   ]
  },
  {
   "cell_type": "code",
   "execution_count": 9,
   "metadata": {},
   "outputs": [
    {
     "data": {
      "text/plain": [
       "(((1, 0, -1), (4, 1, -1), (8, 2, -1)),\n",
       " ((1, 0, -1, -1), (4, 1, -1, -1), (8, 1, -1, -1), (8, 2, -1, -1)))"
      ]
     },
     "execution_count": 9,
     "metadata": {},
     "output_type": "execute_result"
    }
   ],
   "source": [
    "p = Ascensores(ini, fin)\n",
    "p.initial"
   ]
  },
  {
   "cell_type": "code",
   "execution_count": 10,
   "metadata": {},
   "outputs": [
    {
     "data": {
      "text/plain": [
       "[('Subir', -1, -1, 0, 0),\n",
       " ('Bajar', -1, -1, 0, 0),\n",
       " ('Montar', 0, -1, 0, 0),\n",
       " ('Subir', -1, -1, 1, 1),\n",
       " ('Montar', 1, -1, 1, 1),\n",
       " ('Bajar', -1, -1, 2, 1),\n",
       " ('Subir', -1, -1, 3, 2),\n",
       " ('Montar', 2, -1, 3, 2)]"
      ]
     },
     "execution_count": 10,
     "metadata": {},
     "output_type": "execute_result"
    }
   ],
   "source": [
    "p.actions(p.initial)"
   ]
  },
  {
   "cell_type": "code",
   "execution_count": 11,
   "metadata": {},
   "outputs": [],
   "source": [
    "#p.result(p.initial, (\"Subir\", 1, -1, 1, 1))"
   ]
  },
  {
   "cell_type": "code",
   "execution_count": 12,
   "metadata": {},
   "outputs": [
    {
     "data": {
      "text/plain": [
       "((4, 2, -1), (8, 2, -1), (4, 1, -1))"
      ]
     },
     "execution_count": 12,
     "metadata": {},
     "output_type": "execute_result"
    }
   ],
   "source": [
    "p.goal"
   ]
  },
  {
   "cell_type": "code",
   "execution_count": 2,
   "metadata": {},
   "outputs": [],
   "source": [
    "# Importamos los modulos pertenecinetes a los algoritmos de busqueda \n",
    "from search import *\n",
    "from search import breadth_first_tree_search, depth_first_tree_search, depth_first_graph_search, breadth_first_graph_search"
   ]
  },
  {
   "cell_type": "code",
   "execution_count": 46,
   "metadata": {},
   "outputs": [
    {
     "name": "stderr",
     "output_type": "stream",
     "text": [
      "UsageError: Line magic function `%%time` not found.\n"
     ]
    }
   ],
   "source": [
    "#start_time = time.time() #Compute time of execution\n",
    "%%time\n",
    "best_first_graph_search(p, distanciaObjetivo).solution()\n",
    "#print(\"--- %s seconds ---\" % (time.time() - start_time))"
   ]
  },
  {
   "cell_type": "code",
   "execution_count": 56,
   "metadata": {},
   "outputs": [
    {
     "ename": "NameError",
     "evalue": "name 'p' is not defined",
     "output_type": "error",
     "traceback": [
      "\u001b[0;31m---------------------------------------------------------------------------\u001b[0m",
      "\u001b[0;31mNameError\u001b[0m                                 Traceback (most recent call last)",
      "\u001b[0;32m<timed eval>\u001b[0m in \u001b[0;36m<module>\u001b[0;34m\u001b[0m\n",
      "\u001b[0;31mNameError\u001b[0m: name 'p' is not defined"
     ]
    }
   ],
   "source": [
    "%%time\n",
    "astar_search(p, linear).solution()"
   ]
  },
  {
   "cell_type": "code",
   "execution_count": 14,
   "metadata": {},
   "outputs": [
    {
     "ename": "NameError",
     "evalue": "name 'linear' is not defined",
     "output_type": "error",
     "traceback": [
      "\u001b[0;31m---------------------------------------------------------------------------\u001b[0m",
      "\u001b[0;31mNameError\u001b[0m                                 Traceback (most recent call last)",
      "\u001b[0;32m<timed eval>\u001b[0m in \u001b[0;36m<module>\u001b[0;34m\u001b[0m\n",
      "\u001b[0;31mNameError\u001b[0m: name 'linear' is not defined"
     ]
    }
   ],
   "source": [
    "%%time\n",
    "best_first_graph_search(p, linear).solution()"
   ]
  },
  {
   "cell_type": "code",
   "execution_count": null,
   "metadata": {},
   "outputs": [],
   "source": [
    "#todos los intentos de heuristicas con if (personas[i][0] != goal[i][0]): es para priorozar la entrada al ascensor y salida en ciertos casos "
   ]
  },
  {
   "cell_type": "code",
   "execution_count": 3,
   "metadata": {},
   "outputs": [],
   "source": [
    "#Definimos algunas Hehuristicas \n",
    "\n",
    "def linear(node): # dado un estado nos devuelve las personas que todavia no estan en su planta objetivo\n",
    "# es decir, que estan mal colocadas (como en el puzzle de 8)\n",
    "    result = 0\n",
    "    goal = fin\n",
    "    estado = node.state[0]\n",
    "    \n",
    "    for i in range (len(estado)):\n",
    "        if goal[i] != estado[i]:\n",
    "            result += 1\n",
    "    return result\n",
    "\n",
    "def distanciaObjetivo(node):\n",
    "    result = 0\n",
    "    goal = fin\n",
    "    personas = node.state[0]\n",
    "    ascensores = node.state[1]\n",
    "    \n",
    "    \n",
    "    for i in range (len(personas)):\n",
    "        per = personas[i]\n",
    "        perObj = goal[i]\n",
    "        \n",
    "        distanciaObjetivo = abs(per[0] - perObj[0]) != 0\n",
    "\n",
    "        result += distanciaObjetivo\n",
    "        for j in range (len(ascensores)):\n",
    "            if ascensores[i][0] == per[0] and per[2] == -1:\n",
    "                if distanciaObjetivo != 0: \n",
    "                    result += 2\n",
    "            #if ascensores[i][0] == per[0] and per[2] == j:\n",
    "               # if distanciaObjetivo == 0: \n",
    "                #    result += 2\n",
    "            #if per[2] == - 1:\n",
    "             #   if distanciaObjetivo != 0: \n",
    "              #      if per[0] + 1 == ascensores[i][0] or per[0] - 1 == ascensores[i][0]:\n",
    "               #         result += 2\n",
    "            \n",
    "        \n",
    "    return result\n",
    "\n",
    "                    \n",
    "\n",
    "def distanciaObjetivoSimple(node):\n",
    "    result = 0\n",
    "    goal = fin\n",
    "    personas = node.state[0]\n",
    "    \n",
    "    for i in range (len(personas)):\n",
    "        per = personas[i]\n",
    "        perObj = goal[i]\n",
    "\n",
    "        result += abs(per[0] - perObj[0])\n",
    "        result += abs(per[1] - perObj[1])\n",
    "        \n",
    "        if abs(per[0] - perObj[0]) != 0:\n",
    "            if per[2] == -1: \n",
    "                result += 1\n",
    "           \n",
    "        \n",
    "        \n",
    "    return result\n",
    "\n",
    "def distanciaObjetivoAlejaAscensor(node):\n",
    "    result = 0\n",
    "    goal = fin\n",
    "    personas = node.state[0]\n",
    "    ascensores = node.state[1]\n",
    "    \n",
    "    for i in range (len(personas)):\n",
    "        per = personas[i]\n",
    "        perObj = goal[i]\n",
    "\n",
    "        result += abs(per[0] - perObj[0])\n",
    "        result += abs(per[1] - perObj[1])\n",
    "        \n",
    "        if per[2] == -1 and abs(per[0] - perObj[0]) != 0:\n",
    "            ascensor = ascensores[per[1]]\n",
    "            if per[0] + 1 == ascensor[0] or per[0] -1 == ascensor[0]:\n",
    "                result += 2\n",
    "                \n",
    "                \n",
    "        \n",
    "        \n",
    "    return result\n"
   ]
  },
  {
   "cell_type": "code",
   "execution_count": 4,
   "metadata": {},
   "outputs": [],
   "source": [
    "def manhattan(node):\n",
    "    result = 0\n",
    "    personas = node.state[0]\n",
    "    ascensores = node.state[1]\n",
    "    goal = fin \n",
    "        \n",
    "    for i in range (len(personas)):\n",
    "        result += abs(personas[i][0] - goal[i][0])\n",
    "        if (personas[i][0] != goal[i][0]): \n",
    "            result += distancioPersonaAscensor(personas[i],ascensores)\n",
    "    \n",
    "    return result\n",
    "    "
   ]
  },
  {
   "cell_type": "code",
   "execution_count": 5,
   "metadata": {},
   "outputs": [],
   "source": [
    "#Heuristicas\n",
    "def distancioPersonaAscensor(persona,ascensores): \n",
    "    suma = 0\n",
    "    for i in range (len(ascensores)): \n",
    "        if persona[1] == ascensores[i][1] and persona[2] == -1: \n",
    "            suma += abs(persona[0] - ascensores[i][0])\n",
    "         \n",
    "    return suma \n",
    "    "
   ]
  },
  {
   "cell_type": "code",
   "execution_count": 19,
   "metadata": {},
   "outputs": [],
   "source": [
    "def manhattanConDistanciaAscensores(node):\n",
    "    result = 0\n",
    "    personas = node.state[0]\n",
    "    ascensores = node.state[1]\n",
    "    goal = fin \n",
    "    disAscesnores = 0\n",
    "    salirMontar = 0\n",
    "        \n",
    "    for i in range (len(personas)):\n",
    "        result += (abs(personas[i][0] - goal[i][0])*2)\n",
    "        if (personas[i][0] != goal[i][0]): \n",
    "            if personas[i][2] == -1: \n",
    "                salirMontar += 1\n",
    "            #else: \n",
    "             #   salirMontar -= 2\n",
    "            #disAscesnores += distancioPersonaAscensor(personas[i],ascensores)\n",
    "        else:\n",
    "            if personas[i][2] == -1:\n",
    "                salirMontar += 2\n",
    "    return result + salirMontar + disAscesnores"
   ]
  },
  {
   "cell_type": "code",
   "execution_count": 20,
   "metadata": {},
   "outputs": [],
   "source": [
    "def manhattanConDistanciaAscensores2(node):\n",
    "    result = 0\n",
    "    personas = node.state[0]\n",
    "    ascensores = node.state[1]\n",
    "    goal = fin \n",
    "    disAscesnores = 0\n",
    "    salirMontar = 0\n",
    "    a = 0\n",
    "        \n",
    "    for i in range (len(personas)):\n",
    "        result += (abs(personas[i][0] - goal[i][0])*2)\n",
    "        if (personas[i][0] != goal[i][0]): \n",
    "            if personas[i][2] == -1: \n",
    "                if personas[i][0] in (4,8) and abs(personas[i][0] - goal[i][0]) >= 0: \n",
    "                    salirMontar -= 2\n",
    "                else:\n",
    "                    salirMontar += 1\n",
    "            else:\n",
    "                if personas[i][0] in (4,8) and abs(personas[i][0] - goal[i][0]) >= 0:\n",
    "                    salirMontar -= 2\n",
    "            #disAscesnores += distancioPersonaAscensor(personas[i],ascensores)\n",
    "        else: \n",
    "            if personas[i][2] == -1:\n",
    "                salirMontar -= 2\n",
    "                \n",
    "    a = 0\n",
    "    \n",
    "    for i in range (len(ascensores)):\n",
    "        if ascensores[i][2] == -1 and ascensores[i][3] == -1:\n",
    "            a += 4\n",
    "                \n",
    "    return result + salirMontar + disAscesnores"
   ]
  },
  {
   "cell_type": "code",
   "execution_count": null,
   "metadata": {},
   "outputs": [],
   "source": [
    "#personas estan en un ascensor y no han llegado a su destino distancias al objetivo \n",
    "def salirM(persona, goal): \n",
    "    result = 10\n",
    "    #personas = node.state[0]\n",
    "    #ascensores = node.state[1]\n",
    "    #goal = fin \n",
    "\n",
    "    if (personas[0] != goal[0]):\n",
    "        if personas[2] == -1: # esta fuer \n",
    "            if personas[0] in (4,8):\n",
    "                result += -2\n",
    "            else: \n",
    "                result += 1\n",
    "        else:\n",
    "            if personas[0] in (4,8):\n",
    "                result += -1\n",
    "            result += -1\n",
    "    else:\n",
    "        if personas[2] == -1:\n",
    "            salirMontar -= 2\n",
    "            \n",
    "    return result\n",
    "                \n",
    "                    \n",
    "            "
   ]
  },
  {
   "cell_type": "code",
   "execution_count": 8,
   "metadata": {},
   "outputs": [],
   "source": [
    "def distanciaObjetivo(persona, goal): \n",
    "    result = 0\n",
    "    #personas = node.state[0]\n",
    "    #ascensores = node.state[1]\n",
    "    #goal = fin\n",
    "    result += abs(personas[i][0] - goal[i][0])\n",
    "    result += abs(personas[i][1] - goal[i][1])\n",
    "    \n",
    "    return result"
   ]
  },
  {
   "cell_type": "code",
   "execution_count": 9,
   "metadata": {},
   "outputs": [],
   "source": [
    "def manhattanSimple(node): # Creo que es la buena, tiene como preferencia subir a una persona no somo hacer que la preferencia sea salir \n",
    "    #en caso de que hayan llegado a un bloque frontera \n",
    "    result = 0\n",
    "    personas = node.state[0]\n",
    "    ascensores = node.state[1]\n",
    "    goal = fin \n",
    "    a = 0\n",
    "        \n",
    "    for i in range (len(personas)):\n",
    "        result += abs(personas[i][0] - goal[i][0])\n",
    "        if (personas[i][0] != goal[i][0]):\n",
    "            if personas[i][2] == -1:\n",
    "                if personas[i][0] == 4 or personas[i][0] == 8:\n",
    "                    result -= 3\n",
    "                else: \n",
    "                    result += 1\n",
    "    for j in range (len(ascensores)):\n",
    "        if ascensores[j][2] == -1 and ascensores[j][3] == -1: ## esto es para que no genere movimiento de los ascensores que estan vacios y lejos\n",
    "            a += 4\n",
    "\n",
    "    return result + a"
   ]
  },
  {
   "cell_type": "code",
   "execution_count": 10,
   "metadata": {},
   "outputs": [],
   "source": [
    "def h(node):\n",
    "    result = 10\n",
    "    personas = node.state[0]\n",
    "    ascensores = node.state[1]\n",
    "    goal = fin \n",
    "    disAscesnores = 0\n",
    "    salirMontar = 0\n",
    "    a = 0\n",
    "        \n",
    "    for i in range (len(personas)):\n",
    "        result += (abs(personas[i][0] - goal[i][0])*2)\n",
    "        if (personas[i][0] != goal[i][0]): \n",
    "            if personas[i][2] == -1: \n",
    "                salirMontar += 3\n",
    "            else: \n",
    "                salirMontar -= 3\n",
    "                \n",
    "            #disAscesnores += distancioPersonaAscensor(personas[i],ascensores)\n",
    "        #else:\n",
    "         #   if personas[i][2] == -1:\n",
    "          #      salirMontar += 2\n",
    "\n",
    "  \n",
    "    return result + salirMontar + a"
   ]
  },
  {
   "cell_type": "code",
   "execution_count": 11,
   "metadata": {},
   "outputs": [],
   "source": [
    "def h2(node):\n",
    "    result = 0\n",
    "    personas = node.state[0]\n",
    "    ascensores = node.state[1]\n",
    "    goal = fin \n",
    "    disAscesnores = 0\n",
    "    salirMontar = 0\n",
    "    a = 0\n",
    "        \n",
    "    for i in range (len(personas)):\n",
    "        result += (abs(personas[i][0] - goal[i][0])*2)\n",
    "        if (personas[i][0] != goal[i][0]): \n",
    "            if personas[i][2] == -1: \n",
    "                salirMontar += 2\n",
    "            else: \n",
    "                salirMontar -= 2\n",
    "            #disAscesnores += distancioPersonaAscensor(personas[i],ascensores)\n",
    "        #else:\n",
    "         #   if personas[i][2] == -1:\n",
    "          #      salirMontar += 2\n",
    "\n",
    "  \n",
    "    return result + salirMontar + a"
   ]
  },
  {
   "cell_type": "code",
   "execution_count": 131,
   "metadata": {},
   "outputs": [],
   "source": [
    "def hu(node):\n",
    "    result = 0\n",
    "    personas = node[0]\n",
    "    ascensores = node[1]\n",
    "    goal = fin \n",
    "    disAscesnores = 0\n",
    "    salirMontar = 0\n",
    "        \n",
    "    for i in range (len(personas)):\n",
    "        result += (abs(personas[i][0] - goal[i][0])*2)\n",
    "        if (personas[i][0] != goal[i][0]): \n",
    "            if personas[i][2] == -1: \n",
    "                if personas[i][0] in (4,8): \n",
    "                    salirMontar -= 2\n",
    "                else:\n",
    "                    salirMontar += 1\n",
    "            #else: \n",
    "             #   salirMontar -= 1\n",
    "            #disAscesnores += distancioPersonaAscensor(personas[i],ascensores)\n",
    "        else: \n",
    "            if personas[i][2] == -1:\n",
    "                salirMontar -= 2\n",
    "        \n",
    "    \n",
    "    for j in range (len(ascensores)):\n",
    "        if ascensores[j][2] == -1 and ascensores[j][3] == -1:\n",
    "            a += 4*2\n",
    "    \n",
    "    print(\"man:\" + str(result))\n",
    "    print(\"S/M:\" + str(salirMontar))\n",
    "    #print(\"S/M:\" + str(salirMontar))\n",
    "                \n",
    "    return result + salirMontar + a"
   ]
  },
  {
   "cell_type": "code",
   "execution_count": 22,
   "metadata": {},
   "outputs": [
    {
     "name": "stdout",
     "output_type": "stream",
     "text": [
      "CPU times: user 116 ms, sys: 3.58 ms, total: 120 ms\n",
      "Wall time: 121 ms\n"
     ]
    },
    {
     "data": {
      "text/plain": [
       "[('Montar', 1, -1, 2, 1),\n",
       " ('Bajar', 1, -1, 2, 1),\n",
       " ('Bajar', 1, -1, 2, 1),\n",
       " ('Subir', -1, -1, 0, 0),\n",
       " ('Subir', -1, -1, 0, 0),\n",
       " ('Montar', 0, -1, 0, 0),\n",
       " ('Subir', 0, -1, 0, 0),\n",
       " ('Subir', 0, -1, 0, 0),\n",
       " ('Salir', 1, -1, 2, 0),\n",
       " ('Salir', 0, -1, 0, 1),\n",
       " ('Montar', 1, -1, 0, 0),\n",
       " ('Bajar', 1, -1, 0, 0),\n",
       " ('Bajar', 1, -1, 0, 0),\n",
       " ('Salir', 1, -1, 0, 0),\n",
       " ('Montar', 0, -1, 2, 1),\n",
       " ('Subir', 0, -1, 2, 1),\n",
       " ('Subir', 0, -1, 2, 1)]"
      ]
     },
     "execution_count": 22,
     "metadata": {},
     "output_type": "execute_result"
    }
   ],
   "source": [
    "%%time\n",
    "ini = (\n",
    "   ((2,0,-1), (6,1,-1)), \n",
    "    ((0,0,-1,-1), (5,1,-1,-1), (6,1,-1,-1), (10,2,-1,-1))\n",
    ")\n",
    "fin = ( (6, 1, -1), (2, 0, -1))\n",
    "\n",
    "p1 = Ascensores(ini, fin)\n",
    "p1.initial\n",
    "astar_search(p1, manhattanConDistanciaAscensores2).solution()"
   ]
  },
  {
   "cell_type": "code",
   "execution_count": 155,
   "metadata": {},
   "outputs": [
    {
     "ename": "NameError",
     "evalue": "name 'manhattan' is not defined",
     "output_type": "error",
     "traceback": [
      "\u001b[0;31m---------------------------------------------------------------------------\u001b[0m",
      "\u001b[0;31mNameError\u001b[0m                                 Traceback (most recent call last)",
      "\u001b[0;32m<timed exec>\u001b[0m in \u001b[0;36m<module>\u001b[0;34m\u001b[0m\n",
      "\u001b[0;31mNameError\u001b[0m: name 'manhattan' is not defined"
     ]
    }
   ],
   "source": [
    "%%time\n",
    "ini = (\n",
    "   ((2,0,-1), (6,1,-1)), \n",
    "    ((0,0,-1,-1), (5,1,-1,-1), (6,1,-1,-1), (10,2,-1,-1))\n",
    ")\n",
    "fin = ( (6, 1, -1), (2, 0, -1))\n",
    "\n",
    "p1 = Ascensores(ini, fin)\n",
    "p1.initial\n",
    "astar_search(p1, manhattan).solution()"
   ]
  },
  {
   "cell_type": "code",
   "execution_count": 25,
   "metadata": {},
   "outputs": [
    {
     "data": {
      "text/plain": [
       "[('Montar', 1, -1, 0, 0),\n",
       " ('Montar', 0, -1, 0, 0),\n",
       " ('Subir', 1, 0, 0, 0),\n",
       " ('Subir', 1, 0, 0, 0),\n",
       " ('Subir', 1, 0, 0, 0)]"
      ]
     },
     "execution_count": 25,
     "metadata": {},
     "output_type": "execute_result"
    }
   ],
   "source": [
    "#%%time\n",
    "ini = (\n",
    "   ((1,0,0), (1,0,-1)), \n",
    "    ((1,0,-1,-1), (4,1,-1,-1), (8,1,-1,-1), (10,2,-1,-1))\n",
    ")\n",
    "fin = ( (4,0, -1), (4, 0, -1))\n",
    "\n",
    "p1 = Ascensores(ini, fin)\n",
    "p1.initial\n",
    "#p1.actions(p1.initial)\n",
    "best_first_graph_search(p1, manhattanSimple).solution()"
   ]
  },
  {
   "cell_type": "code",
   "execution_count": null,
   "metadata": {},
   "outputs": [],
   "source": [
    "nuevo = p1.result(p1.initial, ('Bajar', -1, -1, 2, 1))\n"
   ]
  },
  {
   "cell_type": "code",
   "execution_count": 139,
   "metadata": {},
   "outputs": [
    {
     "name": "stdout",
     "output_type": "stream",
     "text": [
      "man:4\n",
      "S/M:-4\n",
      "resultado:12\n"
     ]
    }
   ],
   "source": [
    "h = hu(nuevo)\n",
    "print(\"resultado:\" + str(h))"
   ]
  },
  {
   "cell_type": "code",
   "execution_count": 114,
   "metadata": {},
   "outputs": [
    {
     "ename": "IndentationError",
     "evalue": "unexpected indent (<ipython-input-114-0595b91c7c75>, line 2)",
     "output_type": "error",
     "traceback": [
      "\u001b[0;36m  File \u001b[0;32m\"<ipython-input-114-0595b91c7c75>\"\u001b[0;36m, line \u001b[0;32m2\u001b[0m\n\u001b[0;31m    ('Salir', 0, -1, 0, 1), 4\u001b[0m\n\u001b[0m    ^\u001b[0m\n\u001b[0;31mIndentationError\u001b[0m\u001b[0;31m:\u001b[0m unexpected indent\n"
     ]
    }
   ],
   "source": [
    "('Bajar', 1, 0, 0, 0), 16\n",
    " ('Salir', 0, -1, 0, 1), 6\n",
    " ('Subir', -1, -1, 1, 1), 12\n",
    " ('Montar', 1, -1, 1, 1), 10\n",
    " ('Bajar', -1, -1, 2, 1)"
   ]
  },
  {
   "cell_type": "code",
   "execution_count": 14,
   "metadata": {},
   "outputs": [
    {
     "ename": "KeyboardInterrupt",
     "evalue": "",
     "output_type": "error",
     "traceback": [
      "\u001b[0;31m---------------------------------------------------------------------------\u001b[0m",
      "\u001b[0;31mKeyboardInterrupt\u001b[0m                         Traceback (most recent call last)",
      "\u001b[0;32m<timed exec>\u001b[0m in \u001b[0;36m<module>\u001b[0;34m\u001b[0m\n",
      "\u001b[0;32m~/Ingenieria/TERCERO/IA/PracticasIA/Practica2Ascensores/search.py\u001b[0m in \u001b[0;36mbest_first_graph_search\u001b[0;34m(problem, f, display)\u001b[0m\n\u001b[1;32m    279\u001b[0m         \u001b[0mexplored\u001b[0m\u001b[0;34m.\u001b[0m\u001b[0madd\u001b[0m\u001b[0;34m(\u001b[0m\u001b[0mnode\u001b[0m\u001b[0;34m.\u001b[0m\u001b[0mstate\u001b[0m\u001b[0;34m)\u001b[0m\u001b[0;34m\u001b[0m\u001b[0;34m\u001b[0m\u001b[0m\n\u001b[1;32m    280\u001b[0m         \u001b[0;32mfor\u001b[0m \u001b[0mchild\u001b[0m \u001b[0;32min\u001b[0m \u001b[0mnode\u001b[0m\u001b[0;34m.\u001b[0m\u001b[0mexpand\u001b[0m\u001b[0;34m(\u001b[0m\u001b[0mproblem\u001b[0m\u001b[0;34m)\u001b[0m\u001b[0;34m:\u001b[0m\u001b[0;34m\u001b[0m\u001b[0;34m\u001b[0m\u001b[0m\n\u001b[0;32m--> 281\u001b[0;31m             \u001b[0;32mif\u001b[0m \u001b[0mchild\u001b[0m\u001b[0;34m.\u001b[0m\u001b[0mstate\u001b[0m \u001b[0;32mnot\u001b[0m \u001b[0;32min\u001b[0m \u001b[0mexplored\u001b[0m \u001b[0;32mand\u001b[0m \u001b[0mchild\u001b[0m \u001b[0;32mnot\u001b[0m \u001b[0;32min\u001b[0m \u001b[0mfrontier\u001b[0m\u001b[0;34m:\u001b[0m\u001b[0;34m\u001b[0m\u001b[0;34m\u001b[0m\u001b[0m\n\u001b[0m\u001b[1;32m    282\u001b[0m                 \u001b[0mfrontier\u001b[0m\u001b[0;34m.\u001b[0m\u001b[0mappend\u001b[0m\u001b[0;34m(\u001b[0m\u001b[0mchild\u001b[0m\u001b[0;34m)\u001b[0m\u001b[0;34m\u001b[0m\u001b[0;34m\u001b[0m\u001b[0m\n\u001b[1;32m    283\u001b[0m             \u001b[0;32melif\u001b[0m \u001b[0mchild\u001b[0m \u001b[0;32min\u001b[0m \u001b[0mfrontier\u001b[0m\u001b[0;34m:\u001b[0m\u001b[0;34m\u001b[0m\u001b[0;34m\u001b[0m\u001b[0m\n",
      "\u001b[0;32m~/Ingenieria/TERCERO/IA/PracticasIA/Practica2Ascensores/utils.py\u001b[0m in \u001b[0;36m__contains__\u001b[0;34m(self, key)\u001b[0m\n\u001b[1;32m    875\u001b[0m     \u001b[0;32mdef\u001b[0m \u001b[0m__contains__\u001b[0m\u001b[0;34m(\u001b[0m\u001b[0mself\u001b[0m\u001b[0;34m,\u001b[0m \u001b[0mkey\u001b[0m\u001b[0;34m)\u001b[0m\u001b[0;34m:\u001b[0m\u001b[0;34m\u001b[0m\u001b[0;34m\u001b[0m\u001b[0m\n\u001b[1;32m    876\u001b[0m         \u001b[0;34m\"\"\"Return True if the key is in PriorityQueue.\"\"\"\u001b[0m\u001b[0;34m\u001b[0m\u001b[0;34m\u001b[0m\u001b[0m\n\u001b[0;32m--> 877\u001b[0;31m         \u001b[0;32mreturn\u001b[0m \u001b[0many\u001b[0m\u001b[0;34m(\u001b[0m\u001b[0;34m[\u001b[0m\u001b[0mitem\u001b[0m \u001b[0;34m==\u001b[0m \u001b[0mkey\u001b[0m \u001b[0;32mfor\u001b[0m \u001b[0m_\u001b[0m\u001b[0;34m,\u001b[0m \u001b[0mitem\u001b[0m \u001b[0;32min\u001b[0m \u001b[0mself\u001b[0m\u001b[0;34m.\u001b[0m\u001b[0mheap\u001b[0m\u001b[0;34m]\u001b[0m\u001b[0;34m)\u001b[0m\u001b[0;34m\u001b[0m\u001b[0;34m\u001b[0m\u001b[0m\n\u001b[0m\u001b[1;32m    878\u001b[0m \u001b[0;34m\u001b[0m\u001b[0m\n\u001b[1;32m    879\u001b[0m     \u001b[0;32mdef\u001b[0m \u001b[0m__getitem__\u001b[0m\u001b[0;34m(\u001b[0m\u001b[0mself\u001b[0m\u001b[0;34m,\u001b[0m \u001b[0mkey\u001b[0m\u001b[0;34m)\u001b[0m\u001b[0;34m:\u001b[0m\u001b[0;34m\u001b[0m\u001b[0;34m\u001b[0m\u001b[0m\n",
      "\u001b[0;32m~/Ingenieria/TERCERO/IA/PracticasIA/Practica2Ascensores/utils.py\u001b[0m in \u001b[0;36m<listcomp>\u001b[0;34m(.0)\u001b[0m\n\u001b[1;32m    875\u001b[0m     \u001b[0;32mdef\u001b[0m \u001b[0m__contains__\u001b[0m\u001b[0;34m(\u001b[0m\u001b[0mself\u001b[0m\u001b[0;34m,\u001b[0m \u001b[0mkey\u001b[0m\u001b[0;34m)\u001b[0m\u001b[0;34m:\u001b[0m\u001b[0;34m\u001b[0m\u001b[0;34m\u001b[0m\u001b[0m\n\u001b[1;32m    876\u001b[0m         \u001b[0;34m\"\"\"Return True if the key is in PriorityQueue.\"\"\"\u001b[0m\u001b[0;34m\u001b[0m\u001b[0;34m\u001b[0m\u001b[0m\n\u001b[0;32m--> 877\u001b[0;31m         \u001b[0;32mreturn\u001b[0m \u001b[0many\u001b[0m\u001b[0;34m(\u001b[0m\u001b[0;34m[\u001b[0m\u001b[0mitem\u001b[0m \u001b[0;34m==\u001b[0m \u001b[0mkey\u001b[0m \u001b[0;32mfor\u001b[0m \u001b[0m_\u001b[0m\u001b[0;34m,\u001b[0m \u001b[0mitem\u001b[0m \u001b[0;32min\u001b[0m \u001b[0mself\u001b[0m\u001b[0;34m.\u001b[0m\u001b[0mheap\u001b[0m\u001b[0;34m]\u001b[0m\u001b[0;34m)\u001b[0m\u001b[0;34m\u001b[0m\u001b[0;34m\u001b[0m\u001b[0m\n\u001b[0m\u001b[1;32m    878\u001b[0m \u001b[0;34m\u001b[0m\u001b[0m\n\u001b[1;32m    879\u001b[0m     \u001b[0;32mdef\u001b[0m \u001b[0m__getitem__\u001b[0m\u001b[0;34m(\u001b[0m\u001b[0mself\u001b[0m\u001b[0;34m,\u001b[0m \u001b[0mkey\u001b[0m\u001b[0;34m)\u001b[0m\u001b[0;34m:\u001b[0m\u001b[0;34m\u001b[0m\u001b[0;34m\u001b[0m\u001b[0m\n",
      "\u001b[0;32m~/Ingenieria/TERCERO/IA/PracticasIA/Practica2Ascensores/search.py\u001b[0m in \u001b[0;36m__eq__\u001b[0;34m(self, other)\u001b[0m\n\u001b[1;32m    125\u001b[0m \u001b[0;34m\u001b[0m\u001b[0m\n\u001b[1;32m    126\u001b[0m     \u001b[0;32mdef\u001b[0m \u001b[0m__eq__\u001b[0m\u001b[0;34m(\u001b[0m\u001b[0mself\u001b[0m\u001b[0;34m,\u001b[0m \u001b[0mother\u001b[0m\u001b[0;34m)\u001b[0m\u001b[0;34m:\u001b[0m\u001b[0;34m\u001b[0m\u001b[0;34m\u001b[0m\u001b[0m\n\u001b[0;32m--> 127\u001b[0;31m         \u001b[0;32mreturn\u001b[0m \u001b[0misinstance\u001b[0m\u001b[0;34m(\u001b[0m\u001b[0mother\u001b[0m\u001b[0;34m,\u001b[0m \u001b[0mNode\u001b[0m\u001b[0;34m)\u001b[0m \u001b[0;32mand\u001b[0m \u001b[0mself\u001b[0m\u001b[0;34m.\u001b[0m\u001b[0mstate\u001b[0m \u001b[0;34m==\u001b[0m \u001b[0mother\u001b[0m\u001b[0;34m.\u001b[0m\u001b[0mstate\u001b[0m\u001b[0;34m\u001b[0m\u001b[0;34m\u001b[0m\u001b[0m\n\u001b[0m\u001b[1;32m    128\u001b[0m \u001b[0;34m\u001b[0m\u001b[0m\n\u001b[1;32m    129\u001b[0m     \u001b[0;32mdef\u001b[0m \u001b[0m__hash__\u001b[0m\u001b[0;34m(\u001b[0m\u001b[0mself\u001b[0m\u001b[0;34m)\u001b[0m\u001b[0;34m:\u001b[0m\u001b[0;34m\u001b[0m\u001b[0;34m\u001b[0m\u001b[0m\n",
      "\u001b[0;31mKeyboardInterrupt\u001b[0m: "
     ]
    }
   ],
   "source": [
    "%%time\n",
    "ini = (\n",
    "   ((1,0,-1), (4,1,-1)), \n",
    "    ((1,0,-1,-1), (4,1,-1,-1), (8,1,-1,-1), (8,2,-1,-1))\n",
    ")\n",
    "fin = ( (8, 1, -1), (11, 2, -1))\n",
    "\n",
    "p1 = Ascensores(ini, fin)\n",
    "#p1.actions(p1.initial)\n",
    "best_first_graph_search(p1, manhattanConDistanciaAscensores2).solution()"
   ]
  },
  {
   "cell_type": "code",
   "execution_count": 23,
   "metadata": {},
   "outputs": [
    {
     "ename": "KeyboardInterrupt",
     "evalue": "",
     "output_type": "error",
     "traceback": [
      "\u001b[0;31m---------------------------------------------------------------------------\u001b[0m",
      "\u001b[0;31mKeyboardInterrupt\u001b[0m                         Traceback (most recent call last)",
      "\u001b[0;32m<timed exec>\u001b[0m in \u001b[0;36m<module>\u001b[0;34m\u001b[0m\n",
      "\u001b[0;32m~/Ingenieria/TERCERO/IA/PracticasIA/Practica2Ascensores/search.py\u001b[0m in \u001b[0;36mbest_first_graph_search\u001b[0;34m(problem, f, display)\u001b[0m\n\u001b[1;32m    281\u001b[0m             \u001b[0;32mif\u001b[0m \u001b[0mchild\u001b[0m\u001b[0;34m.\u001b[0m\u001b[0mstate\u001b[0m \u001b[0;32mnot\u001b[0m \u001b[0;32min\u001b[0m \u001b[0mexplored\u001b[0m \u001b[0;32mand\u001b[0m \u001b[0mchild\u001b[0m \u001b[0;32mnot\u001b[0m \u001b[0;32min\u001b[0m \u001b[0mfrontier\u001b[0m\u001b[0;34m:\u001b[0m\u001b[0;34m\u001b[0m\u001b[0;34m\u001b[0m\u001b[0m\n\u001b[1;32m    282\u001b[0m                 \u001b[0mfrontier\u001b[0m\u001b[0;34m.\u001b[0m\u001b[0mappend\u001b[0m\u001b[0;34m(\u001b[0m\u001b[0mchild\u001b[0m\u001b[0;34m)\u001b[0m\u001b[0;34m\u001b[0m\u001b[0;34m\u001b[0m\u001b[0m\n\u001b[0;32m--> 283\u001b[0;31m             \u001b[0;32melif\u001b[0m \u001b[0mchild\u001b[0m \u001b[0;32min\u001b[0m \u001b[0mfrontier\u001b[0m\u001b[0;34m:\u001b[0m\u001b[0;34m\u001b[0m\u001b[0;34m\u001b[0m\u001b[0m\n\u001b[0m\u001b[1;32m    284\u001b[0m                 \u001b[0;32mif\u001b[0m \u001b[0mf\u001b[0m\u001b[0;34m(\u001b[0m\u001b[0mchild\u001b[0m\u001b[0;34m)\u001b[0m \u001b[0;34m<\u001b[0m \u001b[0mfrontier\u001b[0m\u001b[0;34m[\u001b[0m\u001b[0mchild\u001b[0m\u001b[0;34m]\u001b[0m\u001b[0;34m:\u001b[0m\u001b[0;34m\u001b[0m\u001b[0;34m\u001b[0m\u001b[0m\n\u001b[1;32m    285\u001b[0m                     \u001b[0;32mdel\u001b[0m \u001b[0mfrontier\u001b[0m\u001b[0;34m[\u001b[0m\u001b[0mchild\u001b[0m\u001b[0;34m]\u001b[0m\u001b[0;34m\u001b[0m\u001b[0;34m\u001b[0m\u001b[0m\n",
      "\u001b[0;32m~/Ingenieria/TERCERO/IA/PracticasIA/Practica2Ascensores/utils.py\u001b[0m in \u001b[0;36m__contains__\u001b[0;34m(self, key)\u001b[0m\n\u001b[1;32m    875\u001b[0m     \u001b[0;32mdef\u001b[0m \u001b[0m__contains__\u001b[0m\u001b[0;34m(\u001b[0m\u001b[0mself\u001b[0m\u001b[0;34m,\u001b[0m \u001b[0mkey\u001b[0m\u001b[0;34m)\u001b[0m\u001b[0;34m:\u001b[0m\u001b[0;34m\u001b[0m\u001b[0;34m\u001b[0m\u001b[0m\n\u001b[1;32m    876\u001b[0m         \u001b[0;34m\"\"\"Return True if the key is in PriorityQueue.\"\"\"\u001b[0m\u001b[0;34m\u001b[0m\u001b[0;34m\u001b[0m\u001b[0m\n\u001b[0;32m--> 877\u001b[0;31m         \u001b[0;32mreturn\u001b[0m \u001b[0many\u001b[0m\u001b[0;34m(\u001b[0m\u001b[0;34m[\u001b[0m\u001b[0mitem\u001b[0m \u001b[0;34m==\u001b[0m \u001b[0mkey\u001b[0m \u001b[0;32mfor\u001b[0m \u001b[0m_\u001b[0m\u001b[0;34m,\u001b[0m \u001b[0mitem\u001b[0m \u001b[0;32min\u001b[0m \u001b[0mself\u001b[0m\u001b[0;34m.\u001b[0m\u001b[0mheap\u001b[0m\u001b[0;34m]\u001b[0m\u001b[0;34m)\u001b[0m\u001b[0;34m\u001b[0m\u001b[0;34m\u001b[0m\u001b[0m\n\u001b[0m\u001b[1;32m    878\u001b[0m \u001b[0;34m\u001b[0m\u001b[0m\n\u001b[1;32m    879\u001b[0m     \u001b[0;32mdef\u001b[0m \u001b[0m__getitem__\u001b[0m\u001b[0;34m(\u001b[0m\u001b[0mself\u001b[0m\u001b[0;34m,\u001b[0m \u001b[0mkey\u001b[0m\u001b[0;34m)\u001b[0m\u001b[0;34m:\u001b[0m\u001b[0;34m\u001b[0m\u001b[0;34m\u001b[0m\u001b[0m\n",
      "\u001b[0;32m~/Ingenieria/TERCERO/IA/PracticasIA/Practica2Ascensores/utils.py\u001b[0m in \u001b[0;36m<listcomp>\u001b[0;34m(.0)\u001b[0m\n\u001b[1;32m    875\u001b[0m     \u001b[0;32mdef\u001b[0m \u001b[0m__contains__\u001b[0m\u001b[0;34m(\u001b[0m\u001b[0mself\u001b[0m\u001b[0;34m,\u001b[0m \u001b[0mkey\u001b[0m\u001b[0;34m)\u001b[0m\u001b[0;34m:\u001b[0m\u001b[0;34m\u001b[0m\u001b[0;34m\u001b[0m\u001b[0m\n\u001b[1;32m    876\u001b[0m         \u001b[0;34m\"\"\"Return True if the key is in PriorityQueue.\"\"\"\u001b[0m\u001b[0;34m\u001b[0m\u001b[0;34m\u001b[0m\u001b[0m\n\u001b[0;32m--> 877\u001b[0;31m         \u001b[0;32mreturn\u001b[0m \u001b[0many\u001b[0m\u001b[0;34m(\u001b[0m\u001b[0;34m[\u001b[0m\u001b[0mitem\u001b[0m \u001b[0;34m==\u001b[0m \u001b[0mkey\u001b[0m \u001b[0;32mfor\u001b[0m \u001b[0m_\u001b[0m\u001b[0;34m,\u001b[0m \u001b[0mitem\u001b[0m \u001b[0;32min\u001b[0m \u001b[0mself\u001b[0m\u001b[0;34m.\u001b[0m\u001b[0mheap\u001b[0m\u001b[0;34m]\u001b[0m\u001b[0;34m)\u001b[0m\u001b[0;34m\u001b[0m\u001b[0;34m\u001b[0m\u001b[0m\n\u001b[0m\u001b[1;32m    878\u001b[0m \u001b[0;34m\u001b[0m\u001b[0m\n\u001b[1;32m    879\u001b[0m     \u001b[0;32mdef\u001b[0m \u001b[0m__getitem__\u001b[0m\u001b[0;34m(\u001b[0m\u001b[0mself\u001b[0m\u001b[0;34m,\u001b[0m \u001b[0mkey\u001b[0m\u001b[0;34m)\u001b[0m\u001b[0;34m:\u001b[0m\u001b[0;34m\u001b[0m\u001b[0;34m\u001b[0m\u001b[0m\n",
      "\u001b[0;32m~/Ingenieria/TERCERO/IA/PracticasIA/Practica2Ascensores/search.py\u001b[0m in \u001b[0;36m__eq__\u001b[0;34m(self, other)\u001b[0m\n\u001b[1;32m    125\u001b[0m \u001b[0;34m\u001b[0m\u001b[0m\n\u001b[1;32m    126\u001b[0m     \u001b[0;32mdef\u001b[0m \u001b[0m__eq__\u001b[0m\u001b[0;34m(\u001b[0m\u001b[0mself\u001b[0m\u001b[0;34m,\u001b[0m \u001b[0mother\u001b[0m\u001b[0;34m)\u001b[0m\u001b[0;34m:\u001b[0m\u001b[0;34m\u001b[0m\u001b[0;34m\u001b[0m\u001b[0m\n\u001b[0;32m--> 127\u001b[0;31m         \u001b[0;32mreturn\u001b[0m \u001b[0misinstance\u001b[0m\u001b[0;34m(\u001b[0m\u001b[0mother\u001b[0m\u001b[0;34m,\u001b[0m \u001b[0mNode\u001b[0m\u001b[0;34m)\u001b[0m \u001b[0;32mand\u001b[0m \u001b[0mself\u001b[0m\u001b[0;34m.\u001b[0m\u001b[0mstate\u001b[0m \u001b[0;34m==\u001b[0m \u001b[0mother\u001b[0m\u001b[0;34m.\u001b[0m\u001b[0mstate\u001b[0m\u001b[0;34m\u001b[0m\u001b[0;34m\u001b[0m\u001b[0m\n\u001b[0m\u001b[1;32m    128\u001b[0m \u001b[0;34m\u001b[0m\u001b[0m\n\u001b[1;32m    129\u001b[0m     \u001b[0;32mdef\u001b[0m \u001b[0m__hash__\u001b[0m\u001b[0;34m(\u001b[0m\u001b[0mself\u001b[0m\u001b[0;34m)\u001b[0m\u001b[0;34m:\u001b[0m\u001b[0;34m\u001b[0m\u001b[0;34m\u001b[0m\u001b[0m\n",
      "\u001b[0;31mKeyboardInterrupt\u001b[0m: "
     ]
    }
   ],
   "source": [
    "%%time\n",
    "ini = (\n",
    "   ((2,0,-1), (2,0,-1)), \n",
    "    ((2,0,-1,-1), (4,1,-1,-1), (8,1,-1,-1), (8,2,-1,-1))\n",
    ")\n",
    "fin = ( (4, 1, -1), (4, 1, -1))\n",
    "\n",
    "p1 = Ascensores(ini, fin)\n",
    "#p1.actions(p1.initial)\n",
    "best_first_graph_search(p1, h).solution()"
   ]
  },
  {
   "cell_type": "code",
   "execution_count": null,
   "metadata": {},
   "outputs": [],
   "source": [
    "def mmm(node):\n",
    "    result = 0\n",
    "    personas = node.state[0]\n",
    "    ascensores = node.state[1]\n",
    "    goal = fin \n",
    "    a = 0\n",
    "        \n",
    "    for i in range (len(personas)):\n",
    "        result += abs(personas[i][0] - goal[i][0])\n",
    "        if (personas[i][0] != goal[i][0]):\n",
    "            if personas[i][2] == -1:\n",
    "                if personas[i][0] == 4 or personas[i][0] == 8:\n",
    "                    result -= 3\n",
    "                else: \n",
    "                    result += 1\n",
    "        else: \n",
    "            result += 3\n",
    "    for j in range (len(ascensores)):\n",
    "        if ascensores[j][2] == -1 and ascensores[j][3] == -1:\n",
    "            a += 4\n",
    "\n",
    "    return result + a"
   ]
  },
  {
   "cell_type": "code",
   "execution_count": 53,
   "metadata": {},
   "outputs": [
    {
     "ename": "KeyboardInterrupt",
     "evalue": "",
     "output_type": "error",
     "traceback": [
      "\u001b[0;31m---------------------------------------------------------------------------\u001b[0m",
      "\u001b[0;31mKeyboardInterrupt\u001b[0m                         Traceback (most recent call last)",
      "\u001b[0;32m<ipython-input-53-9d136ba57f01>\u001b[0m in \u001b[0;36m<module>\u001b[0;34m\u001b[0m\n\u001b[1;32m      1\u001b[0m \u001b[0;31m#start_time = time.time() #Compute time of execution\u001b[0m\u001b[0;34m\u001b[0m\u001b[0;34m\u001b[0m\u001b[0;34m\u001b[0m\u001b[0m\n\u001b[0;32m----> 2\u001b[0;31m \u001b[0mbest_first_graph_search\u001b[0m\u001b[0;34m(\u001b[0m\u001b[0mp\u001b[0m\u001b[0;34m,\u001b[0m \u001b[0mlinear\u001b[0m\u001b[0;34m)\u001b[0m\u001b[0;34m.\u001b[0m\u001b[0msolution\u001b[0m\u001b[0;34m(\u001b[0m\u001b[0;34m)\u001b[0m\u001b[0;34m\u001b[0m\u001b[0;34m\u001b[0m\u001b[0m\n\u001b[0m\u001b[1;32m      3\u001b[0m \u001b[0;31m#print(\"--- %s seconds ---\" % (time.time() - start_time))\u001b[0m\u001b[0;34m\u001b[0m\u001b[0;34m\u001b[0m\u001b[0;34m\u001b[0m\u001b[0m\n",
      "\u001b[0;32m~/Ingenieria/TERCERO/IA/PracticasIA/Practica2Ascensores/search.py\u001b[0m in \u001b[0;36mbest_first_graph_search\u001b[0;34m(problem, f, display)\u001b[0m\n\u001b[1;32m    279\u001b[0m         \u001b[0mexplored\u001b[0m\u001b[0;34m.\u001b[0m\u001b[0madd\u001b[0m\u001b[0;34m(\u001b[0m\u001b[0mnode\u001b[0m\u001b[0;34m.\u001b[0m\u001b[0mstate\u001b[0m\u001b[0;34m)\u001b[0m\u001b[0;34m\u001b[0m\u001b[0;34m\u001b[0m\u001b[0m\n\u001b[1;32m    280\u001b[0m         \u001b[0;32mfor\u001b[0m \u001b[0mchild\u001b[0m \u001b[0;32min\u001b[0m \u001b[0mnode\u001b[0m\u001b[0;34m.\u001b[0m\u001b[0mexpand\u001b[0m\u001b[0;34m(\u001b[0m\u001b[0mproblem\u001b[0m\u001b[0;34m)\u001b[0m\u001b[0;34m:\u001b[0m\u001b[0;34m\u001b[0m\u001b[0;34m\u001b[0m\u001b[0m\n\u001b[0;32m--> 281\u001b[0;31m             \u001b[0;32mif\u001b[0m \u001b[0mchild\u001b[0m\u001b[0;34m.\u001b[0m\u001b[0mstate\u001b[0m \u001b[0;32mnot\u001b[0m \u001b[0;32min\u001b[0m \u001b[0mexplored\u001b[0m \u001b[0;32mand\u001b[0m \u001b[0mchild\u001b[0m \u001b[0;32mnot\u001b[0m \u001b[0;32min\u001b[0m \u001b[0mfrontier\u001b[0m\u001b[0;34m:\u001b[0m\u001b[0;34m\u001b[0m\u001b[0;34m\u001b[0m\u001b[0m\n\u001b[0m\u001b[1;32m    282\u001b[0m                 \u001b[0mfrontier\u001b[0m\u001b[0;34m.\u001b[0m\u001b[0mappend\u001b[0m\u001b[0;34m(\u001b[0m\u001b[0mchild\u001b[0m\u001b[0;34m)\u001b[0m\u001b[0;34m\u001b[0m\u001b[0;34m\u001b[0m\u001b[0m\n\u001b[1;32m    283\u001b[0m             \u001b[0;32melif\u001b[0m \u001b[0mchild\u001b[0m \u001b[0;32min\u001b[0m \u001b[0mfrontier\u001b[0m\u001b[0;34m:\u001b[0m\u001b[0;34m\u001b[0m\u001b[0;34m\u001b[0m\u001b[0m\n",
      "\u001b[0;32m~/Ingenieria/TERCERO/IA/PracticasIA/Practica2Ascensores/utils.py\u001b[0m in \u001b[0;36m__contains__\u001b[0;34m(self, key)\u001b[0m\n\u001b[1;32m    875\u001b[0m     \u001b[0;32mdef\u001b[0m \u001b[0m__contains__\u001b[0m\u001b[0;34m(\u001b[0m\u001b[0mself\u001b[0m\u001b[0;34m,\u001b[0m \u001b[0mkey\u001b[0m\u001b[0;34m)\u001b[0m\u001b[0;34m:\u001b[0m\u001b[0;34m\u001b[0m\u001b[0;34m\u001b[0m\u001b[0m\n\u001b[1;32m    876\u001b[0m         \u001b[0;34m\"\"\"Return True if the key is in PriorityQueue.\"\"\"\u001b[0m\u001b[0;34m\u001b[0m\u001b[0;34m\u001b[0m\u001b[0m\n\u001b[0;32m--> 877\u001b[0;31m         \u001b[0;32mreturn\u001b[0m \u001b[0many\u001b[0m\u001b[0;34m(\u001b[0m\u001b[0;34m[\u001b[0m\u001b[0mitem\u001b[0m \u001b[0;34m==\u001b[0m \u001b[0mkey\u001b[0m \u001b[0;32mfor\u001b[0m \u001b[0m_\u001b[0m\u001b[0;34m,\u001b[0m \u001b[0mitem\u001b[0m \u001b[0;32min\u001b[0m \u001b[0mself\u001b[0m\u001b[0;34m.\u001b[0m\u001b[0mheap\u001b[0m\u001b[0;34m]\u001b[0m\u001b[0;34m)\u001b[0m\u001b[0;34m\u001b[0m\u001b[0;34m\u001b[0m\u001b[0m\n\u001b[0m\u001b[1;32m    878\u001b[0m \u001b[0;34m\u001b[0m\u001b[0m\n\u001b[1;32m    879\u001b[0m     \u001b[0;32mdef\u001b[0m \u001b[0m__getitem__\u001b[0m\u001b[0;34m(\u001b[0m\u001b[0mself\u001b[0m\u001b[0;34m,\u001b[0m \u001b[0mkey\u001b[0m\u001b[0;34m)\u001b[0m\u001b[0;34m:\u001b[0m\u001b[0;34m\u001b[0m\u001b[0;34m\u001b[0m\u001b[0m\n",
      "\u001b[0;32m~/Ingenieria/TERCERO/IA/PracticasIA/Practica2Ascensores/utils.py\u001b[0m in \u001b[0;36m<listcomp>\u001b[0;34m(.0)\u001b[0m\n\u001b[1;32m    875\u001b[0m     \u001b[0;32mdef\u001b[0m \u001b[0m__contains__\u001b[0m\u001b[0;34m(\u001b[0m\u001b[0mself\u001b[0m\u001b[0;34m,\u001b[0m \u001b[0mkey\u001b[0m\u001b[0;34m)\u001b[0m\u001b[0;34m:\u001b[0m\u001b[0;34m\u001b[0m\u001b[0;34m\u001b[0m\u001b[0m\n\u001b[1;32m    876\u001b[0m         \u001b[0;34m\"\"\"Return True if the key is in PriorityQueue.\"\"\"\u001b[0m\u001b[0;34m\u001b[0m\u001b[0;34m\u001b[0m\u001b[0m\n\u001b[0;32m--> 877\u001b[0;31m         \u001b[0;32mreturn\u001b[0m \u001b[0many\u001b[0m\u001b[0;34m(\u001b[0m\u001b[0;34m[\u001b[0m\u001b[0mitem\u001b[0m \u001b[0;34m==\u001b[0m \u001b[0mkey\u001b[0m \u001b[0;32mfor\u001b[0m \u001b[0m_\u001b[0m\u001b[0;34m,\u001b[0m \u001b[0mitem\u001b[0m \u001b[0;32min\u001b[0m \u001b[0mself\u001b[0m\u001b[0;34m.\u001b[0m\u001b[0mheap\u001b[0m\u001b[0;34m]\u001b[0m\u001b[0;34m)\u001b[0m\u001b[0;34m\u001b[0m\u001b[0;34m\u001b[0m\u001b[0m\n\u001b[0m\u001b[1;32m    878\u001b[0m \u001b[0;34m\u001b[0m\u001b[0m\n\u001b[1;32m    879\u001b[0m     \u001b[0;32mdef\u001b[0m \u001b[0m__getitem__\u001b[0m\u001b[0;34m(\u001b[0m\u001b[0mself\u001b[0m\u001b[0;34m,\u001b[0m \u001b[0mkey\u001b[0m\u001b[0;34m)\u001b[0m\u001b[0;34m:\u001b[0m\u001b[0;34m\u001b[0m\u001b[0;34m\u001b[0m\u001b[0m\n",
      "\u001b[0;31mKeyboardInterrupt\u001b[0m: "
     ]
    }
   ],
   "source": [
    "#start_time = time.time() #Compute time of execution\n",
    "best_first_graph_search(p, linear).solution()\n",
    "#print(\"--- %s seconds ---\" % (time.time() - start_time))"
   ]
  },
  {
   "cell_type": "code",
   "execution_count": 164,
   "metadata": {},
   "outputs": [
    {
     "name": "stdout",
     "output_type": "stream",
     "text": [
      "--- 4.951805114746094 seconds ---\n"
     ]
    }
   ],
   "source": [
    "start_time = time.time() #Compute time of execution\n",
    "astar_search(p, distanciaObjetivoAlejaAscensor).solution()\n",
    "print(\"--- %s seconds ---\" % (time.time() - start_time))"
   ]
  },
  {
   "cell_type": "code",
   "execution_count": 156,
   "metadata": {},
   "outputs": [
    {
     "name": "stdout",
     "output_type": "stream",
     "text": [
      "--- 0.33469390869140625 seconds ---\n"
     ]
    }
   ],
   "source": [
    "start_time = time.time() #Compute time of execution\n",
    "astar_search(p, distanciaObjetivoSimple).solution()\n",
    "print(\"--- %s seconds ---\" % (time.time() - start_time))"
   ]
  },
  {
   "cell_type": "code",
   "execution_count": 157,
   "metadata": {},
   "outputs": [
    {
     "name": "stdout",
     "output_type": "stream",
     "text": [
      "--- 4.442941188812256 seconds ---\n"
     ]
    }
   ],
   "source": [
    "start_time = time.time() #Compute time of execution\n",
    "astar_search(p, linear).solution()\n",
    "print(\"--- %s seconds ---\" % (time.time() - start_time))"
   ]
  },
  {
   "cell_type": "code",
   "execution_count": null,
   "metadata": {},
   "outputs": [],
   "source": []
  }
 ],
 "metadata": {
  "kernelspec": {
   "display_name": "Python 3",
   "language": "python",
   "name": "python3"
  },
  "language_info": {
   "codemirror_mode": {
    "name": "ipython",
    "version": 3
   },
   "file_extension": ".py",
   "mimetype": "text/x-python",
   "name": "python",
   "nbconvert_exporter": "python",
   "pygments_lexer": "ipython3",
   "version": "3.7.3"
  }
 },
 "nbformat": 4,
 "nbformat_minor": 4
}
