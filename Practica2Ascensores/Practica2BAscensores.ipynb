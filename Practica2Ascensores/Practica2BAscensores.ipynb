{
 "cells": [
  {
   "cell_type": "code",
   "execution_count": 1,
   "metadata": {},
   "outputs": [],
   "source": [
    "#Representacion de los estados para la resolaucion del problema de los ascensores. \n",
    "\n",
    "#Estado Inicial: \n",
    "#          * personas indicando la plata actual en la que estan\n",
    "#ini = ((1, 3, 4), ((0,[]),(0,[])))\n",
    "ini = ((1, 3, 4), (1,0))\n",
    "#                   * Ascensores tambien indicando en la planta actual en la que estan. \n",
    "\n",
    "\n",
    "fin = ((2, 4, 1)) #Reresentacion des estado final solo de las personas ya que los ascensores no importa doende \n",
    "#acaben \n"
   ]
  },
  {
   "cell_type": "code",
   "execution_count": 2,
   "metadata": {},
   "outputs": [],
   "source": [
    "# importamos las cosas que vamos a usar de aima\n",
    "from search import *\n",
    "\n",
    "class Ascensores(Problem):\n",
    "    ''' Clase Ascensores la cual implenta la clase abstracta Problema que nos ayuda a resover el porblema\n",
    "           con varias funciones de busqueda '''\n",
    "    def __init__(self,initial, goal):\n",
    "        '''Metodo que inicializa nustro problema'''\n",
    "          Problem.__init__(self, initial, goal)\n",
    "        #self.search = initial\n",
    "        self.goal = goal\n",
    "        \n",
    "\n",
    "    def actions(self, estado):\n",
    "        '''Apartir de un estado(n) dado nos lista un conjunto de acciones(a) que le podimos aplicar a n para\n",
    "        alcanzar otro estado n'  ''' \n",
    "        \n",
    "        listaPersonas = list(estado[0])\n",
    "        listAscensores = list(estado[1])\n",
    "        \n",
    "        acciones = list() \n",
    "      \n",
    "        for i in range (len(listaPersonas)):\n",
    "            persona = listaPersonas[i]\n",
    "            \n",
    "            for j in range (len(listAscensores)):\n",
    "                ascensor = int(listAscensores[j])\n",
    "                if persona != ascensor: \n",
    "                    acciones.append((i,j, \"Llamar\")) # sube al ascensor j a la planta donde esta la persona i\n",
    "                if persona == ascensor and int(persona) < 12: # para si la persona esta en la ultima planta solo\n",
    "                    acciones.append((i,j, \"Bajar\"))           #pordria bajar \n",
    "                if persona == ascensor and int(persona) > 0: # Idem pero al reves \n",
    "                    acciones.append((i,j, \"Subir\"))\n",
    "                #en el momento que ascensor este en la misma planta que la persona el arbol se ramifica en dos caminos\n",
    "                #por lo que se generaran estas dos acciones. Quien decida que accion utilizar será la heuristica \n",
    "                #puesto que cogere la que menos heuristica tenga ya que estará mas cerca de la solución\n",
    "                \n",
    "        return acciones; \n",
    "\n",
    "        \n",
    "    #accion = (plantaPersona,PlantaAscensor, accion en string)\n",
    "    def result(self, estado, accion):\n",
    "        '''Dado un estado(n, nodo actual) y una accion(a) nos permite general un nuevo nodo(n') aplicando la accion dada'''\n",
    "        l = list(estado)\n",
    "        listaPersonas = list(estado[0]) #la primera(0)posicion de la tupla de estado la convertimos a una lista\n",
    "        listAscensores = list(estado[1])# Idema para los ascensores con la segunda posicion (1)\n",
    "        \n",
    "        persona = accion[0] # Extraemos la posicion de la listaen donde se encutra la persona a modificar su posicion en el edificio\n",
    "        ascensor = accion[1]# Idem con los ascensores \n",
    "        #Se hace simplemente para facilitar la lectura del codigo\n",
    "        \n",
    "        actualPersona = listaPersonas[persona] #Planta actual donde se encutra la persona\n",
    "        actualAscensor = listAscensores[ascensor]#idem con el ascensor\n",
    "        \n",
    "        if accion[2] == \"Llamar\":\n",
    "            listAscensores[ascensor] = int(listaPersonas[persona]) # Si es llamar a la posicion actual le asignamos la posicion \n",
    "            #actual de la persona que ha solicitado el ascensor\n",
    "        if accion[2] == \"Bajar\": #Si es bajar restamos en uno la posicion actual de ambos(bajan un piso)\n",
    "            listaPersonas[persona] -= 1 \n",
    "            listAscensores[ascensor] -=1\n",
    "        if accion[2] == \"Subir\": #Si es Subir sumamos en uno la posicion actual de ambos(sube un piso)\n",
    "            listaPersonas[persona] += 1\n",
    "            listAscensores[ascensor] +=1\n",
    "        \n",
    "        return (tuple(listaPersonas), tuple(listAscensores))\n",
    "    \n",
    "    def goal_test(self, estado): # Devuelve true si se ha alcanzado el estado objetivo \n",
    "        return estado[0] == self.goal \n",
    "\n",
    "\n"
   ]
  },
  {
   "cell_type": "code",
   "execution_count": null,
   "metadata": {},
   "outputs": [],
   "source": []
  },
  {
   "cell_type": "code",
   "execution_count": 3,
   "metadata": {},
   "outputs": [
    {
     "data": {
      "text/plain": [
       "((1, 3, 4), (1, 0))"
      ]
     },
     "execution_count": 3,
     "metadata": {},
     "output_type": "execute_result"
    }
   ],
   "source": [
    "p = Ascensores(ini, fin)\n",
    "p.initial"
   ]
  },
  {
   "cell_type": "code",
   "execution_count": 4,
   "metadata": {},
   "outputs": [
    {
     "data": {
      "text/plain": [
       "[(0, 0, 'Bajar'),\n",
       " (0, 0, 'Subir'),\n",
       " (0, 1, 'Llamar'),\n",
       " (1, 0, 'Llamar'),\n",
       " (1, 1, 'Llamar'),\n",
       " (2, 0, 'Llamar'),\n",
       " (2, 1, 'Llamar')]"
      ]
     },
     "execution_count": 4,
     "metadata": {},
     "output_type": "execute_result"
    }
   ],
   "source": [
    "p.actions(p.initial)"
   ]
  },
  {
   "cell_type": "code",
   "execution_count": 5,
   "metadata": {},
   "outputs": [
    {
     "data": {
      "text/plain": [
       "((1, 3, 4), (1, 0))"
      ]
     },
     "execution_count": 5,
     "metadata": {},
     "output_type": "execute_result"
    }
   ],
   "source": [
    "p.result(p.initial, (0,0, \"Llamar\"))"
   ]
  },
  {
   "cell_type": "code",
   "execution_count": 6,
   "metadata": {},
   "outputs": [],
   "source": [
    "# Importamos los modulos pertenecinetes a los algoritmos de busqueda \n",
    "from search import *\n",
    "from search import breadth_first_tree_search, depth_first_tree_search, depth_first_graph_search, breadth_first_graph_search"
   ]
  },
  {
   "cell_type": "code",
   "execution_count": 7,
   "metadata": {},
   "outputs": [
    {
     "data": {
      "text/plain": [
       "[(0, 0, 'Subir'),\n",
       " (1, 0, 'Llamar'),\n",
       " (1, 0, 'Subir'),\n",
       " (2, 0, 'Bajar'),\n",
       " (2, 0, 'Bajar'),\n",
       " (2, 0, 'Bajar')]"
      ]
     },
     "execution_count": 7,
     "metadata": {},
     "output_type": "execute_result"
    }
   ],
   "source": [
    "breadth_first_graph_search(p).solution()"
   ]
  },
  {
   "cell_type": "code",
   "execution_count": 21,
   "metadata": {},
   "outputs": [],
   "source": [
    "#Definimos algunas Hehuristicas \n",
    "\n",
    "def linear(node): # dado un estado nos devuelve las personas que todavia no estan en su planta objetivo\n",
    "# es decir, que estan mal colocadas (como en el puzzle de 8)\n",
    "    result = 0\n",
    "    goal = fin\n",
    "    estado = node.state[0]\n",
    "    \n",
    "    for i in range (len(estado)):\n",
    "        if goal[i] != estado[i]:\n",
    "            result += 1\n",
    "    return result\n",
    "\n",
    "# Sería como el de distancia hasta su objetivo quitando los if que comprueban las paradas para cambio de ascensor\n",
    "def paradasTotales(node):\n",
    "    result = 0\n",
    "    bloque1 = (0,1,2,3,4)\n",
    "    bloque2 = (4,5,6,7,8)\n",
    "    bloque3 = (8,9,10,11,12)\n",
    "    \n",
    "    goal = fin\n",
    "    estado = node.state[0]\n",
    "    \n",
    "    for i in range (len(estado)):\n",
    "        plantaIni = estado[i]\n",
    "        plantaFin = goal[i]\n",
    "        #podemos ignorar la comporacion de goal[i] == estado[i] ya que el resultado es 0\n",
    "        result += abs(goal[i] - estado[i])\n",
    "        \n",
    "        if goal[i] != estado[i]: \n",
    "        #Hago esto con conjuntos para determinar las paradas que han de hacer los ascensores Lentos\n",
    "        #Por ejemplo si el inicio esta en el bloque 1 y el objetivo es el bloque3 entonces ha de hacer dos paradas\n",
    "            if plantaIni < plantaFin: #Sube \n",
    "                if plantaFin in bloque2 and plantaIni in bloque1: \n",
    "                    result += 1\n",
    "                elif plantaFin in bloque3 and plantaIni in bloque1:\n",
    "                    result +=2\n",
    "                elif plantaFin in bloque3 and plantaIni in bloque2:\n",
    "                    result += 1\n",
    "            else: # Baja\n",
    "                if plantaIni in bloque3 and plantaFin in bloque2: \n",
    "                    result += 1\n",
    "                elif plantaIni in bloque3 and plantaFin in bloque1:\n",
    "                    result +=2\n",
    "                elif plantaIni in bloque2 and plantaFin in bloque1:\n",
    "                    result += 1\n",
    "                \n",
    "    return result\n",
    "\n",
    "def distanciaParaObjetivo(node):\n",
    "    result = 0\n",
    "    goal = fin\n",
    "    estado = node.state[0]\n",
    "    \n",
    "    for i in range (len(estado)):\n",
    "        if(goal[i] != estado[i]):\n",
    "            result += abs(goal[i] - estado[i])\n",
    "    \n",
    "    return result\n",
    "        \n",
    "    \n",
    "    \n",
    "    \n",
    "\n",
    "    \n",
    "    "
   ]
  },
  {
   "cell_type": "code",
   "execution_count": 107,
   "metadata": {},
   "outputs": [],
   "source": [
    "#astar_search(p, distanciaParaObjetivo).solution()"
   ]
  }
 ],
 "metadata": {
  "kernelspec": {
   "display_name": "Python 3",
   "language": "python",
   "name": "python3"
  },
  "language_info": {
   "codemirror_mode": {
    "name": "ipython",
    "version": 3
   },
   "file_extension": ".py",
   "mimetype": "text/x-python",
   "name": "python",
   "nbconvert_exporter": "python",
   "pygments_lexer": "ipython3",
   "version": "3.7.4"
  }
 },
 "nbformat": 4,
 "nbformat_minor": 2
}
