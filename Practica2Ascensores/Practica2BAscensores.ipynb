{
 "cells": [
  {
   "cell_type": "code",
   "execution_count": null,
   "metadata": {},
   "outputs": [],
   "source": [
    "# importamos las cosas que vamos a usar de aima\n",
    "from search import *\n",
    "\n",
    "class Ascensores(Problem):\n",
    "    \n",
    "    def __init__(self,initial, goal):\n",
    "        \n",
    "        #Problem.__init__(self, initial, goal)        \n",
    "        self.initial = initial\n",
    "        self.goal = goal\n",
    "        \n",
    "\n",
    "    def actions(self,estado):\n",
    "        personas = estado[0]\n",
    "        ascensores = estado[1]\n",
    "        acciones = list() \n",
    "\n",
    "        for i in range (len(ascensores)):\n",
    "            ascensor = ascensores[i]\n",
    "            personaEnAscensor1 = ascensor[2]\n",
    "            personaEnAscensor2 = ascensor[3]\n",
    "            una = 0\n",
    "            dos = 0\n",
    "            #bloque = i\n",
    "            #if i == 2:\n",
    "             #   bloque -= 1\n",
    "                \n",
    "           # aumentoDeBloque = (ascensor[0] == 4 and ascensor[1] == 0) or (ascensor[0] == 8 and ascensor[1] == 1) # bloque +1\n",
    "            #descensoBloque = (ascensor[0] == 4 and ascensor[1] == 1) or (ascensor[0] == 8 and ascensor[1] == 2)#bloqe -1 \n",
    "\n",
    "            \n",
    "            for j in range (len(personas)):\n",
    "                persona = personas[j]\n",
    "                mismoBloque = (persona[0] == ascensor[0]) and (persona[1] == ascensor[1])#comprueba que estan en la misma planta y bloque\n",
    "                personaEnAscenor = (j == personaEnAscensor1 or j == personaEnAscensor2) #Esta en el ascensor subido \n",
    "                haySitio = (personaEnAscensor1 == -1 or personaEnAscensor2 == -1)#Comprueba que hay plazas libres en el ascensor \n",
    "               \n",
    "                aumentoDeBloque = (persona[0] == 4 and persona[1] == 0) or (persona[0] == 8 and persona[1] == 1) # bloque +1\n",
    "                descensoBloque = (persona[0] == 4 and persona[1] == 1) or (persona[0] == 8 and persona[1] == 2)#bloqe -1 \n",
    "\n",
    "                hayPersonaEnBloque = persona[1] == ascensor[1]\n",
    "\n",
    "                if hayPersonaEnBloque:\n",
    "\n",
    "                    if ascensor[0] in(0, 4, 8): # si el ascensor sube no permite que suba mas y le hace bajar una planta\n",
    "                        \n",
    "                        if dos < 1:\n",
    "                            if (ascensor[0] == 4 and ascensor[1] == 0) or (ascensor[0] == 8 and ascensor[1] == 1):\n",
    "                                acciones.append((\"Bajar\",personaEnAscensor1 ,personaEnAscensor2,i, ascensor[1]))\n",
    "                            if (ascensor[0] == 0 and ascensor[1] == 0) or (ascensor[0] == 4 and ascensor[1] == 1) or (ascensor[0] == 8 and ascensor[1] == 2):\n",
    "                                acciones.append((\"Subir\",personaEnAscensor1 , personaEnAscensor2,i, ascensor[1]))\n",
    "                            dos += 1\n",
    "                            \n",
    "                    else:\n",
    "                        if una < 1: \n",
    "                            acciones.append((\"Subir\",personaEnAscensor1 , personaEnAscensor2,i, ascensor[1]))\n",
    "                            acciones.append((\"Bajar\",personaEnAscensor1 , personaEnAscensor2,i, ascensor[1]))\n",
    "                            una += 1\n",
    "               \n",
    "                if mismoBloque == True: # ascensor y persona en la misma planta\n",
    "                        if (personaEnAscenor == False) and (haySitio == True):# hay sitio y la persona no esta subida\n",
    "                            acciones.append((\"Montar\",j , -1,i, ascensor[1])) #sube a la persona i al ascensor j\n",
    "                        if personaEnAscenor == True:\n",
    "                            bloque = ascensor[1]\n",
    "                            if persona[0] in (4,8):\n",
    "                                if aumentoDeBloque == True: \n",
    "                                    bloque += 1\n",
    "                                if descensoBloque == True: \n",
    "                                    bloque -= 1\n",
    "                            acciones.append((\"Salir\",j ,-1,i, bloque)) #sale la persona j del ascensor i\n",
    "        return acciones\n",
    "        \n",
    "    #accion = (plantaPersona,PlantaAscensor, accion en string)\n",
    "    def result(self,estado, accion):\n",
    "\n",
    "        l = list(estado)\n",
    "        listaPersonas = list(estado[0]) #la primera(0)posicion de la tupla de estado la convertimos a una lista\n",
    "        listAscensores = list(estado[1])# Idema para los ascensores con la segunda posicion (1)\n",
    "        perAcc1 = accion[1]\n",
    "        perAcc2 = accion[2]\n",
    "        ascensorAcc = accion[3]\n",
    "        bloqueAcc = accion[4]\n",
    "        ascensor = list(listAscensores[ascensorAcc])\n",
    "        planta = ascensor[0]\n",
    "        \n",
    "\n",
    "        if accion[0] == \"Subir\":\n",
    "            if perAcc1 != -1 :\n",
    "                persona1 = list(listaPersonas[perAcc1])\n",
    "                persona1[0] += 1\n",
    "                listaPersonas[perAcc1] = tuple(persona1)\n",
    "            if perAcc2 != -1:\n",
    "                persona2 = list(listaPersonas[perAcc2])\n",
    "                persona2[0] += 1\n",
    "                listaPersonas[perAcc2] = tuple(persona2)\n",
    "            ascensor[0] += 1    \n",
    "        if accion[0] == \"Bajar\":\n",
    "            if perAcc1 != -1:\n",
    "                persona1 = list(listaPersonas[perAcc1])\n",
    "                persona1[0] -= 1\n",
    "                listaPersonas[perAcc1] = tuple(persona1)\n",
    "            if perAcc2 != -1:\n",
    "                persona2 = list(listaPersonas[perAcc2])\n",
    "                persona2[0] -= 1\n",
    "                listaPersonas[perAcc2] = tuple(persona2)\n",
    "            ascensor[0] -= 1\n",
    "        if accion[0] == \"Salir\":\n",
    "            if perAcc1 != -1:\n",
    "                persona1 = list(listaPersonas[perAcc1])\n",
    "                persona1[2] = -1 # sacamos a la persona del ascensor\n",
    "                persona1[1] = bloqueAcc\n",
    "                \n",
    "                if perAcc1 == ascensor[2]: \n",
    "                    ascensor[2] = - 1 # la persona 1 que esta en la posicion 2 de la tupla ascensor la modificamos a -1 asi decimos que no esta montada \n",
    "                elif ascensor[3] == perAcc1:\n",
    "                    ascensor[3] == - 1\n",
    "                if perAcc1 != -1:\n",
    "                    listaPersonas[perAcc1] = tuple(persona1)\n",
    "        if accion[0] == \"Montar\":\n",
    "            if ascensor[2] == -1: \n",
    "                ascensor[2] = perAcc1 # la persona sube dentro del ascensor\n",
    "                persona1 = list(listaPersonas[perAcc1])\n",
    "                persona1[2] = ascensorAcc # le asignameos el ascensor a la persona \n",
    "                listaPersonas[perAcc1] = tuple(persona1)\n",
    "            elif ascensor[3] == -1: \n",
    "                ascensor[3] = perAcc1 # la persona sube dentro del ascensor\n",
    "                persona1 = list(listaPersonas[perAcc1])\n",
    "                persona1[2] = ascensorAcc # le asignameos el ascensor a la persona \n",
    "                listaPersonas[perAcc1] = tuple(persona1)  \n",
    "        \n",
    "        listAscensores[ascensorAcc] = tuple(ascensor)\n",
    "        return (tuple(listaPersonas), tuple(listAscensores))\n",
    "    \n",
    "    def goal_test(self, estado): # Devuelve true si se ha alcanzado el estado objetivo\n",
    "        personas = estado[0]\n",
    "        objetivo = True\n",
    "\n",
    "        for i in range (len(personas)): \n",
    "            persona = personas[i]\n",
    "            personaGoal = self.goal[i]\n",
    "\n",
    "            sonIfuales = (persona[0] == personaGoal[0]) and (persona[1] == personaGoal[1])\n",
    "\n",
    "            objetivo = objetivo and sonIfuales\n",
    "\n",
    "        return objetivo"
   ]
  },
  {
   "cell_type": "code",
   "execution_count": 49,
   "metadata": {},
   "outputs": [],
   "source": [
    "import time\n",
    "u = (\n",
    "   ((1,0,-1), (4,1,-1), (8,2,-1)), \n",
    "    ((1,0,-1,-1), (4,1,-1,-1), (8,1,-1,-1))\n",
    ")\n",
    "\n",
    "j = ( (4, 2, -1), (8, 2, -1), (4, 1, -1))"
   ]
  },
  {
   "cell_type": "code",
   "execution_count": 50,
   "metadata": {},
   "outputs": [],
   "source": [
    "import time\n",
    "x = (\n",
    "   ((1,0,-1), (4,1,-1)), \n",
    "    ((1,0,-1,-1), (4,1,-1,-1),(8,2,-1,-1))\n",
    ")\n",
    "\n",
    "y = ((4, 1, -1), (8,1, -1))"
   ]
  },
  {
   "cell_type": "code",
   "execution_count": 8,
   "metadata": {},
   "outputs": [],
   "source": [
    "import time\n",
    "x = (\n",
    "   ((4,1,1), (1,0,0),(8,1,2), (1,0,0)), \n",
    "    ((1,0,1,3), (4,1,0,-1), (8,1,2,-1), (8,2,-1,-1))\n",
    ")\n",
    "\n",
    "y = ( (11, 2, -1), (12, 2, -1), (1, 0, -1), (9, 2, -1))"
   ]
  },
  {
   "cell_type": "code",
   "execution_count": 9,
   "metadata": {},
   "outputs": [
    {
     "data": {
      "text/plain": [
       "(((1, 0, -1), (4, 1, -1), (8, 2, -1)),\n",
       " ((1, 0, -1, -1), (4, 1, -1, -1), (8, 1, -1, -1), (8, 2, -1, -1)))"
      ]
     },
     "execution_count": 9,
     "metadata": {},
     "output_type": "execute_result"
    }
   ],
   "source": [
    "p = Ascensores(ini, fin)\n",
    "p.initial"
   ]
  },
  {
   "cell_type": "code",
   "execution_count": 10,
   "metadata": {},
   "outputs": [
    {
     "data": {
      "text/plain": [
       "[('Subir', -1, -1, 0, 0),\n",
       " ('Bajar', -1, -1, 0, 0),\n",
       " ('Montar', 0, -1, 0, 0),\n",
       " ('Subir', -1, -1, 1, 1),\n",
       " ('Montar', 1, -1, 1, 1),\n",
       " ('Bajar', -1, -1, 2, 1),\n",
       " ('Subir', -1, -1, 3, 2),\n",
       " ('Montar', 2, -1, 3, 2)]"
      ]
     },
     "execution_count": 10,
     "metadata": {},
     "output_type": "execute_result"
    }
   ],
   "source": [
    "p.actions(p.initial)"
   ]
  },
  {
   "cell_type": "code",
   "execution_count": 11,
   "metadata": {},
   "outputs": [],
   "source": [
    "#p.result(p.initial, (\"Subir\", 1, -1, 1, 1))"
   ]
  },
  {
   "cell_type": "code",
   "execution_count": 12,
   "metadata": {},
   "outputs": [
    {
     "data": {
      "text/plain": [
       "((4, 2, -1), (8, 2, -1), (4, 1, -1))"
      ]
     },
     "execution_count": 12,
     "metadata": {},
     "output_type": "execute_result"
    }
   ],
   "source": [
    "p.goal"
   ]
  },
  {
   "cell_type": "code",
   "execution_count": 55,
   "metadata": {},
   "outputs": [],
   "source": [
    "# Importamos los modulos pertenecinetes a los algoritmos de busqueda \n",
    "from search import *\n",
    "from search import breadth_first_tree_search, depth_first_tree_search, depth_first_graph_search, breadth_first_graph_search"
   ]
  },
  {
   "cell_type": "code",
   "execution_count": 46,
   "metadata": {},
   "outputs": [
    {
     "name": "stderr",
     "output_type": "stream",
     "text": [
      "UsageError: Line magic function `%%time` not found.\n"
     ]
    }
   ],
   "source": [
    "#start_time = time.time() #Compute time of execution\n",
    "%%time\n",
    "best_first_graph_search(p, distanciaObjetivo).solution()\n",
    "#print(\"--- %s seconds ---\" % (time.time() - start_time))"
   ]
  },
  {
   "cell_type": "code",
   "execution_count": 56,
   "metadata": {},
   "outputs": [
    {
     "ename": "NameError",
     "evalue": "name 'p' is not defined",
     "output_type": "error",
     "traceback": [
      "\u001b[0;31m---------------------------------------------------------------------------\u001b[0m",
      "\u001b[0;31mNameError\u001b[0m                                 Traceback (most recent call last)",
      "\u001b[0;32m<timed eval>\u001b[0m in \u001b[0;36m<module>\u001b[0;34m\u001b[0m\n",
      "\u001b[0;31mNameError\u001b[0m: name 'p' is not defined"
     ]
    }
   ],
   "source": [
    "%%time\n",
    "astar_search(p, linear).solution()"
   ]
  },
  {
   "cell_type": "code",
   "execution_count": 14,
   "metadata": {},
   "outputs": [
    {
     "ename": "NameError",
     "evalue": "name 'linear' is not defined",
     "output_type": "error",
     "traceback": [
      "\u001b[0;31m---------------------------------------------------------------------------\u001b[0m",
      "\u001b[0;31mNameError\u001b[0m                                 Traceback (most recent call last)",
      "\u001b[0;32m<timed eval>\u001b[0m in \u001b[0;36m<module>\u001b[0;34m\u001b[0m\n",
      "\u001b[0;31mNameError\u001b[0m: name 'linear' is not defined"
     ]
    }
   ],
   "source": [
    "%%time\n",
    "best_first_graph_search(p, linear).solution()"
   ]
  },
  {
   "cell_type": "code",
   "execution_count": 57,
   "metadata": {},
   "outputs": [],
   "source": [
    "#Definimos algunas Hehuristicas \n",
    "\n",
    "def linear(node): # dado un estado nos devuelve las personas que todavia no estan en su planta objetivo\n",
    "# es decir, que estan mal colocadas (como en el puzzle de 8)\n",
    "    result = 0\n",
    "    goal = fin\n",
    "    estado = node.state[0]\n",
    "    \n",
    "    for i in range (len(estado)):\n",
    "        if goal[i] != estado[i]:\n",
    "            result += 1\n",
    "    return result\n",
    "\n",
    "def distanciaObjetivo(node):\n",
    "    result = 0\n",
    "    goal = fin\n",
    "    personas = node.state[0]\n",
    "    ascensores = node.state[1]\n",
    "    \n",
    "    \n",
    "    for i in range (len(personas)):\n",
    "        per = personas[i]\n",
    "        perObj = goal[i]\n",
    "        \n",
    "        distanciaObjetivo = abs(per[0] - perObj[0]) != 0\n",
    "\n",
    "        result += distanciaObjetivo\n",
    "        for j in range (len(ascensores)):\n",
    "            if ascensores[i][0] == per[0] and per[2] == -1:\n",
    "                if distanciaObjetivo != 0: \n",
    "                    result += 2\n",
    "            #if ascensores[i][0] == per[0] and per[2] == j:\n",
    "               # if distanciaObjetivo == 0: \n",
    "                #    result += 2\n",
    "            #if per[2] == - 1:\n",
    "             #   if distanciaObjetivo != 0: \n",
    "              #      if per[0] + 1 == ascensores[i][0] or per[0] - 1 == ascensores[i][0]:\n",
    "               #         result += 2\n",
    "            \n",
    "        \n",
    "    return result\n",
    "\n",
    "                    \n",
    "\n",
    "def distanciaObjetivoSimple(node):\n",
    "    result = 0\n",
    "    goal = fin\n",
    "    personas = node.state[0]\n",
    "    \n",
    "    for i in range (len(personas)):\n",
    "        per = personas[i]\n",
    "        perObj = goal[i]\n",
    "\n",
    "        result += abs(per[0] - perObj[0])\n",
    "        result += abs(per[1] - perObj[1])\n",
    "        \n",
    "        if abs(per[0] - perObj[0]) != 0:\n",
    "            if per[2] == -1: \n",
    "                result += 1\n",
    "           \n",
    "        \n",
    "        \n",
    "    return result\n",
    "\n",
    "def distanciaObjetivoAlejaAscensor(node):\n",
    "    result = 0\n",
    "    goal = fin\n",
    "    personas = node.state[0]\n",
    "    ascensores = node.state[1]\n",
    "    \n",
    "    for i in range (len(personas)):\n",
    "        per = personas[i]\n",
    "        perObj = goal[i]\n",
    "\n",
    "        result += abs(per[0] - perObj[0])\n",
    "        result += abs(per[1] - perObj[1])\n",
    "        \n",
    "        if per[2] == -1 and abs(per[0] - perObj[0]) != 0:\n",
    "            ascensor = ascensores[per[1]]\n",
    "            if per[0] + 1 == ascensor[0] or per[0] -1 == ascensor[0]:\n",
    "                result += 2\n",
    "                \n",
    "                \n",
    "        \n",
    "        \n",
    "    return result\n"
   ]
  },
  {
   "cell_type": "code",
   "execution_count": 58,
   "metadata": {},
   "outputs": [],
   "source": [
    "def distanciaBloques(node): \n",
    "    result = 0\n",
    "    goal = fin\n",
    "    personas = node.state[0]\n",
    "    ascensores = node.state[1]\n",
    "    \n",
    "    for i in range (len(personas)): \n",
    "        persona = personas[i]\n",
    "        personaObjetivo = goal[i]\n",
    "        \n",
    "        if persona[1] < personaObjetivo[1]:\n",
    "            if persona[1] == 0:\n",
    "                result += abs(persona[0] - 4)\n",
    "            if persona[1] == 1:\n",
    "                result += abs(persona[0] - 8)\n",
    "                \n",
    "        elif persona[1] > personaObjetivo[1]:\n",
    "            if persona[1] == 2:\n",
    "                result += abs(persona[0] - 8)\n",
    "            if persona[1] == 1:\n",
    "                result += abs(persona[0] - 4)\n",
    "        else:\n",
    "            result += abs(persona[0] - personaObjetivo[0])\n",
    "    \n",
    "    return result\n",
    "            \n",
    "    "
   ]
  },
  {
   "cell_type": "code",
   "execution_count": 59,
   "metadata": {},
   "outputs": [],
   "source": [
    "def manhattan(node):\n",
    "    result = 0\n",
    "    personas = node.state[0]\n",
    "    ascensores = node.state[1]\n",
    "    goal = fin \n",
    "        \n",
    "    for i in range (len(personas)):\n",
    "        result += abs(personas[i][0] - goal[i][0])\n",
    "        if (personas[i][0] != goal[i][0]): \n",
    "            result += distancioPersonaAscensor(personas[i],ascensores)\n",
    "    \n",
    "    return result\n",
    "    "
   ]
  },
  {
   "cell_type": "code",
   "execution_count": 60,
   "metadata": {},
   "outputs": [],
   "source": [
    "#Heuristicas\n",
    "\n",
    "def distancioPersonaAscensor(persona,ascensores): \n",
    "    suma = 0\n",
    "    for i in range (len(ascensores)): \n",
    "        if persona[1] == ascensores[i][1]: \n",
    "            suma += abs(persona[0] - ascensores[i][0])\n",
    "        \n",
    "    return suma \n",
    "    \n",
    "        "
   ]
  },
  {
   "cell_type": "code",
   "execution_count": 61,
   "metadata": {},
   "outputs": [],
   "source": [
    "def distancioPersonaAscensor2(persona,ascensores): \n",
    "    suma = 0\n",
    " \n",
    "    if persona[1] == 0:\n",
    "        suma += ascensores[0][0]\n",
    "    if persona[1] == 1: \n",
    "        suma += ascensores[1][0]\n",
    "        suma += ascensores[2][0]\n",
    "    if persona[1] == 2:\n",
    "        suma += ascensores[3][0]\n",
    "    return suma "
   ]
  },
  {
   "cell_type": "code",
   "execution_count": null,
   "metadata": {},
   "outputs": [],
   "source": []
  },
  {
   "cell_type": "code",
   "execution_count": 62,
   "metadata": {},
   "outputs": [],
   "source": [
    "def manhattanSimple(node):\n",
    "    result = 0\n",
    "    personas = node.state[0]\n",
    "    goal = fin \n",
    "        \n",
    "    for i in range (len(personas)):\n",
    "        result += abs(personas[i][0] - goal[i][0])\n",
    "\n",
    "    return result"
   ]
  },
  {
   "cell_type": "code",
   "execution_count": null,
   "metadata": {},
   "outputs": [],
   "source": [
    "%%time\n",
    "ini = (\n",
    "   ((2,0,-1), (6,1,-1)), \n",
    "    ((0,0,-1,-1), (5,1,-1,-1), (6,1,-1,-1), (10,2,-1,-1))\n",
    ")\n",
    "fin = ( (6, 1, -1), (2, 0, -1))\n",
    "\n",
    "p1 = Ascensores(ini, fin)\n",
    "p1.initial\n",
    "astar_search(p1, manhattanSimple).solution()"
   ]
  },
  {
   "cell_type": "code",
   "execution_count": 64,
   "metadata": {},
   "outputs": [
    {
     "name": "stdout",
     "output_type": "stream",
     "text": [
      "CPU times: user 2.4 s, sys: 11.3 ms, total: 2.41 s\n",
      "Wall time: 2.43 s\n"
     ]
    },
    {
     "data": {
      "text/plain": [
       "[('Montar', 1, -1, 2, 1),\n",
       " ('Bajar', 1, -1, 2, 1),\n",
       " ('Subir', -1, -1, 0, 0),\n",
       " ('Subir', -1, -1, 0, 0),\n",
       " ('Montar', 0, -1, 0, 0),\n",
       " ('Subir', 0, -1, 0, 0),\n",
       " ('Subir', 0, -1, 0, 0),\n",
       " ('Bajar', 1, -1, 2, 1),\n",
       " ('Salir', 1, -1, 2, 0),\n",
       " ('Montar', 1, -1, 0, 0),\n",
       " ('Salir', 0, -1, 0, 1),\n",
       " ('Bajar', 1, 1, 0, 0),\n",
       " ('Montar', 0, -1, 2, 1),\n",
       " ('Subir', 0, -1, 2, 1),\n",
       " ('Subir', 0, -1, 2, 1)]"
      ]
     },
     "execution_count": 64,
     "metadata": {},
     "output_type": "execute_result"
    }
   ],
   "source": [
    "%%time\n",
    "ini = (\n",
    "   ((2,0,-1), (6,1,-1)), \n",
    "    ((0,0,-1,-1), (5,1,-1,-1), (6,1,-1,-1), (10,2,-1,-1))\n",
    ")\n",
    "fin = ( (6, 1, -1), (2, 0, -1))\n",
    "\n",
    "p1 = Ascensores(ini, fin)\n",
    "p1.initial\n",
    "astar_search(p1, manhattan).solution()"
   ]
  },
  {
   "cell_type": "code",
   "execution_count": null,
   "metadata": {},
   "outputs": [],
   "source": [
    "%%time\n",
    "ini = (\n",
    "   ((2,0,-1), (6,1,-1)), \n",
    "    ((0,0,-1,-1), (5,1,-1,-1), (6,1,-1,-1), (10,2,-1,-1))\n",
    ")\n",
    "fin = ( (6, 1, -1), (2, 0, -1))\n",
    "\n",
    "p1 = Ascensores(ini, fin)\n",
    "p1.initial\n",
    "best_first_graph_search(p1, manhattanSimple).solution()"
   ]
  },
  {
   "cell_type": "code",
   "execution_count": null,
   "metadata": {},
   "outputs": [],
   "source": [
    "%%time\n",
    "best_first_graph_search(p, distanciaObjetivoSimple).solution()"
   ]
  },
  {
   "cell_type": "code",
   "execution_count": 67,
   "metadata": {},
   "outputs": [
    {
     "name": "stdout",
     "output_type": "stream",
     "text": [
      "CPU times: user 38.5 ms, sys: 2.18 ms, total: 40.7 ms\n",
      "Wall time: 42.4 ms\n"
     ]
    },
    {
     "data": {
      "text/plain": [
       "[('Subir', -1, -1, 1, 1),\n",
       " ('Subir', -1, -1, 0, 0),\n",
       " ('Subir', -1, -1, 0, 0),\n",
       " ('Montar', 1, -1, 1, 1),\n",
       " ('Bajar', 1, -1, 1, 1),\n",
       " ('Bajar', -1, -1, 2, 1),\n",
       " ('Bajar', 1, -1, 1, 1),\n",
       " ('Bajar', -1, -1, 2, 1),\n",
       " ('Montar', 0, -1, 0, 0),\n",
       " ('Subir', 0, -1, 0, 0),\n",
       " ('Subir', 0, -1, 0, 0),\n",
       " ('Salir', 1, -1, 1, 0),\n",
       " ('Salir', 0, -1, 0, 1),\n",
       " ('Bajar', 1, -1, 0, 0),\n",
       " ('Montar', 1, -1, 0, 0),\n",
       " ('Bajar', 1, -1, 0, 0),\n",
       " ('Salir', 1, -1, 0, 0),\n",
       " ('Bajar', -1, -1, 0, 0),\n",
       " ('Bajar', -1, -1, 0, 0),\n",
       " ('Montar', 0, -1, 2, 1),\n",
       " ('Montar', 0, -1, 1, 1),\n",
       " ('Subir', -1, -1, 0, 0),\n",
       " ('Subir', -1, -1, 0, 0),\n",
       " ('Subir', -1, -1, 0, 0),\n",
       " ('Subir', -1, -1, 0, 0),\n",
       " ('Salir', 0, -1, 1, 0),\n",
       " ('Montar', 0, -1, 0, 0),\n",
       " ('Salir', 0, -1, 0, 1),\n",
       " ('Subir', 0, -1, 2, 1),\n",
       " ('Subir', 0, -1, 2, 1)]"
      ]
     },
     "execution_count": 67,
     "metadata": {},
     "output_type": "execute_result"
    }
   ],
   "source": [
    "%%time\n",
    "ini = (\n",
    "   ((2,0,-1), (6,1,-1)), \n",
    "    ((0,0,-1,-1), (5,1,-1,-1), (6,1,-1,-1), (10,2,-1,-1))\n",
    ")\n",
    "fin = ( (6, 1, -1), (2, 0, -1))\n",
    "\n",
    "p1 = Ascensores(ini, fin)\n",
    "p1.initial\n",
    "#p1.actions(p1.initial)\n",
    "best_first_graph_search(p1, manhattan).solution()"
   ]
  },
  {
   "cell_type": "code",
   "execution_count": null,
   "metadata": {},
   "outputs": [],
   "source": [
    "def montarBajarHeu"
   ]
  },
  {
   "cell_type": "code",
   "execution_count": 53,
   "metadata": {},
   "outputs": [
    {
     "ename": "KeyboardInterrupt",
     "evalue": "",
     "output_type": "error",
     "traceback": [
      "\u001b[0;31m---------------------------------------------------------------------------\u001b[0m",
      "\u001b[0;31mKeyboardInterrupt\u001b[0m                         Traceback (most recent call last)",
      "\u001b[0;32m<ipython-input-53-9d136ba57f01>\u001b[0m in \u001b[0;36m<module>\u001b[0;34m\u001b[0m\n\u001b[1;32m      1\u001b[0m \u001b[0;31m#start_time = time.time() #Compute time of execution\u001b[0m\u001b[0;34m\u001b[0m\u001b[0;34m\u001b[0m\u001b[0;34m\u001b[0m\u001b[0m\n\u001b[0;32m----> 2\u001b[0;31m \u001b[0mbest_first_graph_search\u001b[0m\u001b[0;34m(\u001b[0m\u001b[0mp\u001b[0m\u001b[0;34m,\u001b[0m \u001b[0mlinear\u001b[0m\u001b[0;34m)\u001b[0m\u001b[0;34m.\u001b[0m\u001b[0msolution\u001b[0m\u001b[0;34m(\u001b[0m\u001b[0;34m)\u001b[0m\u001b[0;34m\u001b[0m\u001b[0;34m\u001b[0m\u001b[0m\n\u001b[0m\u001b[1;32m      3\u001b[0m \u001b[0;31m#print(\"--- %s seconds ---\" % (time.time() - start_time))\u001b[0m\u001b[0;34m\u001b[0m\u001b[0;34m\u001b[0m\u001b[0;34m\u001b[0m\u001b[0m\n",
      "\u001b[0;32m~/Ingenieria/TERCERO/IA/PracticasIA/Practica2Ascensores/search.py\u001b[0m in \u001b[0;36mbest_first_graph_search\u001b[0;34m(problem, f, display)\u001b[0m\n\u001b[1;32m    279\u001b[0m         \u001b[0mexplored\u001b[0m\u001b[0;34m.\u001b[0m\u001b[0madd\u001b[0m\u001b[0;34m(\u001b[0m\u001b[0mnode\u001b[0m\u001b[0;34m.\u001b[0m\u001b[0mstate\u001b[0m\u001b[0;34m)\u001b[0m\u001b[0;34m\u001b[0m\u001b[0;34m\u001b[0m\u001b[0m\n\u001b[1;32m    280\u001b[0m         \u001b[0;32mfor\u001b[0m \u001b[0mchild\u001b[0m \u001b[0;32min\u001b[0m \u001b[0mnode\u001b[0m\u001b[0;34m.\u001b[0m\u001b[0mexpand\u001b[0m\u001b[0;34m(\u001b[0m\u001b[0mproblem\u001b[0m\u001b[0;34m)\u001b[0m\u001b[0;34m:\u001b[0m\u001b[0;34m\u001b[0m\u001b[0;34m\u001b[0m\u001b[0m\n\u001b[0;32m--> 281\u001b[0;31m             \u001b[0;32mif\u001b[0m \u001b[0mchild\u001b[0m\u001b[0;34m.\u001b[0m\u001b[0mstate\u001b[0m \u001b[0;32mnot\u001b[0m \u001b[0;32min\u001b[0m \u001b[0mexplored\u001b[0m \u001b[0;32mand\u001b[0m \u001b[0mchild\u001b[0m \u001b[0;32mnot\u001b[0m \u001b[0;32min\u001b[0m \u001b[0mfrontier\u001b[0m\u001b[0;34m:\u001b[0m\u001b[0;34m\u001b[0m\u001b[0;34m\u001b[0m\u001b[0m\n\u001b[0m\u001b[1;32m    282\u001b[0m                 \u001b[0mfrontier\u001b[0m\u001b[0;34m.\u001b[0m\u001b[0mappend\u001b[0m\u001b[0;34m(\u001b[0m\u001b[0mchild\u001b[0m\u001b[0;34m)\u001b[0m\u001b[0;34m\u001b[0m\u001b[0;34m\u001b[0m\u001b[0m\n\u001b[1;32m    283\u001b[0m             \u001b[0;32melif\u001b[0m \u001b[0mchild\u001b[0m \u001b[0;32min\u001b[0m \u001b[0mfrontier\u001b[0m\u001b[0;34m:\u001b[0m\u001b[0;34m\u001b[0m\u001b[0;34m\u001b[0m\u001b[0m\n",
      "\u001b[0;32m~/Ingenieria/TERCERO/IA/PracticasIA/Practica2Ascensores/utils.py\u001b[0m in \u001b[0;36m__contains__\u001b[0;34m(self, key)\u001b[0m\n\u001b[1;32m    875\u001b[0m     \u001b[0;32mdef\u001b[0m \u001b[0m__contains__\u001b[0m\u001b[0;34m(\u001b[0m\u001b[0mself\u001b[0m\u001b[0;34m,\u001b[0m \u001b[0mkey\u001b[0m\u001b[0;34m)\u001b[0m\u001b[0;34m:\u001b[0m\u001b[0;34m\u001b[0m\u001b[0;34m\u001b[0m\u001b[0m\n\u001b[1;32m    876\u001b[0m         \u001b[0;34m\"\"\"Return True if the key is in PriorityQueue.\"\"\"\u001b[0m\u001b[0;34m\u001b[0m\u001b[0;34m\u001b[0m\u001b[0m\n\u001b[0;32m--> 877\u001b[0;31m         \u001b[0;32mreturn\u001b[0m \u001b[0many\u001b[0m\u001b[0;34m(\u001b[0m\u001b[0;34m[\u001b[0m\u001b[0mitem\u001b[0m \u001b[0;34m==\u001b[0m \u001b[0mkey\u001b[0m \u001b[0;32mfor\u001b[0m \u001b[0m_\u001b[0m\u001b[0;34m,\u001b[0m \u001b[0mitem\u001b[0m \u001b[0;32min\u001b[0m \u001b[0mself\u001b[0m\u001b[0;34m.\u001b[0m\u001b[0mheap\u001b[0m\u001b[0;34m]\u001b[0m\u001b[0;34m)\u001b[0m\u001b[0;34m\u001b[0m\u001b[0;34m\u001b[0m\u001b[0m\n\u001b[0m\u001b[1;32m    878\u001b[0m \u001b[0;34m\u001b[0m\u001b[0m\n\u001b[1;32m    879\u001b[0m     \u001b[0;32mdef\u001b[0m \u001b[0m__getitem__\u001b[0m\u001b[0;34m(\u001b[0m\u001b[0mself\u001b[0m\u001b[0;34m,\u001b[0m \u001b[0mkey\u001b[0m\u001b[0;34m)\u001b[0m\u001b[0;34m:\u001b[0m\u001b[0;34m\u001b[0m\u001b[0;34m\u001b[0m\u001b[0m\n",
      "\u001b[0;32m~/Ingenieria/TERCERO/IA/PracticasIA/Practica2Ascensores/utils.py\u001b[0m in \u001b[0;36m<listcomp>\u001b[0;34m(.0)\u001b[0m\n\u001b[1;32m    875\u001b[0m     \u001b[0;32mdef\u001b[0m \u001b[0m__contains__\u001b[0m\u001b[0;34m(\u001b[0m\u001b[0mself\u001b[0m\u001b[0;34m,\u001b[0m \u001b[0mkey\u001b[0m\u001b[0;34m)\u001b[0m\u001b[0;34m:\u001b[0m\u001b[0;34m\u001b[0m\u001b[0;34m\u001b[0m\u001b[0m\n\u001b[1;32m    876\u001b[0m         \u001b[0;34m\"\"\"Return True if the key is in PriorityQueue.\"\"\"\u001b[0m\u001b[0;34m\u001b[0m\u001b[0;34m\u001b[0m\u001b[0m\n\u001b[0;32m--> 877\u001b[0;31m         \u001b[0;32mreturn\u001b[0m \u001b[0many\u001b[0m\u001b[0;34m(\u001b[0m\u001b[0;34m[\u001b[0m\u001b[0mitem\u001b[0m \u001b[0;34m==\u001b[0m \u001b[0mkey\u001b[0m \u001b[0;32mfor\u001b[0m \u001b[0m_\u001b[0m\u001b[0;34m,\u001b[0m \u001b[0mitem\u001b[0m \u001b[0;32min\u001b[0m \u001b[0mself\u001b[0m\u001b[0;34m.\u001b[0m\u001b[0mheap\u001b[0m\u001b[0;34m]\u001b[0m\u001b[0;34m)\u001b[0m\u001b[0;34m\u001b[0m\u001b[0;34m\u001b[0m\u001b[0m\n\u001b[0m\u001b[1;32m    878\u001b[0m \u001b[0;34m\u001b[0m\u001b[0m\n\u001b[1;32m    879\u001b[0m     \u001b[0;32mdef\u001b[0m \u001b[0m__getitem__\u001b[0m\u001b[0;34m(\u001b[0m\u001b[0mself\u001b[0m\u001b[0;34m,\u001b[0m \u001b[0mkey\u001b[0m\u001b[0;34m)\u001b[0m\u001b[0;34m:\u001b[0m\u001b[0;34m\u001b[0m\u001b[0;34m\u001b[0m\u001b[0m\n",
      "\u001b[0;31mKeyboardInterrupt\u001b[0m: "
     ]
    }
   ],
   "source": [
    "#start_time = time.time() #Compute time of execution\n",
    "best_first_graph_search(p, linear).solution()\n",
    "#print(\"--- %s seconds ---\" % (time.time() - start_time))"
   ]
  },
  {
   "cell_type": "code",
   "execution_count": 164,
   "metadata": {},
   "outputs": [
    {
     "name": "stdout",
     "output_type": "stream",
     "text": [
      "--- 4.951805114746094 seconds ---\n"
     ]
    }
   ],
   "source": [
    "start_time = time.time() #Compute time of execution\n",
    "astar_search(p, distanciaObjetivoAlejaAscensor).solution()\n",
    "print(\"--- %s seconds ---\" % (time.time() - start_time))"
   ]
  },
  {
   "cell_type": "code",
   "execution_count": 156,
   "metadata": {},
   "outputs": [
    {
     "name": "stdout",
     "output_type": "stream",
     "text": [
      "--- 0.33469390869140625 seconds ---\n"
     ]
    }
   ],
   "source": [
    "start_time = time.time() #Compute time of execution\n",
    "astar_search(p, distanciaObjetivoSimple).solution()\n",
    "print(\"--- %s seconds ---\" % (time.time() - start_time))"
   ]
  },
  {
   "cell_type": "code",
   "execution_count": 157,
   "metadata": {},
   "outputs": [
    {
     "name": "stdout",
     "output_type": "stream",
     "text": [
      "--- 4.442941188812256 seconds ---\n"
     ]
    }
   ],
   "source": [
    "start_time = time.time() #Compute time of execution\n",
    "astar_search(p, linear).solution()\n",
    "print(\"--- %s seconds ---\" % (time.time() - start_time))"
   ]
  },
  {
   "cell_type": "code",
   "execution_count": null,
   "metadata": {},
   "outputs": [],
   "source": []
  }
 ],
 "metadata": {
  "kernelspec": {
   "display_name": "Python 3",
   "language": "python",
   "name": "python3"
  },
  "language_info": {
   "codemirror_mode": {
    "name": "ipython",
    "version": 3
   },
   "file_extension": ".py",
   "mimetype": "text/x-python",
   "name": "python",
   "nbconvert_exporter": "python",
   "pygments_lexer": "ipython3",
   "version": "3.7.3"
  }
 },
 "nbformat": 4,
 "nbformat_minor": 4
}
